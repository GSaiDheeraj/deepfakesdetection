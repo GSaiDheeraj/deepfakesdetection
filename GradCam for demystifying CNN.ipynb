{
 "cells": [
  {
   "cell_type": "code",
   "execution_count": 1,
   "id": "ff46bd64",
   "metadata": {},
   "outputs": [],
   "source": [
    "# import the necessary packages\n",
    "# from tensorflow.keras.applications import ResNet50\n",
    "# from tensorflow.keras.applications import VGG16\n",
    "# from tensorflow.keras.applications import DenseNet121\n",
    "from tensorflow.keras.preprocessing.image import img_to_array\n",
    "from tensorflow.keras.preprocessing.image import load_img\n",
    "from tensorflow.keras.applications import imagenet_utils\n",
    "from tensorflow.keras.models import Model"
   ]
  },
  {
   "cell_type": "code",
   "execution_count": 2,
   "id": "1a998313",
   "metadata": {},
   "outputs": [],
   "source": [
    "import tensorflow as tf\n",
    "import numpy as np\n",
    "import imutils\n",
    "import cv2"
   ]
  },
  {
   "cell_type": "code",
   "execution_count": 28,
   "id": "57407a61",
   "metadata": {},
   "outputs": [],
   "source": [
    "from keras.models import load_model\n",
    "model =tf.keras.models.load_model(\"C:\\\\Users\\\\saidh\\\\Downloads\\\\End to End Deep Fake Detection\\\\End to End Deep Fake Detection\\\\cutout_96_73.h5\", compile=False)"
   ]
  },
  {
   "cell_type": "code",
   "execution_count": 29,
   "id": "63af1a05",
   "metadata": {},
   "outputs": [],
   "source": [
    "# model = DenseNet121(weights=\"imagenet\")"
   ]
  },
  {
   "cell_type": "code",
   "execution_count": 30,
   "id": "7efc2d0e",
   "metadata": {},
   "outputs": [],
   "source": [
    "# orig = cv2.imread(\"C:\\\\Users\\\\saidh\\\\Downloads\\\\archive\\\\real_vs_fake\\\\real-vs-fake\\\\real\\\\download (3).png\")\n",
    "orig = cv2.imread(\"C:\\\\Users\\\\saidh\\\\Downloads\\\\archive\\\\real_vs_fake\\\\real-vs-fake\\\\train\\\\fake\\\\001DDU0NI4.jpg\")\n",
    "resized = cv2.resize(orig, (224, 224))"
   ]
  },
  {
   "cell_type": "code",
   "execution_count": 31,
   "id": "1a3f8fc7",
   "metadata": {},
   "outputs": [],
   "source": [
    "# load the input image from disk (in Keras/TensorFlow format) and\n",
    "# preprocess it\n",
    "image = load_img(\"C:\\\\Users\\\\saidh\\\\Downloads\\\\archive\\\\real_vs_fake\\\\real-vs-fake\\\\train\\\\fake\\\\001DDU0NI4.jpg\", target_size=(224, 224))\n",
    "image = img_to_array(image)\n",
    "image = np.expand_dims(image, axis=0)\n",
    "image = imagenet_utils.preprocess_input(image)"
   ]
  },
  {
   "cell_type": "code",
   "execution_count": 32,
   "id": "6c50150b",
   "metadata": {},
   "outputs": [],
   "source": [
    "# use the network to make predictions on the input imag and find\n",
    "# the class label index with the largest corresponding probability\n",
    "preds = model.predict(image)\n",
    "# i = np.argmax(preds[0])\n",
    "# print(preds)"
   ]
  },
  {
   "cell_type": "code",
   "execution_count": 33,
   "id": "a07df565",
   "metadata": {},
   "outputs": [],
   "source": [
    "prob = model.predict(image)\n",
    "label = \"Real\" if prob[0][0] >= 0.5 else \"Fake\"\n",
    "classified_prob = prob[0][0] if prob[0][0] >= 0.5 else 1 - prob[0][0]"
   ]
  },
  {
   "cell_type": "code",
   "execution_count": 34,
   "id": "4a3b80f7",
   "metadata": {},
   "outputs": [
    {
     "name": "stdout",
     "output_type": "stream",
     "text": [
      "[[0.15148892]] Fake 0.8485110849142075\n"
     ]
    }
   ],
   "source": [
    "print(prob, label, classified_prob)"
   ]
  },
  {
   "cell_type": "code",
   "execution_count": 35,
   "id": "b4f6674d",
   "metadata": {},
   "outputs": [
    {
     "name": "stdout",
     "output_type": "stream",
     "text": [
      "[INFO] Fake: 84.85%\n"
     ]
    }
   ],
   "source": [
    "# decode the ImageNet predictions to obtain the human-readable label\n",
    "# decoded = imagenet_utils.decode_predictions(preds)\n",
    "label = \"Real\" if prob[0][0] >= 0.5 else \"Fake\"\n",
    "# (imagenetID, label, prob) = decoded[0][0]\n",
    "label = \"{}: {:.2f}%\".format(label, classified_prob * 100)\n",
    "print(\"[INFO] {}\".format(label))"
   ]
  },
  {
   "cell_type": "code",
   "execution_count": 36,
   "id": "82641644",
   "metadata": {},
   "outputs": [],
   "source": [
    "class GradCAM:\n",
    "    def __init__(self, model, classIdx, layerName=None):\n",
    "        # store the model, the class index used to measure the class\n",
    "        # activation map, and the layer to be used when visualizing\n",
    "        # the class activation map\n",
    "        self.model = model\n",
    "        self.classIdx = classIdx\n",
    "        self.layerName = layerName\n",
    "\n",
    "        # if the layer name is None, attempt to automatically find\n",
    "        # the target output layer\n",
    "        if self.layerName is None:\n",
    "            self.layerName = self.find_target_layer()\n",
    "\n",
    "    def find_target_layer(self):\n",
    "        # attempt to find the final convolutional layer in the network\n",
    "        # by looping over the layers of the network in reverse order\n",
    "        for layer in reversed(self.model.layers):\n",
    "            # check to see if the layer has a 2D output\n",
    "            if len(layer.output.shape) == 2:\n",
    "                return layer.name\n",
    "\n",
    "        # otherwise, we could not find a 2D layer so the GradCAM\n",
    "        # algorithm cannot be applied\n",
    "        raise ValueError(\"Could not find 2D layer. Cannot apply GradCAM.\")\n",
    "\n",
    "    def compute_heatmap(self, image, eps=1e-8):\n",
    "        # construct our gradient model by supplying (1) the inputs\n",
    "        # to our pre-trained model, (2) the output of the (presumably)\n",
    "        # final 4D layer in the network, and (3) the output of the\n",
    "        # softmax activations from the model\n",
    "        gradModel = Model(inputs=[self.model.inputs], outputs= [self.model.get_layer(self.layerName).output, self.model.output])\n",
    "\n",
    "        # record operations for automatic differentiation\n",
    "        with tf.GradientTape() as tape:\n",
    "            # cast the image tensor to a float-32 data type, pass the\n",
    "            # image through the gradient model, and grab the loss\n",
    "            # associated with the specific class index\n",
    "            inputs = tf.cast(image, tf.float32)\n",
    "            (convOutputs, predictions) = gradModel(inputs)\n",
    "            loss = predictions[:, self.classIdx]\n",
    "\n",
    "        # use automatic differentiation to compute the gradients\n",
    "        grads = tape.gradient(loss, convOutputs)\n",
    "\n",
    "        # compute the guided gradients\n",
    "        castConvOutputs = tf.cast(convOutputs > 0, \"float32\")\n",
    "        castGrads = tf.cast(grads > 0, \"float32\")\n",
    "        guidedGrads = castConvOutputs * castGrads * grads\n",
    "\n",
    "        # the convolution and guided gradients have a batch dimension\n",
    "        # (which we don't need) so let's grab the volume itself and\n",
    "        # discard the batch\n",
    "        convOutputs = convOutputs[0]\n",
    "        guidedGrads = guidedGrads[0]\n",
    "\n",
    "        # compute the average of the gradient values, and using them\n",
    "        # as weights, compute the ponderation of the filters with\n",
    "        # respect to the weights\n",
    "        weights = tf.reduce_mean(guidedGrads, axis=(0, 1))\n",
    "        cam = tf.reduce_sum(tf.multiply(weights, convOutputs), axis=-1)\n",
    "\n",
    "        # grab the spatial dimensions of the input image and resize\n",
    "        # the output class activation map to match the input image\n",
    "        # dimensions\n",
    "        (w, h) = (image.shape[2], image.shape[1])\n",
    "        heatmap = cv2.resize(cam.numpy(), (w, h))\n",
    "\n",
    "        # normalize the heatmap such that all values lie in the range\n",
    "        # [0, 1], scale the resulting values to the range [0, 255],\n",
    "        # and then convert to an unsigned 8-bit integer\n",
    "        numer = heatmap - np.min(heatmap)\n",
    "        denom = (heatmap.max() - heatmap.min()) + eps\n",
    "        heatmap = numer / denom\n",
    "        heatmap = (heatmap * 255).astype(\"uint8\")\n",
    "\n",
    "        # return the resulting heatmap to the calling function\n",
    "        return heatmap\n",
    "\n",
    "    def overlay_heatmap(self, heatmap, image, alpha=0.5,\n",
    "        colormap=cv2.COLORMAP_JET):\n",
    "        # apply the supplied color map to the heatmap and then\n",
    "        # overlay the heatmap on the input image\n",
    "        heatmap = cv2.applyColorMap(heatmap, colormap)\n",
    "        output = cv2.addWeighted(image, alpha, heatmap, 1 - alpha, 0)\n",
    "\n",
    "        # return a 2-tuple of the color mapped heatmap and the output,\n",
    "        # overlaid image\n",
    "        return (heatmap, output)"
   ]
  },
  {
   "cell_type": "code",
   "execution_count": 37,
   "id": "75a760fe",
   "metadata": {},
   "outputs": [],
   "source": [
    "cam = GradCAM(model, i)\n",
    "heatmap = cam.compute_heatmap(image)"
   ]
  },
  {
   "cell_type": "code",
   "execution_count": 38,
   "id": "d17eafb0",
   "metadata": {},
   "outputs": [],
   "source": [
    "heatmap = cv2.resize(heatmap, (orig.shape[1], orig.shape[0]))\n",
    "(heatmap, output) = cam.overlay_heatmap(heatmap, orig, alpha=0.5)"
   ]
  },
  {
   "cell_type": "code",
   "execution_count": 39,
   "id": "79cab580",
   "metadata": {
    "scrolled": true
   },
   "outputs": [
    {
     "data": {
      "text/plain": [
       "array([[[  0,   0,   0],\n",
       "        [  0,   0,   0],\n",
       "        [  0,   0,   0],\n",
       "        ...,\n",
       "        [  0,   0,   0],\n",
       "        [  0,   0,   0],\n",
       "        [  0,   0,   0]],\n",
       "\n",
       "       [[  0,   0,   0],\n",
       "        [  0,   0,   0],\n",
       "        [  0,   0,   0],\n",
       "        ...,\n",
       "        [  0,   0,   0],\n",
       "        [  0,   0,   0],\n",
       "        [  0,   0,   0]],\n",
       "\n",
       "       [[  0,   0,   0],\n",
       "        [  0,   0,   0],\n",
       "        [  0,   0,   0],\n",
       "        ...,\n",
       "        [  0,   0,   0],\n",
       "        [  0,   0,   0],\n",
       "        [  0,   0,   0]],\n",
       "\n",
       "       ...,\n",
       "\n",
       "       [[  1,   2,  72],\n",
       "        [  3,   4,  74],\n",
       "        [  3,   2,  73],\n",
       "        ...,\n",
       "        [ 79,   8,  98],\n",
       "        [ 78,   6,  97],\n",
       "        [ 78,   8,  98]],\n",
       "\n",
       "       [[  4,   4,  75],\n",
       "        [  2,   2,  73],\n",
       "        [  2,   1,  72],\n",
       "        ...,\n",
       "        [ 74,   5,  96],\n",
       "        [ 80,   9, 100],\n",
       "        [ 79,   9, 100]],\n",
       "\n",
       "       [[  2,   2,  74],\n",
       "        [  2,   2,  74],\n",
       "        [  3,   2,  73],\n",
       "        ...,\n",
       "        [ 78,   8,  98],\n",
       "        [ 76,   6,  98],\n",
       "        [ 78,   8, 100]]], dtype=uint8)"
      ]
     },
     "execution_count": 39,
     "metadata": {},
     "output_type": "execute_result"
    }
   ],
   "source": [
    "# draw the predicted label on the output image\n",
    "cv2.rectangle(output, (0, 0), (340, 40), (0, 0, 0), -1)\n",
    "cv2.putText(output, label, (10, 25), cv2.FONT_HERSHEY_SIMPLEX, 0.8, (255, 255, 255), 2)"
   ]
  },
  {
   "cell_type": "code",
   "execution_count": 40,
   "id": "2cfe786c",
   "metadata": {},
   "outputs": [
    {
     "ename": "KeyboardInterrupt",
     "evalue": "",
     "output_type": "error",
     "traceback": [
      "\u001b[1;31m---------------------------------------------------------------------------\u001b[0m",
      "\u001b[1;31mKeyboardInterrupt\u001b[0m                         Traceback (most recent call last)",
      "\u001b[1;32m<ipython-input-40-37152f537527>\u001b[0m in \u001b[0;36m<module>\u001b[1;34m\u001b[0m\n\u001b[0;32m      2\u001b[0m \u001b[0moutput\u001b[0m \u001b[1;33m=\u001b[0m \u001b[0mimutils\u001b[0m\u001b[1;33m.\u001b[0m\u001b[0mresize\u001b[0m\u001b[1;33m(\u001b[0m\u001b[0moutput\u001b[0m\u001b[1;33m,\u001b[0m \u001b[0mheight\u001b[0m\u001b[1;33m=\u001b[0m\u001b[1;36m700\u001b[0m\u001b[1;33m)\u001b[0m\u001b[1;33m\u001b[0m\u001b[1;33m\u001b[0m\u001b[0m\n\u001b[0;32m      3\u001b[0m \u001b[0mcv2\u001b[0m\u001b[1;33m.\u001b[0m\u001b[0mimshow\u001b[0m\u001b[1;33m(\u001b[0m\u001b[1;34m\"Output\"\u001b[0m\u001b[1;33m,\u001b[0m \u001b[0moutput\u001b[0m\u001b[1;33m)\u001b[0m\u001b[1;33m\u001b[0m\u001b[1;33m\u001b[0m\u001b[0m\n\u001b[1;32m----> 4\u001b[1;33m \u001b[0mcv2\u001b[0m\u001b[1;33m.\u001b[0m\u001b[0mwaitKey\u001b[0m\u001b[1;33m(\u001b[0m\u001b[1;36m0\u001b[0m\u001b[1;33m)\u001b[0m\u001b[1;33m\u001b[0m\u001b[1;33m\u001b[0m\u001b[0m\n\u001b[0m\u001b[0;32m      5\u001b[0m \u001b[0mcv2\u001b[0m\u001b[1;33m.\u001b[0m\u001b[0mdestroyAllWindows\u001b[0m\u001b[1;33m(\u001b[0m\u001b[1;33m)\u001b[0m\u001b[1;33m\u001b[0m\u001b[1;33m\u001b[0m\u001b[0m\n",
      "\u001b[1;31mKeyboardInterrupt\u001b[0m: "
     ]
    }
   ],
   "source": [
    "output = np.vstack([orig, heatmap, output])\n",
    "output = imutils.resize(output, height=700)\n",
    "cv2.imshow(\"Output\", output)\n",
    "cv2.waitKey(0)\n",
    "cv2.destroyAllWindows()"
   ]
  },
  {
   "cell_type": "code",
   "execution_count": 41,
   "id": "5bcf2dbe",
   "metadata": {},
   "outputs": [
    {
     "data": {
      "text/plain": [
       "<keras.engine.sequential.Sequential at 0x2b87199af60>"
      ]
     },
     "execution_count": 41,
     "metadata": {},
     "output_type": "execute_result"
    }
   ],
   "source": [
    "model"
   ]
  },
  {
   "cell_type": "markdown",
   "id": "03c18ac1",
   "metadata": {},
   "source": [
    "# Based on red region model classifies the fake and real images"
   ]
  },
  {
   "cell_type": "code",
   "execution_count": null,
   "id": "19b2e4c6",
   "metadata": {},
   "outputs": [],
   "source": []
  }
 ],
 "metadata": {
  "kernelspec": {
   "display_name": "Python 3",
   "language": "python",
   "name": "python3"
  },
  "language_info": {
   "codemirror_mode": {
    "name": "ipython",
    "version": 3
   },
   "file_extension": ".py",
   "mimetype": "text/x-python",
   "name": "python",
   "nbconvert_exporter": "python",
   "pygments_lexer": "ipython3",
   "version": "3.6.13"
  }
 },
 "nbformat": 4,
 "nbformat_minor": 5
}
