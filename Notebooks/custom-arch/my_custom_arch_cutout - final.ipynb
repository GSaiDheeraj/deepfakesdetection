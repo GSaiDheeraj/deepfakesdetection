{
 "cells": [
  {
   "cell_type": "code",
   "execution_count": 11,
   "metadata": {},
   "outputs": [],
   "source": [
    "%matplotlib inline\n",
    "import matplotlib.pyplot as plt\n",
    "from PIL import Image\n",
    "import numpy as np\n",
    "import math\n",
    "import copy\n",
    "import numpy as np\n",
    "\n",
    "from keras.models import Sequential, Model\n",
    "from keras.layers import Input, Dense, Flatten, Dropout, Activation, Lambda, Permute, Reshape\n",
    "from keras.layers import Convolution2D, ZeroPadding2D, MaxPooling2D\n",
    "from keras_vggface.vggface import VGGFace\n",
    "from keras_vggface import utils\n",
    "from keras.preprocessing import image\n",
    "from keras.preprocessing.image import ImageDataGenerator\n",
    "\n",
    "from sklearn.datasets import load_files       \n",
    "from keras.utils import np_utils\n",
    "import numpy as np\n",
    "from glob import glob\n",
    "import pandas as pd\n",
    "import cv2\n",
    "import scipy.misc\n",
    "import matplotlib.pyplot as plt\n",
    "from tqdm import tqdm"
   ]
  },
  {
   "cell_type": "code",
   "execution_count": 12,
   "metadata": {},
   "outputs": [],
   "source": [
    "from random_eraser import get_random_eraser"
   ]
  },
  {
   "cell_type": "markdown",
   "metadata": {},
   "source": [
    "Augmented data"
   ]
  },
  {
   "cell_type": "code",
   "execution_count": null,
   "metadata": {},
   "outputs": [],
   "source": [
    "def get_random_eraser(p=0.5, s_l=0.02, s_h=0.4, r_1=0.3, r_2=1/0.3, v_l=0, v_h=255, pixel_level=False):\n",
    "    def eraser(input_img):\n",
    "        if input_img.ndim == 3:\n",
    "            img_h, img_w, img_c = input_img.shape\n",
    "        elif input_img.ndim == 2:\n",
    "            img_h, img_w = input_img.shape\n",
    "\n",
    "        p_1 = np.random.rand()\n",
    "\n",
    "        if p_1 > p:\n",
    "            return input_img\n",
    "\n",
    "        while True:\n",
    "            s = np.random.uniform(s_l, s_h) * img_h * img_w\n",
    "            r = np.random.uniform(r_1, r_2)\n",
    "            w = int(np.sqrt(s / r))\n",
    "            h = int(np.sqrt(s * r))\n",
    "            left = np.random.randint(0, img_w)\n",
    "            top = np.random.randint(0, img_h)\n",
    "\n",
    "            if left + w <= img_w and top + h <= img_h:\n",
    "                break\n",
    "\n",
    "        if pixel_level:\n",
    "            if input_img.ndim == 3:\n",
    "                c = np.random.uniform(v_l, v_h, (h, w, img_c))\n",
    "            if input_img.ndim == 2:\n",
    "                c = np.random.uniform(v_l, v_h, (h, w))\n",
    "        else:\n",
    "            c = np.random.uniform(v_l, v_h)\n",
    "\n",
    "        input_img[top:top + h, left:left + w] = c\n",
    "\n",
    "        return input_img\n",
    "\n",
    "    return eraser"
   ]
  },
  {
   "cell_type": "code",
   "execution_count": 13,
   "metadata": {},
   "outputs": [
    {
     "name": "stdout",
     "output_type": "stream",
     "text": [
      "Found 100000 images belonging to 2 classes.\n",
      "Found 20000 images belonging to 2 classes.\n",
      "Found 20000 images belonging to 2 classes.\n"
     ]
    }
   ],
   "source": [
    "base_path = \"C:/Users/saidh/Downloads/archive/real_vs_fake/real-vs-fake/\"\n",
    "\n",
    "\n",
    "batch_size=64\n",
    "\n",
    "image_gen1 =  ImageDataGenerator(\n",
    "        featurewise_center=False,  # set input mean to 0 over the dataset\n",
    "        samplewise_center=False,  # set each sample mean to 0\n",
    "        featurewise_std_normalization=False,  # divide inputs by std of the dataset\n",
    "        samplewise_std_normalization=False,  # divide each input by its std\n",
    "        zca_whitening=False,  # apply ZCA whitening\n",
    "        rotation_range=0,  # randomly rotate images in the range (degrees, 0 to 180)\n",
    "        width_shift_range=0.1,  # randomly shift images horizontally (fraction of total width)\n",
    "        height_shift_range=0.1,  # randomly shift images vertically (fraction of total height)\n",
    "        horizontal_flip=True,  # randomly flip images\n",
    "        vertical_flip=False,  # randomly flip images\n",
    "        preprocessing_function=get_random_eraser(v_l=0, v_h=1, pixel_level=False))\n",
    "\n",
    "train_flow= image_gen1.flow_from_directory(\n",
    "    base_path + 'train/',\n",
    "    target_size = (224, 224),\n",
    "    batch_size = batch_size,\n",
    "    class_mode ='binary'\n",
    ")\n",
    "\n",
    "valid_flow = image_gen1.flow_from_directory(\n",
    "    base_path + 'valid/',\n",
    "    target_size = (224, 224),\n",
    "    batch_size = batch_size,\n",
    "    class_mode = 'binary'\n",
    ")\n",
    "test_flow = image_gen1.flow_from_directory(\n",
    "    base_path + 'test/',\n",
    "    target_size = (224, 224),\n",
    "    batch_size = 1,\n",
    "    shuffle = False,\n",
    "    class_mode ='binary'\n",
    ")"
   ]
  },
  {
   "cell_type": "code",
   "execution_count": 14,
   "metadata": {},
   "outputs": [],
   "source": [
    "from keras.layers import Conv2D, MaxPooling2D, GlobalAveragePooling2D\n",
    "from keras.layers import Dropout, Flatten, Dense\n",
    "from keras.models import Sequential\n",
    "from keras.layers import BatchNormalization\n",
    "# \"\"\"\n",
    "#     Propsoed CNN architecture.\n",
    "    \n",
    "# \"\"\"\n",
    "\n",
    "# model = Sequential()\n",
    "\n",
    "# # Pamameters Initialization\n",
    "# input_shape = (224,224,3)\n",
    "# activation = 'relu'\n",
    "# padding = 'same'\n",
    "# droprate = 0.1\n",
    "# epsilon = 0.001\n",
    "\n",
    "# model = Sequential()\n",
    "# model.add(BatchNormalization(input_shape=input_shape))\n",
    "# model.add(Conv2D(filters=16, kernel_size=3, activation=activation, padding=padding))\n",
    "# model.add(MaxPooling2D(pool_size=2))\n",
    "# model.add(BatchNormalization(epsilon=epsilon))\n",
    "\n",
    "\n",
    "# model.add(Conv2D(filters=32, kernel_size=3, activation=activation, padding=padding))\n",
    "# model.add(MaxPooling2D(pool_size=2))\n",
    "# model.add(BatchNormalization(epsilon=epsilon))\n",
    "# model.add(Dropout(droprate))\n",
    "\n",
    "# model.add(Conv2D(filters=64, kernel_size=3, activation=activation, padding=padding))\n",
    "# model.add(MaxPooling2D(pool_size=2))\n",
    "# model.add(BatchNormalization(epsilon=epsilon))\n",
    "# model.add(Dropout(droprate))\n",
    "\n",
    "# model.add(Conv2D(filters =128, kernel_size=3, activation=activation, padding=padding))\n",
    "# model.add(MaxPooling2D(pool_size=2))\n",
    "# model.add(BatchNormalization(epsilon=epsilon))\n",
    "# model.add(Dropout(droprate))\n",
    "\n",
    "# model.add(Conv2D(filters=256, kernel_size=3, activation=activation, padding=padding))\n",
    "# model.add(MaxPooling2D(pool_size=2))\n",
    "# model.add(BatchNormalization(epsilon=epsilon))\n",
    "# model.add(Dropout(droprate))\n",
    "\n",
    "# model.add(Conv2D(filters=512, kernel_size=3, activation=activation, padding=padding))\n",
    "# model.add(MaxPooling2D(pool_size=2))\n",
    "# model.add(BatchNormalization(epsilon=epsilon))\n",
    "# #model.add(Dropout(droprate))\n",
    "\n",
    "# model.add(GlobalAveragePooling2D())\n",
    "# #model.add(Flatten())\n",
    "# #model.add(Dense(256, kernel_initializer='glorot_normal', activation='relu'))\n",
    "# #model.add(Dropout(0.5))\n",
    "          \n",
    "# #model.add(Dense(128, kernel_initializer='glorot_normal', activation='relu'))\n",
    "# #model.add(Dropout(0.5))\n",
    "# #model.add(Dropout(droprate))\n",
    "# model.add(Dense(1, activation='sigmoid'))\n",
    "\n",
    "# model.summary() # Summary of the architecture"
   ]
  },
  {
   "cell_type": "code",
   "execution_count": 15,
   "metadata": {
    "scrolled": false
   },
   "outputs": [
    {
     "name": "stdout",
     "output_type": "stream",
     "text": [
      "Model: \"sequential_1\"\n",
      "_________________________________________________________________\n",
      "Layer (type)                 Output Shape              Param #   \n",
      "=================================================================\n",
      "batch_normalization_8 (Batch (None, 224, 224, 3)       12        \n",
      "_________________________________________________________________\n",
      "conv2d_7 (Conv2D)            (None, 224, 224, 16)      448       \n",
      "_________________________________________________________________\n",
      "max_pooling2d_7 (MaxPooling2 (None, 112, 112, 16)      0         \n",
      "_________________________________________________________________\n",
      "batch_normalization_9 (Batch (None, 112, 112, 16)      64        \n",
      "_________________________________________________________________\n",
      "conv2d_8 (Conv2D)            (None, 112, 112, 32)      4640      \n",
      "_________________________________________________________________\n",
      "max_pooling2d_8 (MaxPooling2 (None, 56, 56, 32)        0         \n",
      "_________________________________________________________________\n",
      "batch_normalization_10 (Batc (None, 56, 56, 32)        128       \n",
      "_________________________________________________________________\n",
      "dropout_6 (Dropout)          (None, 56, 56, 32)        0         \n",
      "_________________________________________________________________\n",
      "conv2d_9 (Conv2D)            (None, 56, 56, 64)        18496     \n",
      "_________________________________________________________________\n",
      "max_pooling2d_9 (MaxPooling2 (None, 28, 28, 64)        0         \n",
      "_________________________________________________________________\n",
      "batch_normalization_11 (Batc (None, 28, 28, 64)        256       \n",
      "_________________________________________________________________\n",
      "dropout_7 (Dropout)          (None, 28, 28, 64)        0         \n",
      "_________________________________________________________________\n",
      "conv2d_10 (Conv2D)           (None, 28, 28, 128)       73856     \n",
      "_________________________________________________________________\n",
      "max_pooling2d_10 (MaxPooling (None, 14, 14, 128)       0         \n",
      "_________________________________________________________________\n",
      "batch_normalization_12 (Batc (None, 14, 14, 128)       512       \n",
      "_________________________________________________________________\n",
      "dropout_8 (Dropout)          (None, 14, 14, 128)       0         \n",
      "_________________________________________________________________\n",
      "conv2d_11 (Conv2D)           (None, 14, 14, 256)       295168    \n",
      "_________________________________________________________________\n",
      "max_pooling2d_11 (MaxPooling (None, 7, 7, 256)         0         \n",
      "_________________________________________________________________\n",
      "batch_normalization_13 (Batc (None, 7, 7, 256)         1024      \n",
      "_________________________________________________________________\n",
      "dropout_9 (Dropout)          (None, 7, 7, 256)         0         \n",
      "_________________________________________________________________\n",
      "conv2d_12 (Conv2D)           (None, 7, 7, 512)         1180160   \n",
      "_________________________________________________________________\n",
      "max_pooling2d_12 (MaxPooling (None, 3, 3, 512)         0         \n",
      "_________________________________________________________________\n",
      "batch_normalization_14 (Batc (None, 3, 3, 512)         2048      \n",
      "_________________________________________________________________\n",
      "dropout_10 (Dropout)         (None, 3, 3, 512)         0         \n",
      "_________________________________________________________________\n",
      "conv2d_13 (Conv2D)           (None, 3, 3, 1024)        4719616   \n",
      "_________________________________________________________________\n",
      "max_pooling2d_13 (MaxPooling (None, 1, 1, 1024)        0         \n",
      "_________________________________________________________________\n",
      "batch_normalization_15 (Batc (None, 1, 1, 1024)        4096      \n",
      "_________________________________________________________________\n",
      "dropout_11 (Dropout)         (None, 1, 1, 1024)        0         \n",
      "_________________________________________________________________\n",
      "flatten_1 (Flatten)          (None, 1024)              0         \n",
      "_________________________________________________________________\n",
      "dense_1 (Dense)              (None, 1)                 1025      \n",
      "=================================================================\n",
      "Total params: 6,301,549\n",
      "Trainable params: 6,297,479\n",
      "Non-trainable params: 4,070\n",
      "_________________________________________________________________\n"
     ]
    }
   ],
   "source": [
    "input_shape = (224,224,3)\n",
    "epsilon=0.001\n",
    "activation = 'relu'\n",
    "padding = 'same'\n",
    "droprate = 0.1\n",
    "\n",
    "\n",
    "model = Sequential()\n",
    "model.add(BatchNormalization(input_shape=input_shape))\n",
    "model.add(Conv2D(filters=16, kernel_size=3, activation= 'relu', padding='same'))\n",
    "model.add(MaxPooling2D(pool_size=2))\n",
    "model.add(BatchNormalization())\n",
    "\n",
    "model.add(Conv2D(filters=32, kernel_size=3, activation='relu', padding='same'))\n",
    "model.add(MaxPooling2D(pool_size=2))\n",
    "model.add(BatchNormalization())\n",
    "model.add(Dropout(0.1))\n",
    "\n",
    "model.add(Conv2D(filters=64, kernel_size=3, activation='relu', padding='same'))\n",
    "model.add(MaxPooling2D(pool_size=2))\n",
    "model.add(BatchNormalization())\n",
    "model.add(Dropout(0.1))\n",
    "\n",
    "model.add(Conv2D(filters=128, kernel_size=3, activation='relu', padding='same'))\n",
    "model.add(MaxPooling2D(pool_size=2))\n",
    "model.add(BatchNormalization())\n",
    "model.add(Dropout(0.1))\n",
    "\n",
    "model.add(Conv2D(filters=256, kernel_size=3, activation='relu', padding='same'))\n",
    "model.add(MaxPooling2D(pool_size=2))\n",
    "model.add(BatchNormalization())\n",
    "model.add(Dropout(0.1))\n",
    "\n",
    "model.add(Conv2D(filters=512, kernel_size=3, activation='relu', padding='same'))\n",
    "model.add(MaxPooling2D(pool_size=2))\n",
    "model.add(BatchNormalization())\n",
    "model.add(Dropout(0.1))\n",
    "\n",
    "model.add(Conv2D(filters=1024, kernel_size=3, activation='relu', padding='same'))\n",
    "model.add(MaxPooling2D(pool_size=2))\n",
    "model.add(BatchNormalization())\n",
    "model.add(Dropout(0.1))\n",
    "\n",
    "model.add(Flatten())\n",
    "\n",
    "model.add(Dense(1, activation='sigmoid'))\n",
    "\n",
    "model.summary()"
   ]
  },
  {
   "cell_type": "code",
   "execution_count": 16,
   "metadata": {},
   "outputs": [],
   "source": [
    "import tensorflow"
   ]
  },
  {
   "cell_type": "code",
   "execution_count": 17,
   "metadata": {},
   "outputs": [],
   "source": [
    "from tensorflow.keras.optimizers import Adam\n",
    "opt = Adam(lr=0.0001, decay=1e-6)\n",
    "model.compile(loss='binary_crossentropy',optimizer= opt, metrics=['accuracy'])"
   ]
  },
  {
   "cell_type": "code",
   "execution_count": 18,
   "metadata": {},
   "outputs": [],
   "source": [
    "from keras.callbacks import ModelCheckpoint\n",
    "filepath = \"saved-final-model.h5\"\n",
    "checkpoint = ModelCheckpoint(filepath, monitor='val_accuracy', verbose=1, save_best_only=True, mode='max')\n",
    "callbacks_list = [checkpoint]"
   ]
  },
  {
   "cell_type": "code",
   "execution_count": 20,
   "metadata": {},
   "outputs": [
    {
     "name": "stdout",
     "output_type": "stream",
     "text": [
      "Epoch 1/15\n",
      "1000/1000 [==============================] - 682s 682ms/step - loss: 0.5898 - accuracy: 0.6953 - val_loss: 0.9260 - val_accuracy: 0.5870\n",
      "\n",
      "Epoch 00001: val_accuracy improved from -inf to 0.58695, saving model to saved-final-model.h5\n",
      "Epoch 2/15\n",
      "1000/1000 [==============================] - 690s 690ms/step - loss: 0.5393 - accuracy: 0.7332 - val_loss: 0.6174 - val_accuracy: 0.6903\n",
      "\n",
      "Epoch 00002: val_accuracy improved from 0.58695 to 0.69031, saving model to saved-final-model.h5\n",
      "Epoch 3/15\n",
      "1000/1000 [==============================] - 687s 687ms/step - loss: 0.4971 - accuracy: 0.7601 - val_loss: 0.7067 - val_accuracy: 0.6669\n",
      "\n",
      "Epoch 00003: val_accuracy did not improve from 0.69031\n",
      "Epoch 4/15\n",
      "1000/1000 [==============================] - 685s 685ms/step - loss: 0.4573 - accuracy: 0.7852 - val_loss: 0.4976 - val_accuracy: 0.7605\n",
      "\n",
      "Epoch 00004: val_accuracy improved from 0.69031 to 0.76047, saving model to saved-final-model.h5\n",
      "Epoch 5/15\n",
      "1000/1000 [==============================] - 687s 687ms/step - loss: 0.4293 - accuracy: 0.8015 - val_loss: 0.4548 - val_accuracy: 0.7812\n",
      "\n",
      "Epoch 00005: val_accuracy improved from 0.76047 to 0.78125, saving model to saved-final-model.h5\n",
      "Epoch 6/15\n",
      "1000/1000 [==============================] - 681s 681ms/step - loss: 0.3998 - accuracy: 0.8174 - val_loss: 0.4190 - val_accuracy: 0.8074\n",
      "\n",
      "Epoch 00006: val_accuracy improved from 0.78125 to 0.80742, saving model to saved-final-model.h5\n",
      "Epoch 7/15\n",
      "1000/1000 [==============================] - 687s 687ms/step - loss: 0.3771 - accuracy: 0.8298 - val_loss: 0.3990 - val_accuracy: 0.8189\n",
      "\n",
      "Epoch 00007: val_accuracy improved from 0.80742 to 0.81891, saving model to saved-final-model.h5\n",
      "Epoch 8/15\n",
      "1000/1000 [==============================] - 688s 688ms/step - loss: 0.3577 - accuracy: 0.8417 - val_loss: 0.4278 - val_accuracy: 0.8084\n",
      "\n",
      "Epoch 00008: val_accuracy did not improve from 0.81891\n",
      "Epoch 9/15\n",
      "1000/1000 [==============================] - 678s 678ms/step - loss: 0.3315 - accuracy: 0.8546 - val_loss: 0.4547 - val_accuracy: 0.7941\n",
      "\n",
      "Epoch 00009: val_accuracy did not improve from 0.81891\n",
      "Epoch 10/15\n",
      "1000/1000 [==============================] - 682s 682ms/step - loss: 0.3166 - accuracy: 0.8604 - val_loss: 0.4964 - val_accuracy: 0.7902\n",
      "\n",
      "Epoch 00010: val_accuracy did not improve from 0.81891\n",
      "Epoch 11/15\n",
      "1000/1000 [==============================] - 665s 665ms/step - loss: 0.2937 - accuracy: 0.8730 - val_loss: 0.3170 - val_accuracy: 0.8604\n",
      "\n",
      "Epoch 00011: val_accuracy improved from 0.81891 to 0.86039, saving model to saved-final-model.h5\n",
      "Epoch 12/15\n",
      "1000/1000 [==============================] - 643s 643ms/step - loss: 0.2857 - accuracy: 0.8774 - val_loss: 0.3529 - val_accuracy: 0.8505\n",
      "\n",
      "Epoch 00012: val_accuracy did not improve from 0.86039\n",
      "Epoch 13/15\n",
      "1000/1000 [==============================] - 641s 641ms/step - loss: 0.2704 - accuracy: 0.8844 - val_loss: 0.3755 - val_accuracy: 0.8430\n",
      "\n",
      "Epoch 00013: val_accuracy did not improve from 0.86039\n",
      "Epoch 14/15\n",
      "1000/1000 [==============================] - 636s 636ms/step - loss: 0.2587 - accuracy: 0.8900 - val_loss: 0.2785 - val_accuracy: 0.8804\n",
      "\n",
      "Epoch 00014: val_accuracy improved from 0.86039 to 0.88039, saving model to saved-final-model.h5\n",
      "Epoch 15/15\n",
      "1000/1000 [==============================] - 641s 641ms/step - loss: 0.2441 - accuracy: 0.8981 - val_loss: 0.2943 - val_accuracy: 0.8715\n",
      "\n",
      "Epoch 00015: val_accuracy did not improve from 0.88039\n"
     ]
    }
   ],
   "source": [
    "train_steps = 100000//100\n",
    "valid_steps = 20000//100\n",
    "\n",
    "history = model.fit_generator(\n",
    "    train_flow,\n",
    "    epochs =15,\n",
    "    callbacks= callbacks_list,\n",
    "    steps_per_epoch = train_steps,\n",
    "    validation_data = valid_flow,\n",
    "    validation_steps = valid_steps\n",
    ")"
   ]
  },
  {
   "cell_type": "markdown",
   "metadata": {},
   "source": [
    "# ---------------------------------------------------------------------------------------------------------------"
   ]
  },
  {
   "cell_type": "code",
   "execution_count": 10,
   "metadata": {},
   "outputs": [],
   "source": [
    "# Parameters Initialization\n",
    "from tensorflow.keras.optimizers import SGD,Adam,Adadelta\n",
    "import keras\n",
    "#opt = rmsprop(lr=0.0001, decay=1e-6)\n",
    "\n",
    "model.compile(loss='binary_crossentropy',optimizer=Adam(0.0001), metrics=['accuracy'])"
   ]
  },
  {
   "cell_type": "code",
   "execution_count": 12,
   "metadata": {},
   "outputs": [],
   "source": [
    "# from keras.callbacks import ModelCheckpoint, ReduceLROnPlateau\n",
    "# import os"
   ]
  },
  {
   "cell_type": "code",
   "execution_count": 13,
   "metadata": {},
   "outputs": [],
   "source": [
    "# save_dir = os.path.join(os.getcwd(), 'saved_models')\n",
    "# model_name = 'cifar10_resnet_model.h5'\n",
    "# if not os.path.isdir(save_dir):\n",
    "#     os.makedirs(save_dir)\n",
    "# filepath = os.path.join(save_dir, model_name)"
   ]
  },
  {
   "cell_type": "code",
   "execution_count": 14,
   "metadata": {},
   "outputs": [],
   "source": [
    "# checkpoint = ModelCheckpoint(filepath=filepath,\n",
    "#                              verbose=1,\n",
    "#                              save_best_only=True)\n",
    "# lr_reducer = ReduceLROnPlateau(factor=np.sqrt(0.1),\n",
    "#                                cooldown=0,\n",
    "#                                patience=5,\n",
    "#                                min_lr=0.5e-6)\n",
    "# callbacks = [checkpoint, lr_reducer]"
   ]
  },
  {
   "cell_type": "code",
   "execution_count": 16,
   "metadata": {},
   "outputs": [],
   "source": [
    "# data_augmentation = True\n",
    "# random_erasing = True\n",
    "# pixel_level = False"
   ]
  },
  {
   "cell_type": "code",
   "execution_count": 27,
   "metadata": {},
   "outputs": [],
   "source": [
    "# if not data_augmentation:\n",
    "#     print('Not using data augmentation.')\n",
    "#     model.fit(x_train, y_train,\n",
    "#               batch_size=batch_size,\n",
    "#               epochs=epochs,\n",
    "#               validation_data=(x_test, y_test),\n",
    "#               shuffle=True,\n",
    "#               callbacks=callbacks)\n",
    "# else:\n",
    "#     print('Using real-time data augmentation.')\n",
    "#     # This will do preprocessing and realtime data augmentation:\n",
    "#     datagen = ImageDataGenerator(\n",
    "#         featurewise_center=False,  # set input mean to 0 over the dataset\n",
    "#         samplewise_center=False,  # set each sample mean to 0\n",
    "#         featurewise_std_normalization=False,  # divide inputs by std of the dataset\n",
    "#         samplewise_std_normalization=False,  # divide each input by its std\n",
    "#         zca_whitening=False,  # apply ZCA whitening\n",
    "#         rotation_range=0,  # randomly rotate images in the range (degrees, 0 to 180)\n",
    "#         width_shift_range=0.1,  # randomly shift images horizontally (fraction of total width)\n",
    "#         height_shift_range=0.1,  # randomly shift images vertically (fraction of total height)\n",
    "#         horizontal_flip=True,  # randomly flip images\n",
    "#         vertical_flip=False,  # randomly flip images\n",
    "#         preprocessing_function=get_random_eraser(v_l=0, v_h=1, pixel_level=pixel_level))\n",
    "#     datagen.fit(train_flow)\n",
    "\n",
    "#     # Fit the model on the batches generated by datagen.flow().\n",
    "#     model.fit_generator(datagen.flow(train_flow, y_train, batch_size=batch_size),\n",
    "#                         steps_per_epoch=x_train.shape[0] // batch_size,\n",
    "#                         validation_data=(x_test, y_test),\n",
    "#                         epochs=epochs, verbose=1, workers=4,\n",
    "#                         callbacks=callbacks)"
   ]
  },
  {
   "cell_type": "code",
   "execution_count": 11,
   "metadata": {},
   "outputs": [
    {
     "name": "stderr",
     "output_type": "stream",
     "text": [
      "C:\\Users\\saidh\\anaconda3\\envs\\tensorflow\\lib\\site-packages\\keras\\engine\\training.py:1972: UserWarning: `Model.fit_generator` is deprecated and will be removed in a future version. Please use `Model.fit`, which supports generators.\n",
      "  warnings.warn('`Model.fit_generator` is deprecated and '\n"
     ]
    },
    {
     "name": "stdout",
     "output_type": "stream",
     "text": [
      "Epoch 1/10\n",
      "625/625 [==============================] - 2093s 3s/step - loss: 0.7270 - accuracy: 0.6190 - val_loss: 0.6808 - val_accuracy: 0.6266\n",
      "Epoch 2/10\n",
      "625/625 [==============================] - 2002s 3s/step - loss: 0.6299 - accuracy: 0.6658 - val_loss: 0.6858 - val_accuracy: 0.6356\n",
      "Epoch 3/10\n",
      "625/625 [==============================] - 1998s 3s/step - loss: 0.5940 - accuracy: 0.6918 - val_loss: 0.6417 - val_accuracy: 0.6585\n",
      "Epoch 4/10\n",
      "625/625 [==============================] - 1864s 3s/step - loss: 0.5706 - accuracy: 0.7095 - val_loss: 0.5952 - val_accuracy: 0.6977\n",
      "Epoch 5/10\n",
      "625/625 [==============================] - 2019s 3s/step - loss: 0.5450 - accuracy: 0.7268 - val_loss: 0.5832 - val_accuracy: 0.7057\n",
      "Epoch 6/10\n",
      "625/625 [==============================] - 1971s 3s/step - loss: 0.5154 - accuracy: 0.7454 - val_loss: 0.6104 - val_accuracy: 0.6993\n",
      "Epoch 7/10\n",
      "625/625 [==============================] - 1936s 3s/step - loss: 0.5025 - accuracy: 0.7556 - val_loss: 0.5069 - val_accuracy: 0.7532\n",
      "Epoch 8/10\n",
      "625/625 [==============================] - 2057s 3s/step - loss: 0.4819 - accuracy: 0.7704 - val_loss: 0.6691 - val_accuracy: 0.6743\n",
      "Epoch 9/10\n",
      "625/625 [==============================] - 2069s 3s/step - loss: 0.4644 - accuracy: 0.7800 - val_loss: 0.4742 - val_accuracy: 0.7798\n",
      "Epoch 10/10\n",
      "625/625 [==============================] - 1981s 3s/step - loss: 0.4443 - accuracy: 0.7931 - val_loss: 0.5393 - val_accuracy: 0.7444\n"
     ]
    }
   ],
   "source": [
    "# train_steps = 40000//batch_size\n",
    "# valid_steps = 5000//batch_size\n",
    "# history = model.fit_generator(\n",
    "#     train_flow,\n",
    "#     epochs=10,\n",
    "#     steps_per_epoch=train_steps,\n",
    "#     validation_data=valid_flow,\n",
    "#     validation_steps=valid_steps\n",
    "# )"
   ]
  },
  {
   "cell_type": "code",
   "execution_count": 16,
   "metadata": {},
   "outputs": [],
   "source": [
    "model.save(\"custom_augmented_model1.h5\")"
   ]
  },
  {
   "cell_type": "code",
   "execution_count": 21,
   "metadata": {},
   "outputs": [],
   "source": [
    "\"\"\"\n",
    "Plot the training and validation loss\n",
    "epochs - list of epoch numbers\n",
    "loss - training loss for each epoch\n",
    "val_loss - validation loss for each epoch\n",
    "\"\"\"\n",
    "def plot_loss(epochs, loss, val_loss):\n",
    "    plt.plot(epochs, loss, 'bo', label='Training Loss')\n",
    "    plt.plot(epochs, val_loss, 'orange', label = 'Validation Loss')\n",
    "    plt.title('Training and Validation Loss')\n",
    "    plt.legend()\n",
    "    plt.show()\n",
    "\"\"\"\n",
    "Plot the training and validation accuracy\n",
    "epochs - list of epoch numbers\n",
    "acc - training accuracy for each epoch\n",
    "val_acc - validation accuracy for each epoch\n",
    "\"\"\"\n",
    "def plot_accuracy(epochs, acc, val_acc):\n",
    "    plt.plot(epochs, acc, 'bo', label='Training accuracy')\n",
    "    plt.plot(epochs, val_acc, 'orange', label = 'Validation accuracy')\n",
    "    plt.title('Training and Validation Accuracy')\n",
    "    plt.legend()\n",
    "    plt.show()"
   ]
  },
  {
   "cell_type": "code",
   "execution_count": 22,
   "metadata": {},
   "outputs": [],
   "source": [
    "acc = history.history['accuracy']\n",
    "val_acc = history.history['val_accuracy']\n",
    "loss = history.history['loss']\n",
    "val_loss = history.history['val_loss']"
   ]
  },
  {
   "cell_type": "code",
   "execution_count": 23,
   "metadata": {},
   "outputs": [
    {
     "data": {
      "image/png": "[encoded data removed]",
      "text/plain": [
       "<Figure size 432x288 with 1 Axes>"
      ]
     },
     "metadata": {
      "needs_background": "light"
     },
     "output_type": "display_data"
    },
    {
     "data": {
      "image/png": "[encoded data removed]",
      "text/plain": [
       "<Figure size 432x288 with 1 Axes>"
      ]
     },
     "metadata": {
      "needs_background": "light"
     },
     "output_type": "display_data"
    }
   ],
   "source": [
    "plot_loss(range(1, len(loss) + 1), loss, val_loss)\n",
    "plot_accuracy(range(1, len(loss) + 1), acc, val_acc)"
   ]
  },
  {
   "cell_type": "code",
   "execution_count": 24,
   "metadata": {},
   "outputs": [
    {
     "data": {
      "image/png": "[encoded data removed]",
      "text/plain": [
       "<Figure size 432x288 with 1 Axes>"
      ]
     },
     "metadata": {
      "needs_background": "light"
     },
     "output_type": "display_data"
    },
    {
     "data": {
      "image/png": "[encoded data removed]",
      "text/plain": [
       "<Figure size 432x288 with 1 Axes>"
      ]
     },
     "metadata": {
      "needs_background": "light"
     },
     "output_type": "display_data"
    }
   ],
   "source": [
    "plt.plot(history.history['loss'], label='train loss')\n",
    "plt.plot(history.history['val_loss'], label='val loss')\n",
    "plt.legend()\n",
    "plt.show()\n",
    "plt.savefig('LossVal_loss')\n",
    "\n",
    "# plot the accuracy\n",
    "plt.plot(history.history['accuracy'], label='train acc')\n",
    "plt.plot(history.history['val_accuracy'], label='val acc')\n",
    "plt.legend()\n",
    "plt.show()"
   ]
  },
  {
   "cell_type": "code",
   "execution_count": 25,
   "metadata": {},
   "outputs": [],
   "source": [
    "y_pred = model.predict(test_flow)\n",
    "y_test = test_flow.classes"
   ]
  },
  {
   "cell_type": "code",
   "execution_count": 26,
   "metadata": {},
   "outputs": [],
   "source": [
    "from sklearn import metrics"
   ]
  },
  {
   "cell_type": "code",
   "execution_count": 27,
   "metadata": {},
   "outputs": [
    {
     "name": "stdout",
     "output_type": "stream",
     "text": [
      "ROC AUC Score: 0.9508229950000001\n",
      "AP Score: 0.9264288141813466\n",
      "\n",
      "              precision    recall  f1-score   support\n",
      "\n",
      "           0       0.82      0.94      0.87     10000\n",
      "           1       0.93      0.79      0.85     10000\n",
      "\n",
      "    accuracy                           0.86     20000\n",
      "   macro avg       0.87      0.86      0.86     20000\n",
      "weighted avg       0.87      0.86      0.86     20000\n",
      "\n"
     ]
    }
   ],
   "source": [
    "print(\"ROC AUC Score:\", metrics.roc_auc_score(y_test, y_pred))\n",
    "print(\"AP Score:\", metrics.average_precision_score(y_test, y_pred))\n",
    "print()\n",
    "print(metrics.classification_report(y_test, y_pred > 0.5))"
   ]
  },
  {
   "cell_type": "code",
   "execution_count": 28,
   "metadata": {},
   "outputs": [
    {
     "data": {
      "text/plain": [
       "array([0, 0, 0, ..., 1, 1, 1])"
      ]
     },
     "execution_count": 28,
     "metadata": {},
     "output_type": "execute_result"
    }
   ],
   "source": [
    "y_test"
   ]
  },
  {
   "cell_type": "code",
   "execution_count": 29,
   "metadata": {},
   "outputs": [
    {
     "data": {
      "text/plain": [
       "array([0, 0, 0, ..., 1, 1, 1])"
      ]
     },
     "execution_count": 29,
     "metadata": {},
     "output_type": "execute_result"
    }
   ],
   "source": [
    "y_test1 = np.array(y_test)\n",
    "y_test1"
   ]
  },
  {
   "cell_type": "code",
   "execution_count": 30,
   "metadata": {},
   "outputs": [
    {
     "data": {
      "text/plain": [
       "array([[0.11726575],\n",
       "       [0.00140755],\n",
       "       [0.03285345],\n",
       "       ...,\n",
       "       [0.6485505 ],\n",
       "       [0.9793394 ],\n",
       "       [0.9171788 ]], dtype=float32)"
      ]
     },
     "execution_count": 30,
     "metadata": {},
     "output_type": "execute_result"
    }
   ],
   "source": [
    "y_pred"
   ]
  },
  {
   "cell_type": "code",
   "execution_count": 31,
   "metadata": {},
   "outputs": [
    {
     "data": {
      "text/plain": [
       "array([[0],\n",
       "       [0],\n",
       "       [0],\n",
       "       ...,\n",
       "       [1],\n",
       "       [1],\n",
       "       [1]])"
      ]
     },
     "execution_count": 31,
     "metadata": {},
     "output_type": "execute_result"
    }
   ],
   "source": [
    "y_pred1 = y_pred.copy()\n",
    "np.where(y_pred1 > 0.5, 1, 0)"
   ]
  },
  {
   "cell_type": "code",
   "execution_count": 32,
   "metadata": {},
   "outputs": [
    {
     "data": {
      "text/plain": [
       "array([0, 0, 0, ..., 1, 1, 1])"
      ]
     },
     "execution_count": 32,
     "metadata": {},
     "output_type": "execute_result"
    }
   ],
   "source": [
    "y_pred2 = y_pred1.flatten()\n",
    "y_pred2 = np.where(y_pred2 > 0.5, 1, 0)\n",
    "y_pred2"
   ]
  },
  {
   "cell_type": "code",
   "execution_count": 33,
   "metadata": {},
   "outputs": [
    {
     "name": "stdout",
     "output_type": "stream",
     "text": [
      "[[9373  627]\n",
      " [2075 7925]]\n",
      "acc: 0.8649\n",
      "sensitivity: 0.9373\n",
      "specificity: 0.7925\n"
     ]
    }
   ],
   "source": [
    "from sklearn.metrics import confusion_matrix\n",
    "cm = confusion_matrix(y_test,y_pred2)\n",
    "total = sum(sum(cm))\n",
    "acc = (cm[0, 0] + cm[1, 1]) / total\n",
    "sensitivity = cm[0, 0] / (cm[0, 0] + cm[0, 1])\n",
    "specificity = cm[1, 1] / (cm[1, 0] + cm[1, 1])\n",
    "print(cm)\n",
    "print(\"acc: {:.4f}\".format(acc))\n",
    "print(\"sensitivity: {:.4f}\".format(sensitivity))\n",
    "print(\"specificity: {:.4f}\".format(specificity))"
   ]
  },
  {
   "cell_type": "code",
   "execution_count": 34,
   "metadata": {},
   "outputs": [
    {
     "name": "stdout",
     "output_type": "stream",
     "text": [
      "[[9373  627]\n",
      " [2075 7925]]\n",
      "acc: 0.8649\n",
      "sensitivity: 0.9373\n",
      "specificity: 0.7925\n"
     ]
    }
   ],
   "source": [
    "from sklearn.metrics import confusion_matrix\n",
    "cm = confusion_matrix(y_test,y_pred2)\n",
    "total = sum(sum(cm))\n",
    "acc = (cm[0, 0] + cm[1, 1]) / total\n",
    "sensitivity = cm[0, 0] / (cm[0, 0] + cm[0, 1])\n",
    "specificity = cm[1, 1] / (cm[1, 0] + cm[1, 1])\n",
    "print(cm)\n",
    "print(\"acc: {:.4f}\".format(acc))\n",
    "print(\"sensitivity: {:.4f}\".format(sensitivity))\n",
    "print(\"specificity: {:.4f}\".format(specificity))"
   ]
  },
  {
   "cell_type": "code",
   "execution_count": 35,
   "metadata": {},
   "outputs": [
    {
     "data": {
      "text/plain": [
       "<AxesSubplot:>"
      ]
     },
     "execution_count": 35,
     "metadata": {},
     "output_type": "execute_result"
    },
    {
     "data": {
      "image/png": "[encoded data removed]",
      "text/plain": [
       "<Figure size 432x288 with 2 Axes>"
      ]
     },
     "metadata": {
      "needs_background": "light"
     },
     "output_type": "display_data"
    }
   ],
   "source": [
    "import seaborn as sns\n",
    "sns.heatmap(cm,annot=True, fmt='g')"
   ]
  },
  {
   "cell_type": "code",
   "execution_count": null,
   "metadata": {},
   "outputs": [],
   "source": []
  }
 ],
 "metadata": {
  "kernelspec": {
   "display_name": "Python 3",
   "language": "python",
   "name": "python3"
  },
  "language_info": {
   "codemirror_mode": {
    "name": "ipython",
    "version": 3
   },
   "file_extension": ".py",
   "mimetype": "text/x-python",
   "name": "python",
   "nbconvert_exporter": "python",
   "pygments_lexer": "ipython3",
   "version": "3.6.13"
  }
 },
 "nbformat": 4,
 "nbformat_minor": 4
}
