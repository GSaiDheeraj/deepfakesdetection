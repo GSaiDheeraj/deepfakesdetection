{
 "cells": [
  {
   "cell_type": "code",
   "execution_count": 1,
   "metadata": {
    "execution": {
     "iopub.execute_input": "2022-01-29T20:00:11.409709Z",
     "iopub.status.busy": "2022-01-29T20:00:11.409219Z",
     "iopub.status.idle": "2022-01-29T20:00:17.600252Z",
     "shell.execute_reply": "2022-01-29T20:00:17.599470Z",
     "shell.execute_reply.started": "2022-01-29T20:00:11.409619Z"
    }
   },
   "outputs": [],
   "source": [
    "import os\n",
    "import glob\n",
    "import cv2\n",
    "import numpy as np\n",
    "import seaborn as sns\n",
    "from tensorflow.keras import layers\n",
    "from tensorflow.keras.applications import InceptionResNetV2\n",
    "from tensorflow.keras.callbacks import Callback, ModelCheckpoint\n",
    "from tensorflow.keras.preprocessing.image import ImageDataGenerator\n",
    "from tensorflow.keras.models import Sequential, Model, load_model\n",
    "from tensorflow.keras.optimizers import Adam\n",
    "import matplotlib.pyplot as plt\n",
    "import pandas as pd\n",
    "from sklearn.model_selection import train_test_split\n",
    "from sklearn import metrics\n",
    "import tensorflow as tf"
   ]
  },
  {
   "cell_type": "code",
   "execution_count": 2,
   "metadata": {
    "execution": {
     "iopub.execute_input": "2022-01-29T20:02:52.415272Z",
     "iopub.status.busy": "2022-01-29T20:02:52.414439Z",
     "iopub.status.idle": "2022-01-29T20:02:52.421182Z",
     "shell.execute_reply": "2022-01-29T20:02:52.420369Z",
     "shell.execute_reply.started": "2022-01-29T20:02:52.415223Z"
    }
   },
   "outputs": [],
   "source": [
    "base_path = \"../input/140k-real-and-fake-faces/real_vs_fake/real-vs-fake/\""
   ]
  },
  {
   "cell_type": "code",
   "execution_count": 7,
   "metadata": {
    "execution": {
     "iopub.execute_input": "2022-01-29T20:10:48.710886Z",
     "iopub.status.busy": "2022-01-29T20:10:48.710622Z",
     "iopub.status.idle": "2022-01-29T20:11:28.866885Z",
     "shell.execute_reply": "2022-01-29T20:11:28.866119Z",
     "shell.execute_reply.started": "2022-01-29T20:10:48.710855Z"
    }
   },
   "outputs": [
    {
     "name": "stdout",
     "output_type": "stream",
     "text": [
      "Found 100000 images belonging to 2 classes.\n",
      "Found 20000 images belonging to 2 classes.\n",
      "Found 20000 images belonging to 2 classes.\n"
     ]
    }
   ],
   "source": [
    "batch_size=64\n",
    "\n",
    "image_gen =  ImageDataGenerator(\n",
    "        rescale = 1./255.,\n",
    "        featurewise_center=False,  # set input mean to 0 over the dataset\n",
    "        samplewise_center=False,  # set each sample mean to 0\n",
    "        featurewise_std_normalization=False,  # divide inputs by std of the dataset\n",
    "        samplewise_std_normalization=False,  # divide each input by its std\n",
    "        zca_whitening=False,  # apply ZCA whitening\n",
    "        rotation_range=0,  # randomly rotate images in the range (degrees, 0 to 180)\n",
    "        width_shift_range=0.1,  # randomly shift images horizontally (fraction of total width)\n",
    "        height_shift_range=0.1,  # randomly shift images vertically (fraction of total height)\n",
    "        horizontal_flip=True,  # randomly flip images\n",
    "        vertical_flip=False )\n",
    "\n",
    "\n",
    "train_flow= image_gen.flow_from_directory(\n",
    "    base_path + 'train/',\n",
    "    target_size = (299, 299),\n",
    "    batch_size = batch_size,\n",
    "    #color_mode='grayscale',\n",
    "    class_mode ='binary'\n",
    ")\n",
    "valid_flow = image_gen.flow_from_directory(\n",
    "    base_path + 'valid/',\n",
    "    target_size = (299, 299),\n",
    "    batch_size = batch_size,\n",
    "    #color_mode='grayscale',\n",
    "    class_mode = 'binary'\n",
    ")\n",
    "test_flow = image_gen.flow_from_directory(\n",
    "    base_path + 'test/',\n",
    "    target_size = (299, 299),\n",
    "    batch_size = 1,\n",
    "    shuffle = False,\n",
    "    #color_mode='grayscale',\n",
    "    class_mode ='binary'\n",
    ")"
   ]
  },
  {
   "cell_type": "code",
   "execution_count": 8,
   "metadata": {
    "execution": {
     "iopub.execute_input": "2022-01-29T20:11:28.869214Z",
     "iopub.status.busy": "2022-01-29T20:11:28.868705Z",
     "iopub.status.idle": "2022-01-29T20:11:28.875220Z",
     "shell.execute_reply": "2022-01-29T20:11:28.874474Z",
     "shell.execute_reply.started": "2022-01-29T20:11:28.869152Z"
    }
   },
   "outputs": [],
   "source": [
    "from tensorflow.keras import layers\n",
    "from tensorflow.keras.applications import InceptionResNetV2\n",
    "from tensorflow.keras.callbacks import Callback, ModelCheckpoint\n",
    "from tensorflow.keras.preprocessing.image import ImageDataGenerator\n",
    "from tensorflow.keras.models import Sequential, Model, load_model\n",
    "from tensorflow.keras.optimizers import Adam"
   ]
  },
  {
   "cell_type": "code",
   "execution_count": 9,
   "metadata": {
    "execution": {
     "iopub.execute_input": "2022-01-29T20:11:28.876576Z",
     "iopub.status.busy": "2022-01-29T20:11:28.876311Z",
     "iopub.status.idle": "2022-01-29T20:11:35.188945Z",
     "shell.execute_reply": "2022-01-29T20:11:35.188202Z",
     "shell.execute_reply.started": "2022-01-29T20:11:28.876537Z"
    }
   },
   "outputs": [
    {
     "name": "stderr",
     "output_type": "stream",
     "text": [
      "2022-01-29 20:11:28.978439: I tensorflow/stream_executor/cuda/cuda_gpu_executor.cc:937] successful NUMA node read from SysFS had negative value (-1), but there must be at least one NUMA node, so returning NUMA node zero\n",
      "2022-01-29 20:11:29.077959: I tensorflow/stream_executor/cuda/cuda_gpu_executor.cc:937] successful NUMA node read from SysFS had negative value (-1), but there must be at least one NUMA node, so returning NUMA node zero\n",
      "2022-01-29 20:11:29.078648: I tensorflow/stream_executor/cuda/cuda_gpu_executor.cc:937] successful NUMA node read from SysFS had negative value (-1), but there must be at least one NUMA node, so returning NUMA node zero\n",
      "2022-01-29 20:11:29.079846: I tensorflow/core/platform/cpu_feature_guard.cc:142] This TensorFlow binary is optimized with oneAPI Deep Neural Network Library (oneDNN) to use the following CPU instructions in performance-critical operations:  AVX2 AVX512F FMA\n",
      "To enable them in other operations, rebuild TensorFlow with the appropriate compiler flags.\n",
      "2022-01-29 20:11:29.080673: I tensorflow/stream_executor/cuda/cuda_gpu_executor.cc:937] successful NUMA node read from SysFS had negative value (-1), but there must be at least one NUMA node, so returning NUMA node zero\n",
      "2022-01-29 20:11:29.081365: I tensorflow/stream_executor/cuda/cuda_gpu_executor.cc:937] successful NUMA node read from SysFS had negative value (-1), but there must be at least one NUMA node, so returning NUMA node zero\n",
      "2022-01-29 20:11:29.081978: I tensorflow/stream_executor/cuda/cuda_gpu_executor.cc:937] successful NUMA node read from SysFS had negative value (-1), but there must be at least one NUMA node, so returning NUMA node zero\n",
      "2022-01-29 20:11:30.875077: I tensorflow/stream_executor/cuda/cuda_gpu_executor.cc:937] successful NUMA node read from SysFS had negative value (-1), but there must be at least one NUMA node, so returning NUMA node zero\n",
      "2022-01-29 20:11:30.875926: I tensorflow/stream_executor/cuda/cuda_gpu_executor.cc:937] successful NUMA node read from SysFS had negative value (-1), but there must be at least one NUMA node, so returning NUMA node zero\n",
      "2022-01-29 20:11:30.876624: I tensorflow/stream_executor/cuda/cuda_gpu_executor.cc:937] successful NUMA node read from SysFS had negative value (-1), but there must be at least one NUMA node, so returning NUMA node zero\n",
      "2022-01-29 20:11:30.877248: I tensorflow/core/common_runtime/gpu/gpu_device.cc:1510] Created device /job:localhost/replica:0/task:0/device:GPU:0 with 15403 MB memory:  -> device: 0, name: Tesla P100-PCIE-16GB, pci bus id: 0000:00:04.0, compute capability: 6.0\n"
     ]
    },
    {
     "name": "stdout",
     "output_type": "stream",
     "text": [
      "Downloading data from https://storage.googleapis.com/tensorflow/keras-applications/densenet/densenet121_weights_tf_dim_ordering_tf_kernels_notop.h5\n",
      "29089792/29084464 [==============================] - 0s 0us/step\n",
      "29097984/29084464 [==============================] - 0s 0us/step\n"
     ]
    }
   ],
   "source": [
    "Inception = InceptionResNetV2( weights='imagenet', include_top=False, input_shape=(299,299,3) )\n",
    "model = Sequential([ \n",
    "        Inception,\n",
    "        layers.GlobalAveragePooling2D(),\n",
    "        layers.Dense(1, activation='sigmoid')\n",
    "    ])"
   ]
  },
  {
   "cell_type": "code",
   "execution_count": 10,
   "metadata": {
    "execution": {
     "iopub.execute_input": "2022-01-29T20:11:35.191320Z",
     "iopub.status.busy": "2022-01-29T20:11:35.191065Z",
     "iopub.status.idle": "2022-01-29T20:11:35.213675Z",
     "shell.execute_reply": "2022-01-29T20:11:35.212946Z",
     "shell.execute_reply.started": "2022-01-29T20:11:35.191284Z"
    }
   },
   "outputs": [],
   "source": [
    "from tensorflow.keras.optimizers import Adam\n",
    "opt = Adam()\n",
    "model.compile(loss='binary_crossentropy',optimizer= opt, metrics=['accuracy'])"
   ]
  },
  {
   "cell_type": "code",
   "execution_count": 11,
   "metadata": {
    "execution": {
     "iopub.execute_input": "2022-01-29T20:11:35.215151Z",
     "iopub.status.busy": "2022-01-29T20:11:35.214808Z",
     "iopub.status.idle": "2022-01-29T20:11:35.221373Z",
     "shell.execute_reply": "2022-01-29T20:11:35.219325Z",
     "shell.execute_reply.started": "2022-01-29T20:11:35.215113Z"
    }
   },
   "outputs": [],
   "source": [
    "from keras.callbacks import ModelCheckpoint\n",
    "filepath = \"saved-final-model.h5\"\n",
    "checkpoint = ModelCheckpoint(filepath, monitor='val_accuracy', verbose=1, save_best_only=True, mode='max')\n",
    "callbacks_list = [checkpoint]"
   ]
  },
  {
   "cell_type": "code",
   "execution_count": 12,
   "metadata": {
    "execution": {
     "iopub.execute_input": "2022-01-29T20:11:35.223308Z",
     "iopub.status.busy": "2022-01-29T20:11:35.222868Z",
     "iopub.status.idle": "2022-01-29T23:41:11.071729Z",
     "shell.execute_reply": "2022-01-29T23:41:11.070927Z",
     "shell.execute_reply.started": "2022-01-29T20:11:35.223269Z"
    }
   },
   "outputs": [
    {
     "name": "stderr",
     "output_type": "stream",
     "text": [
      "/opt/conda/lib/python3.7/site-packages/keras/engine/training.py:1972: UserWarning: `Model.fit_generator` is deprecated and will be removed in a future version. Please use `Model.fit`, which supports generators.\n",
      "  warnings.warn('`Model.fit_generator` is deprecated and '\n",
      "2022-01-29 20:11:36.446352: I tensorflow/compiler/mlir/mlir_graph_optimization_pass.cc:185] None of the MLIR Optimization Passes are enabled (registered 2)\n"
     ]
    },
    {
     "name": "stdout",
     "output_type": "stream",
     "text": [
      "Epoch 1/10\n"
     ]
    },
    {
     "name": "stderr",
     "output_type": "stream",
     "text": [
      "2022-01-29 20:11:47.704781: I tensorflow/stream_executor/cuda/cuda_dnn.cc:369] Loaded cuDNN version 8005\n"
     ]
    },
    {
     "name": "stdout",
     "output_type": "stream",
     "text": [
      "1000/1000 [==============================] - 1553s 2s/step - loss: 0.2049 - accuracy: 0.9145 - val_loss: 0.5656 - val_accuracy: 0.8359\n",
      "\n",
      "Epoch 00001: val_accuracy improved from -inf to 0.83586, saving model to saved-final-model.h5\n",
      "Epoch 2/10\n",
      "1000/1000 [==============================] - 1314s 1s/step - loss: 0.0998 - accuracy: 0.9615 - val_loss: 0.2571 - val_accuracy: 0.9173\n",
      "\n",
      "Epoch 00002: val_accuracy improved from 0.83586 to 0.91727, saving model to saved-final-model.h5\n",
      "Epoch 3/10\n",
      "1000/1000 [==============================] - 1231s 1s/step - loss: 0.0766 - accuracy: 0.9711 - val_loss: 0.1373 - val_accuracy: 0.9510\n",
      "\n",
      "Epoch 00003: val_accuracy improved from 0.91727 to 0.95102, saving model to saved-final-model.h5\n",
      "Epoch 4/10\n",
      "1000/1000 [==============================] - 1199s 1s/step - loss: 0.0666 - accuracy: 0.9744 - val_loss: 2.6337 - val_accuracy: 0.5606\n",
      "\n",
      "Epoch 00004: val_accuracy did not improve from 0.95102\n",
      "Epoch 5/10\n",
      "1000/1000 [==============================] - 1196s 1s/step - loss: 0.0608 - accuracy: 0.9766 - val_loss: 0.1756 - val_accuracy: 0.9335\n",
      "\n",
      "Epoch 00005: val_accuracy did not improve from 0.95102\n",
      "Epoch 6/10\n",
      "1000/1000 [==============================] - 1192s 1s/step - loss: 0.0527 - accuracy: 0.9802 - val_loss: 0.3741 - val_accuracy: 0.8517\n",
      "\n",
      "Epoch 00006: val_accuracy did not improve from 0.95102\n",
      "Epoch 7/10\n",
      "1000/1000 [==============================] - 1191s 1s/step - loss: 0.0495 - accuracy: 0.9820 - val_loss: 0.2007 - val_accuracy: 0.9257\n",
      "\n",
      "Epoch 00007: val_accuracy did not improve from 0.95102\n",
      "Epoch 8/10\n",
      "1000/1000 [==============================] - 1196s 1s/step - loss: 0.0425 - accuracy: 0.9842 - val_loss: 0.2255 - val_accuracy: 0.9262\n",
      "\n",
      "Epoch 00008: val_accuracy did not improve from 0.95102\n",
      "Epoch 9/10\n",
      "1000/1000 [==============================] - 1185s 1s/step - loss: 0.0399 - accuracy: 0.9851 - val_loss: 0.2705 - val_accuracy: 0.9088\n",
      "\n",
      "Epoch 00009: val_accuracy did not improve from 0.95102\n",
      "Epoch 10/10\n",
      "1000/1000 [==============================] - 1199s 1s/step - loss: 0.0365 - accuracy: 0.9864 - val_loss: 0.0390 - val_accuracy: 0.9854\n",
      "\n",
      "Epoch 00010: val_accuracy improved from 0.95102 to 0.98539, saving model to saved-final-model.h5\n"
     ]
    }
   ],
   "source": [
    "train_steps = 100000//100\n",
    "valid_steps = 20000//100\n",
    "\n",
    "history = model.fit_generator(\n",
    "    train_flow,\n",
    "    epochs =10,\n",
    "    callbacks= callbacks_list,\n",
    "    steps_per_epoch = train_steps,\n",
    "    validation_data = valid_flow,\n",
    "    validation_steps = valid_steps\n",
    ")"
   ]
  },
  {
   "cell_type": "code",
   "execution_count": 13,
   "metadata": {
    "execution": {
     "iopub.execute_input": "2022-01-29T23:41:11.078489Z",
     "iopub.status.busy": "2022-01-29T23:41:11.076142Z",
     "iopub.status.idle": "2022-01-29T23:41:11.547427Z",
     "shell.execute_reply": "2022-01-29T23:41:11.546603Z",
     "shell.execute_reply.started": "2022-01-29T23:41:11.078447Z"
    }
   },
   "outputs": [
    {
     "data": {
      "image/png": "[encoded data removed]",
      "text/plain": [
       "<Figure size 432x288 with 1 Axes>"
      ]
     },
     "metadata": {
      "needs_background": "light"
     },
     "output_type": "display_data"
    },
    {
     "data": {
      "image/png": "[encoded data removed]",
      "text/plain": [
       "<Figure size 432x288 with 1 Axes>"
      ]
     },
     "metadata": {
      "needs_background": "light"
     },
     "output_type": "display_data"
    }
   ],
   "source": [
    "plt.plot(history.history['loss'], label='train loss')\n",
    "plt.plot(history.history['val_loss'], label='val loss')\n",
    "plt.legend()\n",
    "plt.show()\n",
    "plt.savefig('LossVal_loss')\n",
    "\n",
    "# plot the accuracy\n",
    "plt.plot(history.history['accuracy'], label='train acc')\n",
    "plt.plot(history.history['val_accuracy'], label='val acc')\n",
    "plt.legend()\n",
    "plt.show()"
   ]
  },
  {
   "cell_type": "code",
   "execution_count": 14,
   "metadata": {
    "execution": {
     "iopub.execute_input": "2022-01-29T23:41:11.549060Z",
     "iopub.status.busy": "2022-01-29T23:41:11.548706Z",
     "iopub.status.idle": "2022-01-29T23:54:24.846745Z",
     "shell.execute_reply": "2022-01-29T23:54:24.845981Z",
     "shell.execute_reply.started": "2022-01-29T23:41:11.549006Z"
    }
   },
   "outputs": [],
   "source": [
    "y_pred = model.predict(test_flow)\n",
    "y_test = test_flow.classes"
   ]
  },
  {
   "cell_type": "code",
   "execution_count": 15,
   "metadata": {
    "execution": {
     "iopub.execute_input": "2022-01-29T23:54:24.849583Z",
     "iopub.status.busy": "2022-01-29T23:54:24.849016Z",
     "iopub.status.idle": "2022-01-29T23:54:24.853940Z",
     "shell.execute_reply": "2022-01-29T23:54:24.853262Z",
     "shell.execute_reply.started": "2022-01-29T23:54:24.849542Z"
    }
   },
   "outputs": [],
   "source": [
    "from sklearn import metrics"
   ]
  },
  {
   "cell_type": "code",
   "execution_count": 16,
   "metadata": {
    "execution": {
     "iopub.execute_input": "2022-01-29T23:54:24.857038Z",
     "iopub.status.busy": "2022-01-29T23:54:24.856712Z",
     "iopub.status.idle": "2022-01-29T23:54:24.896566Z",
     "shell.execute_reply": "2022-01-29T23:54:24.895827Z",
     "shell.execute_reply.started": "2022-01-29T23:54:24.857001Z"
    }
   },
   "outputs": [
    {
     "name": "stdout",
     "output_type": "stream",
     "text": [
      "ROC AUC Score: 0.9990324\n",
      "AP Score: 0.999013447974687\n",
      "\n",
      "              precision    recall  f1-score   support\n",
      "\n",
      "           0       0.99      0.99      0.99     10000\n",
      "           1       0.99      0.99      0.99     10000\n",
      "\n",
      "    accuracy                           0.99     20000\n",
      "   macro avg       0.99      0.99      0.99     20000\n",
      "weighted avg       0.99      0.99      0.99     20000\n",
      "\n"
     ]
    }
   ],
   "source": [
    "print(\"ROC AUC Score:\", metrics.roc_auc_score(y_test, y_pred))\n",
    "print(\"AP Score:\", metrics.average_precision_score(y_test, y_pred))\n",
    "print()\n",
    "print(metrics.classification_report(y_test, y_pred > 0.5))"
   ]
  },
  {
   "cell_type": "code",
   "execution_count": 17,
   "metadata": {
    "execution": {
     "iopub.execute_input": "2022-01-29T23:54:24.897832Z",
     "iopub.status.busy": "2022-01-29T23:54:24.897606Z",
     "iopub.status.idle": "2022-01-29T23:54:24.903706Z",
     "shell.execute_reply": "2022-01-29T23:54:24.903026Z",
     "shell.execute_reply.started": "2022-01-29T23:54:24.897799Z"
    }
   },
   "outputs": [
    {
     "data": {
      "text/plain": [
       "array([0, 0, 0, ..., 1, 1, 1], dtype=int32)"
      ]
     },
     "execution_count": 17,
     "metadata": {},
     "output_type": "execute_result"
    }
   ],
   "source": [
    "y_test1 = np.array(y_test)\n",
    "y_test1"
   ]
  },
  {
   "cell_type": "code",
   "execution_count": 18,
   "metadata": {
    "execution": {
     "iopub.execute_input": "2022-01-29T23:54:24.905437Z",
     "iopub.status.busy": "2022-01-29T23:54:24.905017Z",
     "iopub.status.idle": "2022-01-29T23:54:24.913901Z",
     "shell.execute_reply": "2022-01-29T23:54:24.913186Z",
     "shell.execute_reply.started": "2022-01-29T23:54:24.905397Z"
    }
   },
   "outputs": [
    {
     "data": {
      "text/plain": [
       "array([0, 0, 0, ..., 1, 1, 1], dtype=int32)"
      ]
     },
     "execution_count": 18,
     "metadata": {},
     "output_type": "execute_result"
    }
   ],
   "source": [
    "y_test1 = np.array(y_test)\n",
    "y_test1"
   ]
  },
  {
   "cell_type": "code",
   "execution_count": 19,
   "metadata": {
    "execution": {
     "iopub.execute_input": "2022-01-29T23:54:24.915486Z",
     "iopub.status.busy": "2022-01-29T23:54:24.915147Z",
     "iopub.status.idle": "2022-01-29T23:54:24.924526Z",
     "shell.execute_reply": "2022-01-29T23:54:24.923687Z",
     "shell.execute_reply.started": "2022-01-29T23:54:24.915443Z"
    }
   },
   "outputs": [
    {
     "data": {
      "text/plain": [
       "array([[0],\n",
       "       [0],\n",
       "       [0],\n",
       "       ...,\n",
       "       [1],\n",
       "       [1],\n",
       "       [1]])"
      ]
     },
     "execution_count": 19,
     "metadata": {},
     "output_type": "execute_result"
    }
   ],
   "source": [
    "y_pred1 = y_pred.copy()\n",
    "np.where(y_pred1 > 0.5, 1, 0)"
   ]
  },
  {
   "cell_type": "code",
   "execution_count": 20,
   "metadata": {
    "execution": {
     "iopub.execute_input": "2022-01-29T23:54:24.926142Z",
     "iopub.status.busy": "2022-01-29T23:54:24.925756Z",
     "iopub.status.idle": "2022-01-29T23:54:24.934337Z",
     "shell.execute_reply": "2022-01-29T23:54:24.933499Z",
     "shell.execute_reply.started": "2022-01-29T23:54:24.926105Z"
    }
   },
   "outputs": [
    {
     "data": {
      "text/plain": [
       "array([0, 0, 0, ..., 1, 1, 1])"
      ]
     },
     "execution_count": 20,
     "metadata": {},
     "output_type": "execute_result"
    }
   ],
   "source": [
    "y_pred2 = y_pred1.flatten()\n",
    "y_pred2 = np.where(y_pred2 > 0.5, 1, 0)\n",
    "y_pred2"
   ]
  },
  {
   "cell_type": "code",
   "execution_count": 21,
   "metadata": {
    "execution": {
     "iopub.execute_input": "2022-01-29T23:54:24.936261Z",
     "iopub.status.busy": "2022-01-29T23:54:24.935935Z",
     "iopub.status.idle": "2022-01-29T23:54:25.008065Z",
     "shell.execute_reply": "2022-01-29T23:54:25.007387Z",
     "shell.execute_reply.started": "2022-01-29T23:54:24.936226Z"
    }
   },
   "outputs": [
    {
     "name": "stdout",
     "output_type": "stream",
     "text": [
      "[[9867  133]\n",
      " [ 138 9862]]\n",
      "acc: 0.9865\n",
      "sensitivity: 0.9867\n",
      "specificity: 0.9862\n"
     ]
    }
   ],
   "source": [
    "from sklearn.metrics import confusion_matrix\n",
    "cm = confusion_matrix(y_test,y_pred2)\n",
    "total = sum(sum(cm))\n",
    "acc = (cm[0, 0] + cm[1, 1]) / total\n",
    "sensitivity = cm[0, 0] / (cm[0, 0] + cm[0, 1])\n",
    "specificity = cm[1, 1] / (cm[1, 0] + cm[1, 1])\n",
    "print(cm)\n",
    "print(\"acc: {:.4f}\".format(acc))\n",
    "print(\"sensitivity: {:.4f}\".format(sensitivity))\n",
    "print(\"specificity: {:.4f}\".format(specificity))"
   ]
  },
  {
   "cell_type": "code",
   "execution_count": 22,
   "metadata": {
    "execution": {
     "iopub.execute_input": "2022-01-29T23:54:25.009561Z",
     "iopub.status.busy": "2022-01-29T23:54:25.009320Z",
     "iopub.status.idle": "2022-01-29T23:54:25.435561Z",
     "shell.execute_reply": "2022-01-29T23:54:25.434887Z",
     "shell.execute_reply.started": "2022-01-29T23:54:25.009530Z"
    }
   },
   "outputs": [
    {
     "data": {
      "text/plain": [
       "<AxesSubplot:>"
      ]
     },
     "execution_count": 22,
     "metadata": {},
     "output_type": "execute_result"
    },
    {
     "data": {
      "image/png": "[encoded data removed]",
      "text/plain": [
       "<Figure size 432x288 with 2 Axes>"
      ]
     },
     "metadata": {
      "needs_background": "light"
     },
     "output_type": "display_data"
    }
   ],
   "source": [
    "import seaborn as sns\n",
    "sns.heatmap(cm,annot=True, fmt='g')"
   ]
  },
  {
   "cell_type": "code",
   "execution_count": null,
   "metadata": {},
   "outputs": [],
   "source": []
  }
 ],
 "metadata": {
  "kernelspec": {
   "display_name": "Python 3",
   "language": "python",
   "name": "python3"
  },
  "language_info": {
   "codemirror_mode": {
    "name": "ipython",
    "version": 3
   },
   "file_extension": ".py",
   "mimetype": "text/x-python",
   "name": "python",
   "nbconvert_exporter": "python",
   "pygments_lexer": "ipython3",
   "version": "3.6.13"
  }
 },
 "nbformat": 4,
 "nbformat_minor": 4
}
