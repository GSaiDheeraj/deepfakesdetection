{
 "cells": [
  {
   "cell_type": "code",
   "execution_count": 1,
   "metadata": {
    "execution": {
     "iopub.execute_input": "2022-01-29T13:21:52.185763Z",
     "iopub.status.busy": "2022-01-29T13:21:52.184967Z",
     "iopub.status.idle": "2022-01-29T13:21:58.016358Z",
     "shell.execute_reply": "2022-01-29T13:21:58.015653Z",
     "shell.execute_reply.started": "2022-01-29T13:21:52.185643Z"
    }
   },
   "outputs": [],
   "source": [
    "import pandas as pd\n",
    "import numpy as np\n",
    "import glob\n",
    "import matplotlib.pyplot as plt\n",
    "import argparse\n",
    "import os\n",
    "from tensorflow.keras.preprocessing.image import ImageDataGenerator\n",
    "from tensorflow.keras.applications import InceptionResNetV2\n",
    "from tensorflow.keras.layers import AveragePooling2D\n",
    "from tensorflow.keras.layers import Dropout\n",
    "from tensorflow.keras.layers import Flatten\n",
    "from tensorflow.keras.layers import Dense\n",
    "from tensorflow.keras.layers import Input\n",
    "from tensorflow.keras.models import Model\n",
    "from tensorflow.keras.optimizers import Adam\n",
    "from tensorflow.keras.utils import to_categorical\n",
    "from sklearn.preprocessing import LabelBinarizer\n",
    "from sklearn.model_selection import train_test_split"
   ]
  },
  {
   "cell_type": "code",
   "execution_count": 2,
   "metadata": {
    "execution": {
     "iopub.execute_input": "2022-01-29T13:22:01.960521Z",
     "iopub.status.busy": "2022-01-29T13:22:01.959835Z",
     "iopub.status.idle": "2022-01-29T13:22:01.971355Z",
     "shell.execute_reply": "2022-01-29T13:22:01.970729Z",
     "shell.execute_reply.started": "2022-01-29T13:22:01.960480Z"
    }
   },
   "outputs": [],
   "source": [
    "def get_random_eraser(p=0.5, s_l=0.02, s_h=0.4, r_1=0.3, r_2=1/0.3, v_l=0, v_h=255, pixel_level=False):\n",
    "    def eraser(input_img):\n",
    "        if input_img.ndim == 3:\n",
    "            img_h, img_w, img_c = input_img.shape\n",
    "        elif input_img.ndim == 2:\n",
    "            img_h, img_w = input_img.shape\n",
    "\n",
    "        p_1 = np.random.rand()\n",
    "\n",
    "        if p_1 > p:\n",
    "            return input_img\n",
    "\n",
    "        while True:\n",
    "            s = np.random.uniform(s_l, s_h) * img_h * img_w\n",
    "            r = np.random.uniform(r_1, r_2)\n",
    "            w = int(np.sqrt(s / r))\n",
    "            h = int(np.sqrt(s * r))\n",
    "            left = np.random.randint(0, img_w)\n",
    "            top = np.random.randint(0, img_h)\n",
    "\n",
    "            if left + w <= img_w and top + h <= img_h:\n",
    "                break\n",
    "\n",
    "        if pixel_level:\n",
    "            if input_img.ndim == 3:\n",
    "                c = np.random.uniform(v_l, v_h, (h, w, img_c))\n",
    "            if input_img.ndim == 2:\n",
    "                c = np.random.uniform(v_l, v_h, (h, w))\n",
    "        else:\n",
    "            c = np.random.uniform(v_l, v_h)\n",
    "\n",
    "        input_img[top:top + h, left:left + w] = c\n",
    "\n",
    "        return input_img\n",
    "\n",
    "    return eraser"
   ]
  },
  {
   "cell_type": "code",
   "execution_count": 3,
   "metadata": {
    "execution": {
     "iopub.execute_input": "2022-01-29T13:22:03.269834Z",
     "iopub.status.busy": "2022-01-29T13:22:03.268974Z",
     "iopub.status.idle": "2022-01-29T13:22:03.274038Z",
     "shell.execute_reply": "2022-01-29T13:22:03.273211Z",
     "shell.execute_reply.started": "2022-01-29T13:22:03.269784Z"
    }
   },
   "outputs": [],
   "source": [
    "base_path = \"../input/140k-real-and-fake-faces/real_vs_fake/real-vs-fake/\""
   ]
  },
  {
   "cell_type": "code",
   "execution_count": 14,
   "metadata": {
    "execution": {
     "iopub.execute_input": "2022-01-29T15:35:50.249443Z",
     "iopub.status.busy": "2022-01-29T15:35:50.248976Z",
     "iopub.status.idle": "2022-01-29T15:36:43.009409Z",
     "shell.execute_reply": "2022-01-29T15:36:43.008653Z",
     "shell.execute_reply.started": "2022-01-29T15:35:50.249404Z"
    }
   },
   "outputs": [
    {
     "name": "stdout",
     "output_type": "stream",
     "text": [
      "Found 100000 images belonging to 2 classes.\n",
      "Found 20000 images belonging to 2 classes.\n",
      "Found 20000 images belonging to 2 classes.\n"
     ]
    }
   ],
   "source": [
    "batch_size=64\n",
    "image_gen =  ImageDataGenerator(\n",
    "        rescale = 1./255.,\n",
    "        featurewise_center=False,  # set input mean to 0 over the dataset\n",
    "        samplewise_center=False,  # set each sample mean to 0\n",
    "        featurewise_std_normalization=False,  # divide inputs by std of the dataset\n",
    "        samplewise_std_normalization=False,  # divide each input by its std\n",
    "        zca_whitening=False,  # apply ZCA whitening\n",
    "        rotation_range=0,  # randomly rotate images in the range (degrees, 0 to 180)\n",
    "        width_shift_range=0.1,  # randomly shift images horizontally (fraction of total width)\n",
    "        height_shift_range=0.1,  # randomly shift images vertically (fraction of total height)\n",
    "        horizontal_flip=True,  # randomly flip images\n",
    "        vertical_flip=False,  # randomly flip images\n",
    "        preprocessing_function=get_random_eraser(v_l=0, v_h=1, pixel_level=False))\n",
    "\n",
    "\n",
    "train_flow= image_gen.flow_from_directory(\n",
    "    base_path + 'train/',\n",
    "    target_size = (299, 299),\n",
    "    batch_size = batch_size,\n",
    "    #color_mode='grayscale',\n",
    "    class_mode ='binary'\n",
    ")\n",
    "valid_flow = image_gen.flow_from_directory(\n",
    "    base_path + 'valid/',\n",
    "    target_size = (299, 299),\n",
    "    batch_size = batch_size,\n",
    "    #color_mode='grayscale',\n",
    "    class_mode = 'binary'\n",
    ")\n",
    "test_flow = image_gen.flow_from_directory(\n",
    "    base_path + 'test/',\n",
    "    target_size = (299, 299),\n",
    "    batch_size = 1,\n",
    "    shuffle = False,\n",
    "    #color_mode='grayscale',\n",
    "    class_mode ='binary'\n",
    ")"
   ]
  },
  {
   "cell_type": "code",
   "execution_count": 5,
   "metadata": {
    "execution": {
     "iopub.execute_input": "2022-01-29T13:23:37.022967Z",
     "iopub.status.busy": "2022-01-29T13:23:37.022272Z",
     "iopub.status.idle": "2022-01-29T13:23:37.029624Z",
     "shell.execute_reply": "2022-01-29T13:23:37.028989Z",
     "shell.execute_reply.started": "2022-01-29T13:23:37.022926Z"
    }
   },
   "outputs": [],
   "source": [
    "from tensorflow.keras import layers\n",
    "from tensorflow.keras.applications import InceptionResNetV2\n",
    "from tensorflow.keras.callbacks import Callback, ModelCheckpoint\n",
    "from tensorflow.keras.preprocessing.image import ImageDataGenerator\n",
    "from tensorflow.keras.models import Sequential, Model, load_model\n",
    "from tensorflow.keras.optimizers import Adam"
   ]
  },
  {
   "cell_type": "code",
   "execution_count": 6,
   "metadata": {
    "execution": {
     "iopub.execute_input": "2022-01-29T13:23:37.031153Z",
     "iopub.status.busy": "2022-01-29T13:23:37.030784Z",
     "iopub.status.idle": "2022-01-29T13:23:37.041206Z",
     "shell.execute_reply": "2022-01-29T13:23:37.040470Z",
     "shell.execute_reply.started": "2022-01-29T13:23:37.031120Z"
    }
   },
   "outputs": [],
   "source": [
    "# def build_model(pretrained):\n",
    "#     model = Sequential([\n",
    "#         pretrained,\n",
    "#         layers.GlobalAveragePooling2D(),\n",
    "#         layers.Dense(1, activation='sigmoid')\n",
    "#     ])\n",
    "    \n",
    "#     model.compile(\n",
    "#         loss='binary_crossentropy',\n",
    "#         optimizer=Adam(),\n",
    "#         metrics=['accuracy']\n",
    "#     )\n",
    "    \n",
    "#     return mode"
   ]
  },
  {
   "cell_type": "code",
   "execution_count": 26,
   "metadata": {
    "execution": {
     "iopub.execute_input": "2022-01-29T15:45:21.324605Z",
     "iopub.status.busy": "2022-01-29T15:45:21.324334Z",
     "iopub.status.idle": "2022-01-29T15:45:24.477374Z",
     "shell.execute_reply": "2022-01-29T15:45:24.476668Z",
     "shell.execute_reply.started": "2022-01-29T15:45:21.324574Z"
    }
   },
   "outputs": [],
   "source": [
    "Inception = InceptionResNetV2(weights='imagenet', include_top=False, input_shape=(299,299,3) )\n",
    "model = Sequential([ \n",
    "        Inception,\n",
    "        layers.GlobalAveragePooling2D(),\n",
    "        layers.Dense(1, activation='sigmoid')\n",
    "    ])"
   ]
  },
  {
   "cell_type": "code",
   "execution_count": 27,
   "metadata": {
    "execution": {
     "iopub.execute_input": "2022-01-29T15:45:24.479305Z",
     "iopub.status.busy": "2022-01-29T15:45:24.479065Z",
     "iopub.status.idle": "2022-01-29T15:45:24.511073Z",
     "shell.execute_reply": "2022-01-29T15:45:24.510182Z",
     "shell.execute_reply.started": "2022-01-29T15:45:24.479271Z"
    }
   },
   "outputs": [
    {
     "name": "stdout",
     "output_type": "stream",
     "text": [
      "Model: \"sequential_3\"\n",
      "_________________________________________________________________\n",
      "Layer (type)                 Output Shape              Param #   \n",
      "=================================================================\n",
      "densenet121 (Functional)     (None, 7, 7, 1024)        7037504   \n",
      "_________________________________________________________________\n",
      "global_average_pooling2d_3 ( (None, 1024)              0         \n",
      "_________________________________________________________________\n",
      "dense_3 (Dense)              (None, 1)                 1025      \n",
      "=================================================================\n",
      "Total params: 7,038,529\n",
      "Trainable params: 6,954,881\n",
      "Non-trainable params: 83,648\n",
      "_________________________________________________________________\n"
     ]
    }
   ],
   "source": [
    "model.summary()"
   ]
  },
  {
   "cell_type": "code",
   "execution_count": 28,
   "metadata": {
    "execution": {
     "iopub.execute_input": "2022-01-29T15:45:24.512817Z",
     "iopub.status.busy": "2022-01-29T15:45:24.512459Z",
     "iopub.status.idle": "2022-01-29T15:45:24.531673Z",
     "shell.execute_reply": "2022-01-29T15:45:24.530906Z",
     "shell.execute_reply.started": "2022-01-29T15:45:24.512778Z"
    }
   },
   "outputs": [],
   "source": [
    "from tensorflow.keras.optimizers import Adam\n",
    "opt = Adam(lr=0.0001)\n",
    "model.compile(loss='binary_crossentropy',optimizer= opt, metrics=['accuracy'])"
   ]
  },
  {
   "cell_type": "code",
   "execution_count": 29,
   "metadata": {
    "execution": {
     "iopub.execute_input": "2022-01-29T15:45:24.534777Z",
     "iopub.status.busy": "2022-01-29T15:45:24.534160Z",
     "iopub.status.idle": "2022-01-29T15:45:24.539656Z",
     "shell.execute_reply": "2022-01-29T15:45:24.538866Z",
     "shell.execute_reply.started": "2022-01-29T15:45:24.534736Z"
    }
   },
   "outputs": [],
   "source": [
    "from keras.callbacks import ModelCheckpoint\n",
    "filepath = \"saved-final-model.h5\"\n",
    "checkpoint = ModelCheckpoint(filepath, monitor='val_accuracy', verbose=1, save_best_only=True, mode='max')\n",
    "callbacks_list = [checkpoint]"
   ]
  },
  {
   "cell_type": "code",
   "execution_count": 30,
   "metadata": {
    "execution": {
     "iopub.execute_input": "2022-01-29T15:45:24.543022Z",
     "iopub.status.busy": "2022-01-29T15:45:24.541259Z",
     "iopub.status.idle": "2022-01-29T18:59:20.882302Z",
     "shell.execute_reply": "2022-01-29T18:59:20.881502Z",
     "shell.execute_reply.started": "2022-01-29T15:45:24.542812Z"
    }
   },
   "outputs": [
    {
     "name": "stdout",
     "output_type": "stream",
     "text": [
      "Epoch 1/10\n",
      "1000/1000 [==============================] - 1183s 1s/step - loss: 0.1246 - accuracy: 0.9485 - val_loss: 0.0575 - val_accuracy: 0.9778\n",
      "\n",
      "Epoch 00001: val_accuracy improved from -inf to 0.97781, saving model to saved-final-model.h5\n",
      "Epoch 2/10\n",
      "1000/1000 [==============================] - 1134s 1s/step - loss: 0.0421 - accuracy: 0.9841 - val_loss: 0.0919 - val_accuracy: 0.9667\n",
      "\n",
      "Epoch 00002: val_accuracy did not improve from 0.97781\n",
      "Epoch 3/10\n",
      "1000/1000 [==============================] - 1132s 1s/step - loss: 0.0309 - accuracy: 0.9886 - val_loss: 0.1130 - val_accuracy: 0.9627\n",
      "\n",
      "Epoch 00003: val_accuracy did not improve from 0.97781\n",
      "Epoch 4/10\n",
      "1000/1000 [==============================] - 1127s 1s/step - loss: 0.0251 - accuracy: 0.9906 - val_loss: 0.0402 - val_accuracy: 0.9841\n",
      "\n",
      "Epoch 00004: val_accuracy improved from 0.97781 to 0.98406, saving model to saved-final-model.h5\n",
      "Epoch 5/10\n",
      "1000/1000 [==============================] - 1118s 1s/step - loss: 0.0220 - accuracy: 0.9919 - val_loss: 0.0214 - val_accuracy: 0.9924\n",
      "\n",
      "Epoch 00005: val_accuracy improved from 0.98406 to 0.99242, saving model to saved-final-model.h5\n",
      "Epoch 6/10\n",
      "1000/1000 [==============================] - 1104s 1s/step - loss: 0.0186 - accuracy: 0.9930 - val_loss: 0.2608 - val_accuracy: 0.9282\n",
      "\n",
      "Epoch 00006: val_accuracy did not improve from 0.99242\n",
      "Epoch 7/10\n",
      "1000/1000 [==============================] - 1106s 1s/step - loss: 0.0184 - accuracy: 0.9936 - val_loss: 0.1231 - val_accuracy: 0.9531\n",
      "\n",
      "Epoch 00007: val_accuracy did not improve from 0.99242\n",
      "Epoch 8/10\n",
      "1000/1000 [==============================] - 1153s 1s/step - loss: 0.0157 - accuracy: 0.9943 - val_loss: 0.0686 - val_accuracy: 0.9758\n",
      "\n",
      "Epoch 00008: val_accuracy did not improve from 0.99242\n",
      "Epoch 9/10\n",
      "1000/1000 [==============================] - 1125s 1s/step - loss: 0.0141 - accuracy: 0.9949 - val_loss: 0.0278 - val_accuracy: 0.9902\n",
      "\n",
      "Epoch 00009: val_accuracy did not improve from 0.99242\n",
      "Epoch 10/10\n",
      "1000/1000 [==============================] - 1123s 1s/step - loss: 0.0137 - accuracy: 0.9953 - val_loss: 0.0240 - val_accuracy: 0.9910\n",
      "\n",
      "Epoch 00010: val_accuracy did not improve from 0.99242\n"
     ]
    }
   ],
   "source": [
    "train_steps = 100000//100\n",
    "valid_steps = 20000//100\n",
    "\n",
    "history = model.fit_generator(\n",
    "    train_flow,\n",
    "    epochs =10,\n",
    "    callbacks= callbacks_list,\n",
    "    steps_per_epoch = train_steps,\n",
    "    validation_data = valid_flow,\n",
    "    validation_steps = valid_steps\n",
    ")"
   ]
  },
  {
   "cell_type": "code",
   "execution_count": 31,
   "metadata": {
    "execution": {
     "iopub.execute_input": "2022-01-29T18:59:20.885371Z",
     "iopub.status.busy": "2022-01-29T18:59:20.885087Z",
     "iopub.status.idle": "2022-01-29T18:59:21.250883Z",
     "shell.execute_reply": "2022-01-29T18:59:21.250188Z",
     "shell.execute_reply.started": "2022-01-29T18:59:20.885333Z"
    }
   },
   "outputs": [
    {
     "data": {
      "image/png": "[encoded data removed]",
      "text/plain": [
       "<Figure size 432x288 with 1 Axes>"
      ]
     },
     "metadata": {
      "needs_background": "light"
     },
     "output_type": "display_data"
    },
    {
     "data": {
      "image/png": "[encoded data removed]",
      "text/plain": [
       "<Figure size 432x288 with 1 Axes>"
      ]
     },
     "metadata": {
      "needs_background": "light"
     },
     "output_type": "display_data"
    }
   ],
   "source": [
    "plt.plot(history.history['loss'], label='train loss')\n",
    "plt.plot(history.history['val_loss'], label='val loss')\n",
    "plt.legend()\n",
    "plt.show()\n",
    "plt.savefig('LossVal_loss')\n",
    "\n",
    "# plot the accuracy\n",
    "plt.plot(history.history['accuracy'], label='train acc')\n",
    "plt.plot(history.history['val_accuracy'], label='val acc')\n",
    "plt.legend()\n",
    "plt.show()"
   ]
  },
  {
   "cell_type": "code",
   "execution_count": 45,
   "metadata": {
    "execution": {
     "iopub.execute_input": "2022-01-29T19:42:15.678508Z",
     "iopub.status.busy": "2022-01-29T19:42:15.677842Z",
     "iopub.status.idle": "2022-01-29T19:50:47.525643Z",
     "shell.execute_reply": "2022-01-29T19:50:47.524897Z",
     "shell.execute_reply.started": "2022-01-29T19:42:15.678468Z"
    }
   },
   "outputs": [],
   "source": [
    "y_pred = model.predict(test_flow)\n",
    "y_test = test_flow.classes"
   ]
  },
  {
   "cell_type": "code",
   "execution_count": 44,
   "metadata": {
    "execution": {
     "iopub.execute_input": "2022-01-29T19:42:07.648346Z",
     "iopub.status.busy": "2022-01-29T19:42:07.647553Z",
     "iopub.status.idle": "2022-01-29T19:42:07.653063Z",
     "shell.execute_reply": "2022-01-29T19:42:07.651964Z",
     "shell.execute_reply.started": "2022-01-29T19:42:07.648306Z"
    }
   },
   "outputs": [],
   "source": [
    "from sklearn import metrics"
   ]
  },
  {
   "cell_type": "code",
   "execution_count": 46,
   "metadata": {
    "execution": {
     "iopub.execute_input": "2022-01-29T19:50:47.527467Z",
     "iopub.status.busy": "2022-01-29T19:50:47.527208Z",
     "iopub.status.idle": "2022-01-29T19:50:47.563601Z",
     "shell.execute_reply": "2022-01-29T19:50:47.562289Z",
     "shell.execute_reply.started": "2022-01-29T19:50:47.527435Z"
    }
   },
   "outputs": [
    {
     "name": "stdout",
     "output_type": "stream",
     "text": [
      "ROC AUC Score: 0.99989602\n",
      "AP Score: 0.9998956293080502\n",
      "\n",
      "              precision    recall  f1-score   support\n",
      "\n",
      "           0       1.00      0.98      0.99     10000\n",
      "           1       0.98      1.00      0.99     10000\n",
      "\n",
      "    accuracy                           0.99     20000\n",
      "   macro avg       0.99      0.99      0.99     20000\n",
      "weighted avg       0.99      0.99      0.99     20000\n",
      "\n"
     ]
    }
   ],
   "source": [
    "print(\"ROC AUC Score:\", metrics.roc_auc_score(y_test, y_pred))\n",
    "print(\"AP Score:\", metrics.average_precision_score(y_test, y_pred))\n",
    "print()\n",
    "print(metrics.classification_report(y_test, y_pred > 0.5))"
   ]
  },
  {
   "cell_type": "code",
   "execution_count": 47,
   "metadata": {
    "execution": {
     "iopub.execute_input": "2022-01-29T19:50:47.565851Z",
     "iopub.status.busy": "2022-01-29T19:50:47.564571Z",
     "iopub.status.idle": "2022-01-29T19:50:47.573206Z",
     "shell.execute_reply": "2022-01-29T19:50:47.572386Z",
     "shell.execute_reply.started": "2022-01-29T19:50:47.565809Z"
    }
   },
   "outputs": [
    {
     "data": {
      "text/plain": [
       "array([0, 0, 0, ..., 1, 1, 1], dtype=int32)"
      ]
     },
     "execution_count": 47,
     "metadata": {},
     "output_type": "execute_result"
    }
   ],
   "source": [
    "y_test1 = np.array(y_test)\n",
    "y_test1"
   ]
  },
  {
   "cell_type": "code",
   "execution_count": 48,
   "metadata": {
    "execution": {
     "iopub.execute_input": "2022-01-29T19:50:47.575705Z",
     "iopub.status.busy": "2022-01-29T19:50:47.575205Z",
     "iopub.status.idle": "2022-01-29T19:50:47.584201Z",
     "shell.execute_reply": "2022-01-29T19:50:47.583275Z",
     "shell.execute_reply.started": "2022-01-29T19:50:47.575486Z"
    }
   },
   "outputs": [
    {
     "data": {
      "text/plain": [
       "array([[0],\n",
       "       [0],\n",
       "       [0],\n",
       "       ...,\n",
       "       [1],\n",
       "       [1],\n",
       "       [1]])"
      ]
     },
     "execution_count": 48,
     "metadata": {},
     "output_type": "execute_result"
    }
   ],
   "source": [
    "y_pred1 = y_pred.copy()\n",
    "np.where(y_pred1 > 0.5, 1, 0)"
   ]
  },
  {
   "cell_type": "code",
   "execution_count": 49,
   "metadata": {
    "execution": {
     "iopub.execute_input": "2022-01-29T19:50:47.586194Z",
     "iopub.status.busy": "2022-01-29T19:50:47.585879Z",
     "iopub.status.idle": "2022-01-29T19:50:47.594166Z",
     "shell.execute_reply": "2022-01-29T19:50:47.593341Z",
     "shell.execute_reply.started": "2022-01-29T19:50:47.586098Z"
    }
   },
   "outputs": [
    {
     "data": {
      "text/plain": [
       "array([0, 0, 0, ..., 1, 1, 1])"
      ]
     },
     "execution_count": 49,
     "metadata": {},
     "output_type": "execute_result"
    }
   ],
   "source": [
    "y_pred2 = y_pred1.flatten()\n",
    "y_pred2 = np.where(y_pred2 > 0.5, 1, 0)\n",
    "y_pred2"
   ]
  },
  {
   "cell_type": "code",
   "execution_count": 50,
   "metadata": {
    "execution": {
     "iopub.execute_input": "2022-01-29T19:50:47.595674Z",
     "iopub.status.busy": "2022-01-29T19:50:47.595332Z",
     "iopub.status.idle": "2022-01-29T19:50:47.667442Z",
     "shell.execute_reply": "2022-01-29T19:50:47.666763Z",
     "shell.execute_reply.started": "2022-01-29T19:50:47.595636Z"
    }
   },
   "outputs": [
    {
     "name": "stdout",
     "output_type": "stream",
     "text": [
      "[[9817  183]\n",
      " [   7 9993]]\n",
      "acc: 0.9905\n",
      "sensitivity: 0.9817\n",
      "specificity: 0.9993\n"
     ]
    }
   ],
   "source": [
    "from sklearn.metrics import confusion_matrix\n",
    "cm = confusion_matrix(y_test,y_pred2)\n",
    "total = sum(sum(cm))\n",
    "acc = (cm[0, 0] + cm[1, 1]) / total\n",
    "sensitivity = cm[0, 0] / (cm[0, 0] + cm[0, 1])\n",
    "specificity = cm[1, 1] / (cm[1, 0] + cm[1, 1])\n",
    "print(cm)\n",
    "print(\"acc: {:.4f}\".format(acc))\n",
    "print(\"sensitivity: {:.4f}\".format(sensitivity))\n",
    "print(\"specificity: {:.4f}\".format(specificity))"
   ]
  },
  {
   "cell_type": "code",
   "execution_count": 51,
   "metadata": {
    "execution": {
     "iopub.execute_input": "2022-01-29T19:50:47.669015Z",
     "iopub.status.busy": "2022-01-29T19:50:47.668784Z",
     "iopub.status.idle": "2022-01-29T19:50:47.867037Z",
     "shell.execute_reply": "2022-01-29T19:50:47.866386Z",
     "shell.execute_reply.started": "2022-01-29T19:50:47.668984Z"
    }
   },
   "outputs": [
    {
     "data": {
      "text/plain": [
       "<AxesSubplot:>"
      ]
     },
     "execution_count": 51,
     "metadata": {},
     "output_type": "execute_result"
    },
    {
     "data": {
      "image/png": "[encoded data removed]",
      "text/plain": [
       "<Figure size 432x288 with 2 Axes>"
      ]
     },
     "metadata": {
      "needs_background": "light"
     },
     "output_type": "display_data"
    }
   ],
   "source": [
    "import seaborn as sns\n",
    "sns.heatmap(cm,annot=True, fmt='g')"
   ]
  },
  {
   "cell_type": "code",
   "execution_count": 52,
   "metadata": {
    "execution": {
     "iopub.execute_input": "2022-01-29T19:50:47.868640Z",
     "iopub.status.busy": "2022-01-29T19:50:47.868382Z",
     "iopub.status.idle": "2022-01-29T19:50:47.873641Z",
     "shell.execute_reply": "2022-01-29T19:50:47.872935Z",
     "shell.execute_reply.started": "2022-01-29T19:50:47.868605Z"
    }
   },
   "outputs": [
    {
     "data": {
      "text/plain": [
       "{'fake': 0, 'real': 1}"
      ]
     },
     "execution_count": 52,
     "metadata": {},
     "output_type": "execute_result"
    }
   ],
   "source": [
    "train_flow.class_indices"
   ]
  },
  {
   "cell_type": "code",
   "execution_count": null,
   "metadata": {},
   "outputs": [],
   "source": []
  }
 ],
 "metadata": {
  "kernelspec": {
   "display_name": "Python 3",
   "language": "python",
   "name": "python3"
  },
  "language_info": {
   "codemirror_mode": {
    "name": "ipython",
    "version": 3
   },
   "file_extension": ".py",
   "mimetype": "text/x-python",
   "name": "python",
   "nbconvert_exporter": "python",
   "pygments_lexer": "ipython3",
   "version": "3.6.13"
  }
 },
 "nbformat": 4,
 "nbformat_minor": 4
}
