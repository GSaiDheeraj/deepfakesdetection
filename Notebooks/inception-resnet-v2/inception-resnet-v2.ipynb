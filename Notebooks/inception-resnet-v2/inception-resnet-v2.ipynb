{
 "cells": [
  {
   "cell_type": "code",
   "execution_count": 1,
   "metadata": {
    "_cell_guid": "b1076dfc-b9ad-4769-8c92-a6c4dae69d19",
    "_uuid": "8f2839f25d086af736a60e9eeb907d3b93b6e0e5",
    "execution": {
     "iopub.execute_input": "2022-01-27T08:31:47.803179Z",
     "iopub.status.busy": "2022-01-27T08:31:47.802527Z",
     "iopub.status.idle": "2022-01-27T08:31:47.826198Z",
     "shell.execute_reply": "2022-01-27T08:31:47.825601Z",
     "shell.execute_reply.started": "2022-01-27T08:31:47.803075Z"
    }
   },
   "outputs": [],
   "source": [
    "# This Python 3 environment comes with many helpful analytics libraries installed\n",
    "# It is defined by the kaggle/python Docker image: https://github.com/kaggle/docker-python\n",
    "# For example, here's several helpful packages to load\n",
    "\n",
    "# import numpy as np # linear algebra\n",
    "# import pandas as pd # data processing, CSV file I/O (e.g. pd.read_csv)\n",
    "\n",
    "# # Input data files are available in the read-only \"../input/\" directory\n",
    "# # For example, running this (by clicking run or pressing Shift+Enter) will list all files under the input directory\n",
    "\n",
    "# import os\n",
    "# for dirname, _, filenames in os.walk('/kaggle/input'):\n",
    "#     for filename in filenames:\n",
    "#         print(os.path.join(dirname, filename))\n",
    "\n",
    "# You can write up to 20GB to the current directory (/kaggle/working/) that gets preserved as output when you create a version using \"Save & Run All\" \n",
    "# You can also write temporary files to /kaggle/temp/, but they won't be saved outside of the current session"
   ]
  },
  {
   "cell_type": "code",
   "execution_count": 1,
   "metadata": {
    "execution": {
     "iopub.execute_input": "2022-01-27T09:47:01.192902Z",
     "iopub.status.busy": "2022-01-27T09:47:01.192518Z",
     "iopub.status.idle": "2022-01-27T09:47:08.210799Z",
     "shell.execute_reply": "2022-01-27T09:47:08.209780Z",
     "shell.execute_reply.started": "2022-01-27T09:47:01.192809Z"
    }
   },
   "outputs": [],
   "source": [
    "import pandas as pd\n",
    "import numpy as np\n",
    "import glob\n",
    "import matplotlib.pyplot as plt\n",
    "import argparse\n",
    "import os\n",
    "from tensorflow.keras.preprocessing.image import ImageDataGenerator\n",
    "from tensorflow.keras.applications import VGG16\n",
    "from tensorflow.keras.layers import AveragePooling2D\n",
    "from tensorflow.keras.layers import Dropout\n",
    "from tensorflow.keras.layers import Flatten\n",
    "from tensorflow.keras.layers import Dense\n",
    "from tensorflow.keras.layers import Input\n",
    "from tensorflow.keras.models import Model\n",
    "from tensorflow.keras.optimizers import Adam\n",
    "from tensorflow.keras.utils import to_categorical\n",
    "from sklearn.preprocessing import LabelBinarizer\n",
    "from sklearn.model_selection import train_test_split"
   ]
  },
  {
   "cell_type": "code",
   "execution_count": null,
   "metadata": {},
   "outputs": [],
   "source": []
  },
  {
   "cell_type": "code",
   "execution_count": 2,
   "metadata": {
    "execution": {
     "iopub.execute_input": "2022-01-27T09:47:12.751892Z",
     "iopub.status.busy": "2022-01-27T09:47:12.751238Z",
     "iopub.status.idle": "2022-01-27T09:47:12.764835Z",
     "shell.execute_reply": "2022-01-27T09:47:12.763841Z",
     "shell.execute_reply.started": "2022-01-27T09:47:12.751852Z"
    }
   },
   "outputs": [],
   "source": [
    "def get_random_eraser(p=0.5, s_l=0.02, s_h=0.4, r_1=0.3, r_2=1/0.3, v_l=0, v_h=255, pixel_level=False):\n",
    "    def eraser(input_img):\n",
    "        if input_img.ndim == 3:\n",
    "            img_h, img_w, img_c = input_img.shape\n",
    "        elif input_img.ndim == 2:\n",
    "            img_h, img_w = input_img.shape\n",
    "\n",
    "        p_1 = np.random.rand()\n",
    "\n",
    "        if p_1 > p:\n",
    "            return input_img\n",
    "\n",
    "        while True:\n",
    "            s = np.random.uniform(s_l, s_h) * img_h * img_w\n",
    "            r = np.random.uniform(r_1, r_2)\n",
    "            w = int(np.sqrt(s / r))\n",
    "            h = int(np.sqrt(s * r))\n",
    "            left = np.random.randint(0, img_w)\n",
    "            top = np.random.randint(0, img_h)\n",
    "\n",
    "            if left + w <= img_w and top + h <= img_h:\n",
    "                break\n",
    "\n",
    "        if pixel_level:\n",
    "            if input_img.ndim == 3:\n",
    "                c = np.random.uniform(v_l, v_h, (h, w, img_c))\n",
    "            if input_img.ndim == 2:\n",
    "                c = np.random.uniform(v_l, v_h, (h, w))\n",
    "        else:\n",
    "            c = np.random.uniform(v_l, v_h)\n",
    "\n",
    "        input_img[top:top + h, left:left + w] = c\n",
    "\n",
    "        return input_img\n",
    "\n",
    "    return eraser"
   ]
  },
  {
   "cell_type": "code",
   "execution_count": 3,
   "metadata": {
    "execution": {
     "iopub.execute_input": "2022-01-27T09:47:25.079064Z",
     "iopub.status.busy": "2022-01-27T09:47:25.078745Z",
     "iopub.status.idle": "2022-01-27T09:47:25.085583Z",
     "shell.execute_reply": "2022-01-27T09:47:25.084420Z",
     "shell.execute_reply.started": "2022-01-27T09:47:25.079033Z"
    }
   },
   "outputs": [],
   "source": [
    "base_path = \"../input/140k-real-and-fake-faces/real_vs_fake/real-vs-fake/\""
   ]
  },
  {
   "cell_type": "code",
   "execution_count": 4,
   "metadata": {
    "execution": {
     "iopub.execute_input": "2022-01-27T09:47:35.396155Z",
     "iopub.status.busy": "2022-01-27T09:47:35.395837Z",
     "iopub.status.idle": "2022-01-27T09:49:16.155917Z",
     "shell.execute_reply": "2022-01-27T09:49:16.154847Z",
     "shell.execute_reply.started": "2022-01-27T09:47:35.396122Z"
    }
   },
   "outputs": [
    {
     "name": "stdout",
     "output_type": "stream",
     "text": [
      "Found 100000 images belonging to 2 classes.\n",
      "Found 20000 images belonging to 2 classes.\n",
      "Found 20000 images belonging to 2 classes.\n"
     ]
    }
   ],
   "source": [
    "#base_path = \"C:/Users/saidh/Downloads/deepfake-image-detection/archive/real_vs_fake/real-vs-fake/\"\n",
    "batch_size=64\n",
    "image_gen =  ImageDataGenerator(\n",
    "        rescale = 1./255.,\n",
    "        featurewise_center=False,  # set input mean to 0 over the dataset\n",
    "        samplewise_center=False,  # set each sample mean to 0\n",
    "        featurewise_std_normalization=False,  # divide inputs by std of the dataset\n",
    "        samplewise_std_normalization=False,  # divide each input by its std\n",
    "        zca_whitening=False,  # apply ZCA whitening\n",
    "        rotation_range=0,  # randomly rotate images in the range (degrees, 0 to 180)\n",
    "        width_shift_range=0.1,  # randomly shift images horizontally (fraction of total width)\n",
    "        height_shift_range=0.1,  # randomly shift images vertically (fraction of total height)\n",
    "        horizontal_flip=True,  # randomly flip images\n",
    "        vertical_flip=False,  # randomly flip images\n",
    "        preprocessing_function=get_random_eraser(v_l=0, v_h=1, pixel_level=False))\n",
    "\n",
    "\n",
    "train_flow= image_gen.flow_from_directory(\n",
    "    base_path + 'train/',\n",
    "    target_size = (299, 299),\n",
    "    batch_size = batch_size,\n",
    "    class_mode ='binary'\n",
    ")\n",
    "valid_flow = image_gen.flow_from_directory(\n",
    "    base_path + 'valid/',\n",
    "    target_size = (299, 299),\n",
    "    batch_size = batch_size,\n",
    "    class_mode = 'binary'\n",
    ")\n",
    "test_flow = image_gen.flow_from_directory(\n",
    "    base_path + 'test/',\n",
    "    target_size = (299, 299),\n",
    "    batch_size = 1,\n",
    "    shuffle = False,\n",
    "    class_mode ='binary'\n",
    ")"
   ]
  },
  {
   "cell_type": "code",
   "execution_count": 5,
   "metadata": {
    "execution": {
     "iopub.execute_input": "2022-01-27T09:49:16.163953Z",
     "iopub.status.busy": "2022-01-27T09:49:16.161440Z",
     "iopub.status.idle": "2022-01-27T09:49:16.173694Z",
     "shell.execute_reply": "2022-01-27T09:49:16.172689Z",
     "shell.execute_reply.started": "2022-01-27T09:49:16.163907Z"
    }
   },
   "outputs": [],
   "source": [
    "from tensorflow.keras import layers\n",
    "from tensorflow.keras.applications import InceptionResNetV2\n",
    "from tensorflow.keras.callbacks import Callback, ModelCheckpoint\n",
    "from tensorflow.keras.preprocessing.image import ImageDataGenerator\n",
    "from tensorflow.keras.models import Sequential, Model, load_model\n",
    "from tensorflow.keras.optimizers import Adam"
   ]
  },
  {
   "cell_type": "code",
   "execution_count": 6,
   "metadata": {
    "execution": {
     "iopub.execute_input": "2022-01-27T09:49:16.183581Z",
     "iopub.status.busy": "2022-01-27T09:49:16.179929Z",
     "iopub.status.idle": "2022-01-27T09:49:25.365098Z",
     "shell.execute_reply": "2022-01-27T09:49:25.364122Z",
     "shell.execute_reply.started": "2022-01-27T09:49:16.183529Z"
    }
   },
   "outputs": [
    {
     "name": "stderr",
     "output_type": "stream",
     "text": [
      "2022-01-27 09:49:16.319862: I tensorflow/stream_executor/cuda/cuda_gpu_executor.cc:937] successful NUMA node read from SysFS had negative value (-1), but there must be at least one NUMA node, so returning NUMA node zero\n",
      "2022-01-27 09:49:16.432491: I tensorflow/stream_executor/cuda/cuda_gpu_executor.cc:937] successful NUMA node read from SysFS had negative value (-1), but there must be at least one NUMA node, so returning NUMA node zero\n",
      "2022-01-27 09:49:16.433561: I tensorflow/stream_executor/cuda/cuda_gpu_executor.cc:937] successful NUMA node read from SysFS had negative value (-1), but there must be at least one NUMA node, so returning NUMA node zero\n",
      "2022-01-27 09:49:16.435466: I tensorflow/core/platform/cpu_feature_guard.cc:142] This TensorFlow binary is optimized with oneAPI Deep Neural Network Library (oneDNN) to use the following CPU instructions in performance-critical operations:  AVX2 FMA\n",
      "To enable them in other operations, rebuild TensorFlow with the appropriate compiler flags.\n",
      "2022-01-27 09:49:16.436637: I tensorflow/stream_executor/cuda/cuda_gpu_executor.cc:937] successful NUMA node read from SysFS had negative value (-1), but there must be at least one NUMA node, so returning NUMA node zero\n",
      "2022-01-27 09:49:16.437719: I tensorflow/stream_executor/cuda/cuda_gpu_executor.cc:937] successful NUMA node read from SysFS had negative value (-1), but there must be at least one NUMA node, so returning NUMA node zero\n",
      "2022-01-27 09:49:16.438742: I tensorflow/stream_executor/cuda/cuda_gpu_executor.cc:937] successful NUMA node read from SysFS had negative value (-1), but there must be at least one NUMA node, so returning NUMA node zero\n",
      "2022-01-27 09:49:18.682749: I tensorflow/stream_executor/cuda/cuda_gpu_executor.cc:937] successful NUMA node read from SysFS had negative value (-1), but there must be at least one NUMA node, so returning NUMA node zero\n",
      "2022-01-27 09:49:18.683836: I tensorflow/stream_executor/cuda/cuda_gpu_executor.cc:937] successful NUMA node read from SysFS had negative value (-1), but there must be at least one NUMA node, so returning NUMA node zero\n",
      "2022-01-27 09:49:18.684975: I tensorflow/stream_executor/cuda/cuda_gpu_executor.cc:937] successful NUMA node read from SysFS had negative value (-1), but there must be at least one NUMA node, so returning NUMA node zero\n",
      "2022-01-27 09:49:18.685946: I tensorflow/core/common_runtime/gpu/gpu_device.cc:1510] Created device /job:localhost/replica:0/task:0/device:GPU:0 with 15403 MB memory:  -> device: 0, name: Tesla P100-PCIE-16GB, pci bus id: 0000:00:04.0, compute capability: 6.0\n"
     ]
    }
   ],
   "source": [
    "IR = InceptionResNetV2( weights=None, include_top=False, input_shape=(224,224,3) )\n",
    "model = Sequential([ \n",
    "        IR,\n",
    "        layers.GlobalAveragePooling2D(),\n",
    "        layers.Dense(64, activation='relu'),\n",
    "        layers.Dense(1, activation='sigmoid')\n",
    "    ])"
   ]
  },
  {
   "cell_type": "code",
   "execution_count": 7,
   "metadata": {
    "execution": {
     "iopub.execute_input": "2022-01-27T09:49:25.367867Z",
     "iopub.status.busy": "2022-01-27T09:49:25.367530Z",
     "iopub.status.idle": "2022-01-27T09:49:25.402144Z",
     "shell.execute_reply": "2022-01-27T09:49:25.401171Z",
     "shell.execute_reply.started": "2022-01-27T09:49:25.367821Z"
    }
   },
   "outputs": [
    {
     "name": "stderr",
     "output_type": "stream",
     "text": [
      "/opt/conda/lib/python3.7/site-packages/keras/optimizer_v2/optimizer_v2.py:356: UserWarning: The `lr` argument is deprecated, use `learning_rate` instead.\n",
      "  \"The `lr` argument is deprecated, use `learning_rate` instead.\")\n"
     ]
    }
   ],
   "source": [
    "from tensorflow.keras.optimizers import Adam\n",
    "opt = Adam(lr=0.0001, decay=1e-6)\n",
    "model.compile(loss='binary_crossentropy',optimizer= opt, metrics=['accuracy'])"
   ]
  },
  {
   "cell_type": "code",
   "execution_count": 8,
   "metadata": {
    "execution": {
     "iopub.execute_input": "2022-01-27T09:49:25.404476Z",
     "iopub.status.busy": "2022-01-27T09:49:25.403857Z",
     "iopub.status.idle": "2022-01-27T09:49:25.410496Z",
     "shell.execute_reply": "2022-01-27T09:49:25.409423Z",
     "shell.execute_reply.started": "2022-01-27T09:49:25.404432Z"
    }
   },
   "outputs": [],
   "source": [
    "from keras.callbacks import ModelCheckpoint\n",
    "filepath = \"saved-final-model.h5\"\n",
    "checkpoint = ModelCheckpoint(filepath, monitor='val_accuracy', verbose=1, save_best_only=True, mode='max')\n",
    "callbacks_list = [checkpoint]"
   ]
  },
  {
   "cell_type": "code",
   "execution_count": 10,
   "metadata": {
    "execution": {
     "iopub.execute_input": "2022-01-27T09:58:44.422096Z",
     "iopub.status.busy": "2022-01-27T09:58:44.421772Z",
     "iopub.status.idle": "2022-01-27T19:13:50.595083Z",
     "shell.execute_reply": "2022-01-27T19:13:50.591443Z",
     "shell.execute_reply.started": "2022-01-27T09:58:44.422064Z"
    }
   },
   "outputs": [
    {
     "name": "stdout",
     "output_type": "stream",
     "text": [
      "Epoch 1/15\n",
      "1000/1000 [==============================] - 2500s 2s/step - loss: 0.5067 - accuracy: 0.7466 - val_loss: 0.4532 - val_accuracy: 0.7796\n",
      "\n",
      "Epoch 00001: val_accuracy improved from -inf to 0.77961, saving model to saved-final-model.h5\n",
      "Epoch 2/15\n",
      "1000/1000 [==============================] - 2287s 2s/step - loss: 0.3681 - accuracy: 0.8340 - val_loss: 0.3418 - val_accuracy: 0.8473\n",
      "\n",
      "Epoch 00002: val_accuracy improved from 0.77961 to 0.84734, saving model to saved-final-model.h5\n",
      "Epoch 3/15\n",
      "1000/1000 [==============================] - 2187s 2s/step - loss: 0.2845 - accuracy: 0.8775 - val_loss: 0.5148 - val_accuracy: 0.7778\n",
      "\n",
      "Epoch 00003: val_accuracy did not improve from 0.84734\n",
      "Epoch 4/15\n",
      "1000/1000 [==============================] - 2172s 2s/step - loss: 0.2289 - accuracy: 0.9039 - val_loss: 0.3765 - val_accuracy: 0.8457\n",
      "\n",
      "Epoch 00004: val_accuracy did not improve from 0.84734\n",
      "Epoch 5/15\n",
      "1000/1000 [==============================] - 2168s 2s/step - loss: 0.1928 - accuracy: 0.9208 - val_loss: 0.3712 - val_accuracy: 0.8546\n",
      "\n",
      "Epoch 00005: val_accuracy improved from 0.84734 to 0.85461, saving model to saved-final-model.h5\n",
      "Epoch 6/15\n",
      "1000/1000 [==============================] - 2166s 2s/step - loss: 0.1636 - accuracy: 0.9335 - val_loss: 0.2147 - val_accuracy: 0.9150\n",
      "\n",
      "Epoch 00006: val_accuracy improved from 0.85461 to 0.91500, saving model to saved-final-model.h5\n",
      "Epoch 7/15\n",
      "1000/1000 [==============================] - 2183s 2s/step - loss: 0.1443 - accuracy: 0.9416 - val_loss: 0.3703 - val_accuracy: 0.8629\n",
      "\n",
      "Epoch 00007: val_accuracy did not improve from 0.91500\n",
      "Epoch 8/15\n",
      "1000/1000 [==============================] - 2139s 2s/step - loss: 0.1245 - accuracy: 0.9502 - val_loss: 0.2755 - val_accuracy: 0.8863\n",
      "\n",
      "Epoch 00008: val_accuracy did not improve from 0.91500\n",
      "Epoch 9/15\n",
      "1000/1000 [==============================] - 2139s 2s/step - loss: 0.1102 - accuracy: 0.9564 - val_loss: 0.1489 - val_accuracy: 0.9421\n",
      "\n",
      "Epoch 00009: val_accuracy improved from 0.91500 to 0.94211, saving model to saved-final-model.h5\n",
      "Epoch 10/15\n",
      "1000/1000 [==============================] - 2150s 2s/step - loss: 0.1017 - accuracy: 0.9591 - val_loss: 0.1144 - val_accuracy: 0.9549\n",
      "\n",
      "Epoch 00010: val_accuracy improved from 0.94211 to 0.95492, saving model to saved-final-model.h5\n",
      "Epoch 11/15\n",
      "1000/1000 [==============================] - 2153s 2s/step - loss: 0.0920 - accuracy: 0.9639 - val_loss: 0.1220 - val_accuracy: 0.9520\n",
      "\n",
      "Epoch 00011: val_accuracy did not improve from 0.95492\n",
      "Epoch 12/15\n",
      "1000/1000 [==============================] - 2150s 2s/step - loss: 0.0818 - accuracy: 0.9688 - val_loss: 0.1081 - val_accuracy: 0.9569\n",
      "\n",
      "Epoch 00012: val_accuracy improved from 0.95492 to 0.95688, saving model to saved-final-model.h5\n",
      "Epoch 13/15\n",
      "1000/1000 [==============================] - 2153s 2s/step - loss: 0.0790 - accuracy: 0.9691 - val_loss: 0.1184 - val_accuracy: 0.9555\n",
      "\n",
      "Epoch 00013: val_accuracy did not improve from 0.95688\n",
      "Epoch 14/15\n",
      "1000/1000 [==============================] - 2154s 2s/step - loss: 0.0719 - accuracy: 0.9717 - val_loss: 0.1304 - val_accuracy: 0.9487\n",
      "\n",
      "Epoch 00014: val_accuracy did not improve from 0.95688\n",
      "Epoch 15/15\n",
      "1000/1000 [==============================] - 2220s 2s/step - loss: 0.0682 - accuracy: 0.9734 - val_loss: 0.0903 - val_accuracy: 0.9675\n",
      "\n",
      "Epoch 00015: val_accuracy improved from 0.95688 to 0.96750, saving model to saved-final-model.h5\n"
     ]
    }
   ],
   "source": [
    "train_steps = 100000//100\n",
    "valid_steps = 20000//100\n",
    "\n",
    "history = model.fit_generator(\n",
    "    train_flow,\n",
    "    epochs =15,\n",
    "    callbacks= callbacks_list,\n",
    "    steps_per_epoch = train_steps,\n",
    "    validation_data = valid_flow,\n",
    "    validation_steps = valid_steps\n",
    ")"
   ]
  },
  {
   "cell_type": "code",
   "execution_count": 11,
   "metadata": {
    "execution": {
     "iopub.execute_input": "2022-01-27T19:13:50.600268Z",
     "iopub.status.busy": "2022-01-27T19:13:50.599750Z",
     "iopub.status.idle": "2022-01-27T19:13:51.777611Z",
     "shell.execute_reply": "2022-01-27T19:13:51.776426Z",
     "shell.execute_reply.started": "2022-01-27T19:13:50.600219Z"
    }
   },
   "outputs": [
    {
     "data": {
      "image/png": "[encoded data removed]",
      "text/plain": [
       "<Figure size 432x288 with 1 Axes>"
      ]
     },
     "metadata": {
      "needs_background": "light"
     },
     "output_type": "display_data"
    },
    {
     "data": {
      "image/png": "[encoded data removed]",
      "text/plain": [
       "<Figure size 432x288 with 1 Axes>"
      ]
     },
     "metadata": {
      "needs_background": "light"
     },
     "output_type": "display_data"
    }
   ],
   "source": [
    "plt.plot(history.history['loss'], label='train loss')\n",
    "plt.plot(history.history['val_loss'], label='val loss')\n",
    "plt.legend()\n",
    "plt.show()\n",
    "plt.savefig('LossVal_loss')\n",
    "\n",
    "# plot the accuracy\n",
    "plt.plot(history.history['accuracy'], label='train acc')\n",
    "plt.plot(history.history['val_accuracy'], label='val acc')\n",
    "plt.legend()\n",
    "plt.show()"
   ]
  },
  {
   "cell_type": "code",
   "execution_count": 12,
   "metadata": {
    "execution": {
     "iopub.execute_input": "2022-01-27T19:13:51.786695Z",
     "iopub.status.busy": "2022-01-27T19:13:51.783523Z",
     "iopub.status.idle": "2022-01-27T19:34:18.817942Z",
     "shell.execute_reply": "2022-01-27T19:34:18.816781Z",
     "shell.execute_reply.started": "2022-01-27T19:13:51.786646Z"
    }
   },
   "outputs": [],
   "source": [
    "y_pred = model.predict(test_flow)\n",
    "y_test = test_flow.classes"
   ]
  },
  {
   "cell_type": "code",
   "execution_count": 13,
   "metadata": {
    "execution": {
     "iopub.execute_input": "2022-01-27T19:34:18.823426Z",
     "iopub.status.busy": "2022-01-27T19:34:18.822974Z",
     "iopub.status.idle": "2022-01-27T19:34:18.829827Z",
     "shell.execute_reply": "2022-01-27T19:34:18.828158Z",
     "shell.execute_reply.started": "2022-01-27T19:34:18.823377Z"
    }
   },
   "outputs": [],
   "source": [
    "from sklearn import metrics"
   ]
  },
  {
   "cell_type": "code",
   "execution_count": 14,
   "metadata": {
    "execution": {
     "iopub.execute_input": "2022-01-27T19:34:18.833299Z",
     "iopub.status.busy": "2022-01-27T19:34:18.831938Z",
     "iopub.status.idle": "2022-01-27T19:34:18.889218Z",
     "shell.execute_reply": "2022-01-27T19:34:18.888118Z",
     "shell.execute_reply.started": "2022-01-27T19:34:18.833248Z"
    }
   },
   "outputs": [
    {
     "name": "stdout",
     "output_type": "stream",
     "text": [
      "ROC AUC Score: 0.9949349200000001\n",
      "AP Score: 0.9949851685917747\n",
      "\n",
      "              precision    recall  f1-score   support\n",
      "\n",
      "           0       0.96      0.97      0.96     10000\n",
      "           1       0.97      0.96      0.96     10000\n",
      "\n",
      "    accuracy                           0.96     20000\n",
      "   macro avg       0.96      0.96      0.96     20000\n",
      "weighted avg       0.96      0.96      0.96     20000\n",
      "\n"
     ]
    }
   ],
   "source": [
    "print(\"ROC AUC Score:\", metrics.roc_auc_score(y_test, y_pred))\n",
    "print(\"AP Score:\", metrics.average_precision_score(y_test, y_pred))\n",
    "print()\n",
    "print(metrics.classification_report(y_test, y_pred > 0.5))"
   ]
  },
  {
   "cell_type": "code",
   "execution_count": 15,
   "metadata": {
    "execution": {
     "iopub.execute_input": "2022-01-27T19:34:18.892021Z",
     "iopub.status.busy": "2022-01-27T19:34:18.891236Z",
     "iopub.status.idle": "2022-01-27T19:34:18.903894Z",
     "shell.execute_reply": "2022-01-27T19:34:18.902236Z",
     "shell.execute_reply.started": "2022-01-27T19:34:18.891970Z"
    }
   },
   "outputs": [
    {
     "data": {
      "text/plain": [
       "array([0, 0, 0, ..., 1, 1, 1], dtype=int32)"
      ]
     },
     "execution_count": 15,
     "metadata": {},
     "output_type": "execute_result"
    }
   ],
   "source": [
    "y_test1 = np.array(y_test)\n",
    "y_test1"
   ]
  },
  {
   "cell_type": "code",
   "execution_count": 16,
   "metadata": {
    "execution": {
     "iopub.execute_input": "2022-01-27T19:34:18.906624Z",
     "iopub.status.busy": "2022-01-27T19:34:18.906002Z",
     "iopub.status.idle": "2022-01-27T19:34:18.918961Z",
     "shell.execute_reply": "2022-01-27T19:34:18.916920Z",
     "shell.execute_reply.started": "2022-01-27T19:34:18.906577Z"
    }
   },
   "outputs": [
    {
     "data": {
      "text/plain": [
       "array([[0],\n",
       "       [0],\n",
       "       [0],\n",
       "       ...,\n",
       "       [1],\n",
       "       [1],\n",
       "       [1]])"
      ]
     },
     "execution_count": 16,
     "metadata": {},
     "output_type": "execute_result"
    }
   ],
   "source": [
    "y_pred1 = y_pred.copy()\n",
    "np.where(y_pred1 > 0.5, 1, 0)"
   ]
  },
  {
   "cell_type": "code",
   "execution_count": 17,
   "metadata": {
    "execution": {
     "iopub.execute_input": "2022-01-27T19:34:18.922038Z",
     "iopub.status.busy": "2022-01-27T19:34:18.921423Z",
     "iopub.status.idle": "2022-01-27T19:34:18.935496Z",
     "shell.execute_reply": "2022-01-27T19:34:18.933982Z",
     "shell.execute_reply.started": "2022-01-27T19:34:18.921989Z"
    }
   },
   "outputs": [
    {
     "data": {
      "text/plain": [
       "array([0, 0, 0, ..., 1, 1, 1])"
      ]
     },
     "execution_count": 17,
     "metadata": {},
     "output_type": "execute_result"
    }
   ],
   "source": [
    "y_pred2 = y_pred1.flatten()\n",
    "y_pred2 = np.where(y_pred2 > 0.5, 1, 0)\n",
    "y_pred2"
   ]
  },
  {
   "cell_type": "code",
   "execution_count": 18,
   "metadata": {
    "execution": {
     "iopub.execute_input": "2022-01-27T19:34:18.938865Z",
     "iopub.status.busy": "2022-01-27T19:34:18.938191Z",
     "iopub.status.idle": "2022-01-27T19:34:19.042015Z",
     "shell.execute_reply": "2022-01-27T19:34:19.040795Z",
     "shell.execute_reply.started": "2022-01-27T19:34:18.938814Z"
    }
   },
   "outputs": [
    {
     "name": "stdout",
     "output_type": "stream",
     "text": [
      "[[9688  312]\n",
      " [ 403 9597]]\n",
      "acc: 0.9643\n",
      "sensitivity: 0.9688\n",
      "specificity: 0.9597\n"
     ]
    }
   ],
   "source": [
    "from sklearn.metrics import confusion_matrix\n",
    "cm = confusion_matrix(y_test,y_pred2)\n",
    "total = sum(sum(cm))\n",
    "acc = (cm[0, 0] + cm[1, 1]) / total\n",
    "sensitivity = cm[0, 0] / (cm[0, 0] + cm[0, 1])\n",
    "specificity = cm[1, 1] / (cm[1, 0] + cm[1, 1])\n",
    "print(cm)\n",
    "print(\"acc: {:.4f}\".format(acc))\n",
    "print(\"sensitivity: {:.4f}\".format(sensitivity))\n",
    "print(\"specificity: {:.4f}\".format(specificity))"
   ]
  },
  {
   "cell_type": "code",
   "execution_count": 19,
   "metadata": {
    "execution": {
     "iopub.execute_input": "2022-01-27T19:34:19.046640Z",
     "iopub.status.busy": "2022-01-27T19:34:19.045862Z",
     "iopub.status.idle": "2022-01-27T19:34:19.485464Z",
     "shell.execute_reply": "2022-01-27T19:34:19.484389Z",
     "shell.execute_reply.started": "2022-01-27T19:34:19.046546Z"
    }
   },
   "outputs": [
    {
     "data": {
      "text/plain": [
       "<AxesSubplot:>"
      ]
     },
     "execution_count": 19,
     "metadata": {},
     "output_type": "execute_result"
    },
    {
     "data": {
      "image/png": "[encoded data removed]",
      "text/plain": [
       "<Figure size 432x288 with 2 Axes>"
      ]
     },
     "metadata": {
      "needs_background": "light"
     },
     "output_type": "display_data"
    }
   ],
   "source": [
    "import seaborn as sns\n",
    "sns.heatmap(cm,annot=True, fmt='g')"
   ]
  },
  {
   "cell_type": "code",
   "execution_count": null,
   "metadata": {},
   "outputs": [],
   "source": []
  }
 ],
 "metadata": {
  "kernelspec": {
   "display_name": "Python 3",
   "language": "python",
   "name": "python3"
  },
  "language_info": {
   "codemirror_mode": {
    "name": "ipython",
    "version": 3
   },
   "file_extension": ".py",
   "mimetype": "text/x-python",
   "name": "python",
   "nbconvert_exporter": "python",
   "pygments_lexer": "ipython3",
   "version": "3.6.13"
  }
 },
 "nbformat": 4,
 "nbformat_minor": 4
}
