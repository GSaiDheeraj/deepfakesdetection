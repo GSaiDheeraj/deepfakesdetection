{
 "cells": [
  {
   "cell_type": "code",
   "execution_count": 1,
   "metadata": {
    "execution": {
     "iopub.execute_input": "2022-01-29T09:29:56.212024Z",
     "iopub.status.busy": "2022-01-29T09:29:56.211497Z",
     "iopub.status.idle": "2022-01-29T09:30:24.699496Z",
     "shell.execute_reply": "2022-01-29T09:30:24.698656Z",
     "shell.execute_reply.started": "2022-01-29T09:29:56.211929Z"
    }
   },
   "outputs": [
    {
     "name": "stdout",
     "output_type": "stream",
     "text": [
      "Collecting keras-vggface==0.5\n",
      "  Downloading keras_vggface-0.5.tar.gz (7.2 kB)\n",
      "  Preparing metadata (setup.py) ... \u001b[?25ldone\n",
      "\u001b[?25hRequirement already satisfied: numpy>=1.9.1 in /opt/conda/lib/python3.7/site-packages (from keras-vggface==0.5) (1.20.3)\n",
      "Requirement already satisfied: scipy>=0.14 in /opt/conda/lib/python3.7/site-packages (from keras-vggface==0.5) (1.7.3)\n",
      "Requirement already satisfied: h5py in /opt/conda/lib/python3.7/site-packages (from keras-vggface==0.5) (3.1.0)\n",
      "Requirement already satisfied: pillow in /opt/conda/lib/python3.7/site-packages (from keras-vggface==0.5) (8.2.0)\n",
      "Requirement already satisfied: tensorflow in /opt/conda/lib/python3.7/site-packages (from keras-vggface==0.5) (2.6.2)\n",
      "Requirement already satisfied: keras in /opt/conda/lib/python3.7/site-packages (from keras-vggface==0.5) (2.6.0)\n",
      "Requirement already satisfied: six>=1.9.0 in /opt/conda/lib/python3.7/site-packages (from keras-vggface==0.5) (1.16.0)\n",
      "Requirement already satisfied: pyyaml in /opt/conda/lib/python3.7/site-packages (from keras-vggface==0.5) (6.0)\n",
      "Requirement already satisfied: cached-property in /opt/conda/lib/python3.7/site-packages (from h5py->keras-vggface==0.5) (1.5.2)\n",
      "Requirement already satisfied: protobuf>=3.9.2 in /opt/conda/lib/python3.7/site-packages (from tensorflow->keras-vggface==0.5) (3.19.1)\n",
      "Collecting typing-extensions~=3.7.4\n",
      "  Downloading typing_extensions-3.7.4.3-py3-none-any.whl (22 kB)\n",
      "Collecting six>=1.9.0\n",
      "  Downloading six-1.15.0-py2.py3-none-any.whl (10 kB)\n",
      "Requirement already satisfied: gast==0.4.0 in /opt/conda/lib/python3.7/site-packages (from tensorflow->keras-vggface==0.5) (0.4.0)\n",
      "Requirement already satisfied: google-pasta~=0.2 in /opt/conda/lib/python3.7/site-packages (from tensorflow->keras-vggface==0.5) (0.2.0)\n",
      "Requirement already satisfied: tensorboard<2.7,>=2.6.0 in /opt/conda/lib/python3.7/site-packages (from tensorflow->keras-vggface==0.5) (2.6.0)\n",
      "Requirement already satisfied: termcolor~=1.1.0 in /opt/conda/lib/python3.7/site-packages (from tensorflow->keras-vggface==0.5) (1.1.0)\n",
      "Requirement already satisfied: keras-preprocessing~=1.1.2 in /opt/conda/lib/python3.7/site-packages (from tensorflow->keras-vggface==0.5) (1.1.2)\n",
      "Requirement already satisfied: flatbuffers~=1.12.0 in /opt/conda/lib/python3.7/site-packages (from tensorflow->keras-vggface==0.5) (1.12)\n",
      "Collecting numpy>=1.9.1\n",
      "  Downloading numpy-1.19.5-cp37-cp37m-manylinux2010_x86_64.whl (14.8 MB)\n",
      "     |████████████████████████████████| 14.8 MB 840 kB/s            \n",
      "\u001b[?25hRequirement already satisfied: astunparse~=1.6.3 in /opt/conda/lib/python3.7/site-packages (from tensorflow->keras-vggface==0.5) (1.6.3)\n",
      "Requirement already satisfied: clang~=5.0 in /opt/conda/lib/python3.7/site-packages (from tensorflow->keras-vggface==0.5) (5.0)\n",
      "Requirement already satisfied: wheel~=0.35 in /opt/conda/lib/python3.7/site-packages (from tensorflow->keras-vggface==0.5) (0.37.0)\n",
      "Requirement already satisfied: opt-einsum~=3.3.0 in /opt/conda/lib/python3.7/site-packages (from tensorflow->keras-vggface==0.5) (3.3.0)\n",
      "Requirement already satisfied: absl-py~=0.10 in /opt/conda/lib/python3.7/site-packages (from tensorflow->keras-vggface==0.5) (0.15.0)\n",
      "Requirement already satisfied: grpcio<2.0,>=1.37.0 in /opt/conda/lib/python3.7/site-packages (from tensorflow->keras-vggface==0.5) (1.43.0)\n",
      "Collecting wrapt~=1.12.1\n",
      "  Downloading wrapt-1.12.1.tar.gz (27 kB)\n",
      "  Preparing metadata (setup.py) ... \u001b[?25ldone\n",
      "\u001b[?25hRequirement already satisfied: tensorflow-estimator<2.7,>=2.6.0 in /opt/conda/lib/python3.7/site-packages (from tensorflow->keras-vggface==0.5) (2.6.0)\n",
      "Requirement already satisfied: google-auth<2,>=1.6.3 in /opt/conda/lib/python3.7/site-packages (from tensorboard<2.7,>=2.6.0->tensorflow->keras-vggface==0.5) (1.35.0)\n",
      "Requirement already satisfied: requests<3,>=2.21.0 in /opt/conda/lib/python3.7/site-packages (from tensorboard<2.7,>=2.6.0->tensorflow->keras-vggface==0.5) (2.26.0)\n",
      "Requirement already satisfied: google-auth-oauthlib<0.5,>=0.4.1 in /opt/conda/lib/python3.7/site-packages (from tensorboard<2.7,>=2.6.0->tensorflow->keras-vggface==0.5) (0.4.6)\n",
      "Requirement already satisfied: tensorboard-plugin-wit>=1.6.0 in /opt/conda/lib/python3.7/site-packages (from tensorboard<2.7,>=2.6.0->tensorflow->keras-vggface==0.5) (1.8.0)\n",
      "Requirement already satisfied: werkzeug>=0.11.15 in /opt/conda/lib/python3.7/site-packages (from tensorboard<2.7,>=2.6.0->tensorflow->keras-vggface==0.5) (2.0.2)\n",
      "Requirement already satisfied: markdown>=2.6.8 in /opt/conda/lib/python3.7/site-packages (from tensorboard<2.7,>=2.6.0->tensorflow->keras-vggface==0.5) (3.3.6)\n",
      "Requirement already satisfied: setuptools>=41.0.0 in /opt/conda/lib/python3.7/site-packages (from tensorboard<2.7,>=2.6.0->tensorflow->keras-vggface==0.5) (59.5.0)\n",
      "Requirement already satisfied: tensorboard-data-server<0.7.0,>=0.6.0 in /opt/conda/lib/python3.7/site-packages (from tensorboard<2.7,>=2.6.0->tensorflow->keras-vggface==0.5) (0.6.1)\n",
      "Requirement already satisfied: pyasn1-modules>=0.2.1 in /opt/conda/lib/python3.7/site-packages (from google-auth<2,>=1.6.3->tensorboard<2.7,>=2.6.0->tensorflow->keras-vggface==0.5) (0.2.7)\n",
      "Requirement already satisfied: cachetools<5.0,>=2.0.0 in /opt/conda/lib/python3.7/site-packages (from google-auth<2,>=1.6.3->tensorboard<2.7,>=2.6.0->tensorflow->keras-vggface==0.5) (4.2.4)\n",
      "Requirement already satisfied: rsa<5,>=3.1.4 in /opt/conda/lib/python3.7/site-packages (from google-auth<2,>=1.6.3->tensorboard<2.7,>=2.6.0->tensorflow->keras-vggface==0.5) (4.8)\n",
      "Requirement already satisfied: requests-oauthlib>=0.7.0 in /opt/conda/lib/python3.7/site-packages (from google-auth-oauthlib<0.5,>=0.4.1->tensorboard<2.7,>=2.6.0->tensorflow->keras-vggface==0.5) (1.3.0)\n",
      "Requirement already satisfied: importlib-metadata>=4.4 in /opt/conda/lib/python3.7/site-packages (from markdown>=2.6.8->tensorboard<2.7,>=2.6.0->tensorflow->keras-vggface==0.5) (4.10.1)\n",
      "Requirement already satisfied: charset-normalizer~=2.0.0 in /opt/conda/lib/python3.7/site-packages (from requests<3,>=2.21.0->tensorboard<2.7,>=2.6.0->tensorflow->keras-vggface==0.5) (2.0.9)\n",
      "Requirement already satisfied: urllib3<1.27,>=1.21.1 in /opt/conda/lib/python3.7/site-packages (from requests<3,>=2.21.0->tensorboard<2.7,>=2.6.0->tensorflow->keras-vggface==0.5) (1.26.7)\n",
      "Requirement already satisfied: certifi>=2017.4.17 in /opt/conda/lib/python3.7/site-packages (from requests<3,>=2.21.0->tensorboard<2.7,>=2.6.0->tensorflow->keras-vggface==0.5) (2021.10.8)\n",
      "Requirement already satisfied: idna<4,>=2.5 in /opt/conda/lib/python3.7/site-packages (from requests<3,>=2.21.0->tensorboard<2.7,>=2.6.0->tensorflow->keras-vggface==0.5) (3.1)\n",
      "Requirement already satisfied: zipp>=0.5 in /opt/conda/lib/python3.7/site-packages (from importlib-metadata>=4.4->markdown>=2.6.8->tensorboard<2.7,>=2.6.0->tensorflow->keras-vggface==0.5) (3.6.0)\n",
      "Requirement already satisfied: pyasn1<0.5.0,>=0.4.6 in /opt/conda/lib/python3.7/site-packages (from pyasn1-modules>=0.2.1->google-auth<2,>=1.6.3->tensorboard<2.7,>=2.6.0->tensorflow->keras-vggface==0.5) (0.4.8)\n",
      "Requirement already satisfied: oauthlib>=3.0.0 in /opt/conda/lib/python3.7/site-packages (from requests-oauthlib>=0.7.0->google-auth-oauthlib<0.5,>=0.4.1->tensorboard<2.7,>=2.6.0->tensorflow->keras-vggface==0.5) (3.1.1)\n",
      "Building wheels for collected packages: keras-vggface, wrapt\n",
      "  Building wheel for keras-vggface (setup.py) ... \u001b[?25ldone\n",
      "\u001b[?25h  Created wheel for keras-vggface: filename=keras_vggface-0.5-py3-none-any.whl size=7238 sha256=ab50624af84da0d56824f123da84de962172c9aade2c2c5639e118c03f07ce20\n",
      "  Stored in directory: /root/.cache/pip/wheels/14/80/4d/0c6b9c5d457c9f5b2c4dbff1d5d02a12ed9106240acb447f08\n",
      "  Building wheel for wrapt (setup.py) ... \u001b[?25ldone\n",
      "\u001b[?25h  Created wheel for wrapt: filename=wrapt-1.12.1-cp37-cp37m-linux_x86_64.whl size=77050 sha256=e100f201b20ca6030a1fc11842e18fdbb7ea5a43504afa6b1bb6ea326a3cdfa1\n",
      "  Stored in directory: /root/.cache/pip/wheels/62/76/4c/aa25851149f3f6d9785f6c869387ad82b3fd37582fa8147ac6\n",
      "Successfully built keras-vggface wrapt\n",
      "Installing collected packages: typing-extensions, six, numpy, wrapt, keras-vggface\n",
      "  Attempting uninstall: typing-extensions\n",
      "    Found existing installation: typing-extensions 3.10.0.2\n",
      "    Uninstalling typing-extensions-3.10.0.2:\n",
      "      Successfully uninstalled typing-extensions-3.10.0.2\n",
      "  Attempting uninstall: six\n",
      "    Found existing installation: six 1.16.0\n",
      "    Uninstalling six-1.16.0:\n",
      "      Successfully uninstalled six-1.16.0\n",
      "  Attempting uninstall: numpy\n",
      "    Found existing installation: numpy 1.20.3\n",
      "    Uninstalling numpy-1.20.3:\n",
      "      Successfully uninstalled numpy-1.20.3\n",
      "  Attempting uninstall: wrapt\n",
      "    Found existing installation: wrapt 1.13.3\n",
      "    Uninstalling wrapt-1.13.3:\n",
      "      Successfully uninstalled wrapt-1.13.3\n",
      "\u001b[31mERROR: pip's dependency resolver does not currently take into account all the packages that are installed. This behaviour is the source of the following dependency conflicts.\n",
      "tensorflow-io 0.21.0 requires tensorflow-io-gcs-filesystem==0.21.0, which is not installed.\n",
      "explainable-ai-sdk 1.3.2 requires xai-image-widget, which is not installed.\n",
      "dask-cudf 21.10.1 requires cupy-cuda114, which is not installed.\n",
      "beatrix-jupyterlab 3.1.6 requires google-cloud-bigquery-storage, which is not installed.\n",
      "tfx-bsl 1.5.0 requires absl-py<0.13,>=0.9, but you have absl-py 0.15.0 which is incompatible.\n",
      "tfx-bsl 1.5.0 requires pyarrow<6,>=1, but you have pyarrow 6.0.1 which is incompatible.\n",
      "tfx-bsl 1.5.0 requires tensorflow!=2.0.*,!=2.1.*,!=2.2.*,!=2.3.*,!=2.4.*,!=2.5.*,!=2.6.*,<3,>=1.15.2, but you have tensorflow 2.6.2 which is incompatible.\n",
      "tensorflow-transform 1.5.0 requires absl-py<0.13,>=0.9, but you have absl-py 0.15.0 which is incompatible.\n",
      "tensorflow-transform 1.5.0 requires pyarrow<6,>=1, but you have pyarrow 6.0.1 which is incompatible.\n",
      "tensorflow-transform 1.5.0 requires tensorflow!=2.0.*,!=2.1.*,!=2.2.*,!=2.3.*,!=2.4.*,!=2.5.*,!=2.6.*,<2.8,>=1.15.2, but you have tensorflow 2.6.2 which is incompatible.\n",
      "tensorflow-serving-api 2.7.0 requires tensorflow<3,>=2.7.0, but you have tensorflow 2.6.2 which is incompatible.\n",
      "pdpbox 0.2.1 requires matplotlib==3.1.1, but you have matplotlib 3.5.1 which is incompatible.\n",
      "optax 0.1.0 requires typing-extensions~=3.10.0, but you have typing-extensions 3.7.4.3 which is incompatible.\n",
      "imbalanced-learn 0.9.0 requires scikit-learn>=1.0.1, but you have scikit-learn 0.23.2 which is incompatible.\n",
      "gcsfs 2021.11.1 requires fsspec==2021.11.1, but you have fsspec 2022.1.0 which is incompatible.\n",
      "flake8 4.0.1 requires importlib-metadata<4.3; python_version < \"3.8\", but you have importlib-metadata 4.10.1 which is incompatible.\n",
      "featuretools 1.4.0 requires numpy>=1.21.0, but you have numpy 1.19.5 which is incompatible.\n",
      "dask-cudf 21.10.1 requires dask==2021.09.1, but you have dask 2022.1.0 which is incompatible.\n",
      "dask-cudf 21.10.1 requires distributed==2021.09.1, but you have distributed 2022.1.0 which is incompatible.\n",
      "bokeh 2.4.2 requires typing-extensions>=3.10.0, but you have typing-extensions 3.7.4.3 which is incompatible.\n",
      "black 21.12b0 requires typing-extensions>=3.10.0.0, but you have typing-extensions 3.7.4.3 which is incompatible.\n",
      "apache-beam 2.34.0 requires dill<0.3.2,>=0.3.1.1, but you have dill 0.3.4 which is incompatible.\n",
      "apache-beam 2.34.0 requires httplib2<0.20.0,>=0.8, but you have httplib2 0.20.2 which is incompatible.\n",
      "apache-beam 2.34.0 requires pyarrow<6.0.0,>=0.15.1, but you have pyarrow 6.0.1 which is incompatible.\n",
      "aiobotocore 2.1.0 requires botocore<1.23.25,>=1.23.24, but you have botocore 1.23.43 which is incompatible.\u001b[0m\n",
      "Successfully installed keras-vggface-0.5 numpy-1.19.5 six-1.15.0 typing-extensions-3.7.4.3 wrapt-1.12.1\n",
      "\u001b[33mWARNING: Running pip as the 'root' user can result in broken permissions and conflicting behaviour with the system package manager. It is recommended to use a virtual environment instead: https://pip.pypa.io/warnings/venv\u001b[0m\n",
      "Note: you may need to restart the kernel to use updated packages.\n"
     ]
    }
   ],
   "source": [
    "pip install keras-vggface==0.5"
   ]
  },
  {
   "cell_type": "code",
   "execution_count": 2,
   "metadata": {
    "execution": {
     "iopub.execute_input": "2022-01-29T09:30:29.933398Z",
     "iopub.status.busy": "2022-01-29T09:30:29.933125Z",
     "iopub.status.idle": "2022-01-29T09:30:38.181068Z",
     "shell.execute_reply": "2022-01-29T09:30:38.180145Z",
     "shell.execute_reply.started": "2022-01-29T09:30:29.933368Z"
    }
   },
   "outputs": [
    {
     "name": "stdout",
     "output_type": "stream",
     "text": [
      "Collecting keras_applications\n",
      "  Downloading Keras_Applications-1.0.8-py3-none-any.whl (50 kB)\n",
      "     |████████████████████████████████| 50 kB 508 kB/s            \n",
      "\u001b[?25hRequirement already satisfied: numpy>=1.9.1 in /opt/conda/lib/python3.7/site-packages (from keras_applications) (1.19.5)\n",
      "Requirement already satisfied: h5py in /opt/conda/lib/python3.7/site-packages (from keras_applications) (3.1.0)\n",
      "Requirement already satisfied: cached-property in /opt/conda/lib/python3.7/site-packages (from h5py->keras_applications) (1.5.2)\n",
      "Installing collected packages: keras-applications\n",
      "Successfully installed keras-applications-1.0.8\n",
      "\u001b[33mWARNING: Running pip as the 'root' user can result in broken permissions and conflicting behaviour with the system package manager. It is recommended to use a virtual environment instead: https://pip.pypa.io/warnings/venv\u001b[0m\n"
     ]
    }
   ],
   "source": [
    "!pip install keras_applications"
   ]
  },
  {
   "cell_type": "code",
   "execution_count": 3,
   "metadata": {
    "execution": {
     "iopub.execute_input": "2022-01-29T09:30:38.183268Z",
     "iopub.status.busy": "2022-01-29T09:30:38.182980Z",
     "iopub.status.idle": "2022-01-29T09:30:38.195388Z",
     "shell.execute_reply": "2022-01-29T09:30:38.194584Z",
     "shell.execute_reply.started": "2022-01-29T09:30:38.183232Z"
    }
   },
   "outputs": [
    {
     "data": {
      "text/plain": [
       "20756"
      ]
     },
     "execution_count": 3,
     "metadata": {},
     "output_type": "execute_result"
    }
   ],
   "source": [
    "filename = \"/opt/conda/lib/python3.7/site-packages/keras_vggface/models.py\"\n",
    "text = open(filename).read()\n",
    "open(filename, \"w+\").write(text.replace('from keras.applications.imagenet_utils import _obtain_input_shape', 'from keras_applications.imagenet_utils import _obtain_input_shape'))"
   ]
  },
  {
   "cell_type": "code",
   "execution_count": 4,
   "metadata": {
    "execution": {
     "iopub.execute_input": "2022-01-29T09:30:42.630188Z",
     "iopub.status.busy": "2022-01-29T09:30:42.629509Z",
     "iopub.status.idle": "2022-01-29T09:30:42.637429Z",
     "shell.execute_reply": "2022-01-29T09:30:42.636722Z",
     "shell.execute_reply.started": "2022-01-29T09:30:42.630155Z"
    }
   },
   "outputs": [
    {
     "data": {
      "text/plain": [
       "20757"
      ]
     },
     "execution_count": 4,
     "metadata": {},
     "output_type": "execute_result"
    }
   ],
   "source": [
    "filename = \"/opt/conda/lib/python3.7/site-packages/keras_vggface/models.py\"\n",
    "text = open(filename).read()\n",
    "open(filename, \"w+\").write(text.replace('keras.engine.topology', 'tensorflow.keras.utils'))"
   ]
  },
  {
   "cell_type": "code",
   "execution_count": 5,
   "metadata": {
    "execution": {
     "iopub.execute_input": "2022-01-29T09:30:49.846532Z",
     "iopub.status.busy": "2022-01-29T09:30:49.846277Z",
     "iopub.status.idle": "2022-01-29T09:30:54.297130Z",
     "shell.execute_reply": "2022-01-29T09:30:54.296314Z",
     "shell.execute_reply.started": "2022-01-29T09:30:49.846503Z"
    }
   },
   "outputs": [],
   "source": [
    "from keras_applications.imagenet_utils import _obtain_input_shape\n",
    "from keras_vggface.vggface import VGGFace"
   ]
  },
  {
   "cell_type": "code",
   "execution_count": 6,
   "metadata": {
    "execution": {
     "iopub.execute_input": "2022-01-29T09:30:54.299063Z",
     "iopub.status.busy": "2022-01-29T09:30:54.298816Z",
     "iopub.status.idle": "2022-01-29T09:30:55.090217Z",
     "shell.execute_reply": "2022-01-29T09:30:55.089516Z",
     "shell.execute_reply.started": "2022-01-29T09:30:54.299024Z"
    }
   },
   "outputs": [],
   "source": [
    "import cv2\n",
    "import pandas as pd\n",
    "import numpy as np\n",
    "import tensorflow as tf\n",
    "import matplotlib.pyplot as plt\n",
    "import tensorflow\n",
    "from sklearn import metrics\n",
    "import keras_vggface\n",
    "from keras_vggface.vggface import VGGFace\n",
    "from keras.models import Sequential, Model\n",
    "from keras.layers import Dense, Flatten, Dropout\n",
    "from keras.callbacks import ReduceLROnPlateau\n",
    "\n",
    "from tensorflow.keras.optimizers import Adam, RMSprop\n",
    "from keras.preprocessing.image import ImageDataGenerator\n"
   ]
  },
  {
   "cell_type": "code",
   "execution_count": 7,
   "metadata": {
    "execution": {
     "iopub.execute_input": "2022-01-29T09:30:57.432234Z",
     "iopub.status.busy": "2022-01-29T09:30:57.431949Z",
     "iopub.status.idle": "2022-01-29T09:30:57.443963Z",
     "shell.execute_reply": "2022-01-29T09:30:57.443262Z",
     "shell.execute_reply.started": "2022-01-29T09:30:57.432199Z"
    }
   },
   "outputs": [],
   "source": [
    "def get_random_eraser(p=0.5, s_l=0.02, s_h=0.4, r_1=0.3, r_2=1/0.3, v_l=0, v_h=255, pixel_level=False):\n",
    "    def eraser(input_img):\n",
    "        if input_img.ndim == 3:\n",
    "            img_h, img_w, img_c = input_img.shape\n",
    "        elif input_img.ndim == 2:\n",
    "            img_h, img_w = input_img.shape\n",
    "\n",
    "        p_1 = np.random.rand()\n",
    "\n",
    "        if p_1 > p:\n",
    "            return input_img\n",
    "\n",
    "        while True:\n",
    "            s = np.random.uniform(s_l, s_h) * img_h * img_w\n",
    "            r = np.random.uniform(r_1, r_2)\n",
    "            w = int(np.sqrt(s / r))\n",
    "            h = int(np.sqrt(s * r))\n",
    "            left = np.random.randint(0, img_w)\n",
    "            top = np.random.randint(0, img_h)\n",
    "\n",
    "            if left + w <= img_w and top + h <= img_h:\n",
    "                break\n",
    "\n",
    "        if pixel_level:\n",
    "            if input_img.ndim == 3:\n",
    "                c = np.random.uniform(v_l, v_h, (h, w, img_c))\n",
    "            if input_img.ndim == 2:\n",
    "                c = np.random.uniform(v_l, v_h, (h, w))\n",
    "        else:\n",
    "            c = np.random.uniform(v_l, v_h)\n",
    "\n",
    "        input_img[top:top + h, left:left + w] = c\n",
    "\n",
    "        return input_img\n",
    "\n",
    "    return eraser"
   ]
  },
  {
   "cell_type": "code",
   "execution_count": 8,
   "metadata": {
    "execution": {
     "iopub.execute_input": "2022-01-29T09:30:59.276339Z",
     "iopub.status.busy": "2022-01-29T09:30:59.275794Z",
     "iopub.status.idle": "2022-01-29T09:33:11.695679Z",
     "shell.execute_reply": "2022-01-29T09:33:11.694862Z",
     "shell.execute_reply.started": "2022-01-29T09:30:59.276301Z"
    }
   },
   "outputs": [
    {
     "name": "stdout",
     "output_type": "stream",
     "text": [
      "Found 100000 images belonging to 2 classes.\n",
      "Found 20000 images belonging to 2 classes.\n",
      "Found 20000 images belonging to 2 classes.\n"
     ]
    }
   ],
   "source": [
    "base_path = \"../input/140k-real-and-fake-faces/real_vs_fake/real-vs-fake/\"\n",
    "batch_size=64\n",
    "image_gen =  ImageDataGenerator(\n",
    "        rescale = 1./255.,\n",
    "        featurewise_center=False,  # set input mean to 0 over the dataset\n",
    "        samplewise_center=False,  # set each sample mean to 0\n",
    "        featurewise_std_normalization=False,  # divide inputs by std of the dataset\n",
    "        samplewise_std_normalization=False,  # divide each input by its std\n",
    "        zca_whitening=False,  # apply ZCA whitening\n",
    "        rotation_range=0,  # randomly rotate images in the range (degrees, 0 to 180)\n",
    "        width_shift_range=0.1,  # randomly shift images horizontally (fraction of total width)\n",
    "        height_shift_range=0.1,  # randomly shift images vertically (fraction of total height)\n",
    "        horizontal_flip=True,  # randomly flip images\n",
    "        vertical_flip=False,\n",
    "        preprocessing_function=get_random_eraser(v_l=0, v_h=1, pixel_level=False))\n",
    "\n",
    "\n",
    "train_flow= image_gen.flow_from_directory(\n",
    "    base_path + 'train/',\n",
    "    target_size = (224, 224),\n",
    "    batch_size = batch_size,\n",
    "    #color_mode='grayscale',\n",
    "    class_mode ='binary'\n",
    ")\n",
    "valid_flow = image_gen.flow_from_directory(\n",
    "    base_path + 'valid/',\n",
    "    target_size = (224, 224),\n",
    "    batch_size = batch_size,\n",
    "    #color_mode='grayscale',\n",
    "    class_mode = 'binary'\n",
    ")\n",
    "test_flow = image_gen.flow_from_directory(\n",
    "    base_path + 'test/',\n",
    "    target_size = (224, 224),\n",
    "    batch_size = 1,\n",
    "    shuffle = False,\n",
    "    #color_mode='grayscale',\n",
    "    class_mode ='binary'\n",
    ")"
   ]
  },
  {
   "cell_type": "code",
   "execution_count": 9,
   "metadata": {
    "execution": {
     "iopub.execute_input": "2022-01-29T09:33:11.698725Z",
     "iopub.status.busy": "2022-01-29T09:33:11.697195Z",
     "iopub.status.idle": "2022-01-29T09:33:16.805558Z",
     "shell.execute_reply": "2022-01-29T09:33:16.804816Z",
     "shell.execute_reply.started": "2022-01-29T09:33:11.698683Z"
    }
   },
   "outputs": [
    {
     "name": "stderr",
     "output_type": "stream",
     "text": [
      "2022-01-29 09:33:11.789260: I tensorflow/stream_executor/cuda/cuda_gpu_executor.cc:937] successful NUMA node read from SysFS had negative value (-1), but there must be at least one NUMA node, so returning NUMA node zero\n",
      "2022-01-29 09:33:11.895471: I tensorflow/stream_executor/cuda/cuda_gpu_executor.cc:937] successful NUMA node read from SysFS had negative value (-1), but there must be at least one NUMA node, so returning NUMA node zero\n",
      "2022-01-29 09:33:11.896246: I tensorflow/stream_executor/cuda/cuda_gpu_executor.cc:937] successful NUMA node read from SysFS had negative value (-1), but there must be at least one NUMA node, so returning NUMA node zero\n",
      "2022-01-29 09:33:11.897836: I tensorflow/core/platform/cpu_feature_guard.cc:142] This TensorFlow binary is optimized with oneAPI Deep Neural Network Library (oneDNN) to use the following CPU instructions in performance-critical operations:  AVX2 AVX512F FMA\n",
      "To enable them in other operations, rebuild TensorFlow with the appropriate compiler flags.\n",
      "2022-01-29 09:33:11.898739: I tensorflow/stream_executor/cuda/cuda_gpu_executor.cc:937] successful NUMA node read from SysFS had negative value (-1), but there must be at least one NUMA node, so returning NUMA node zero\n",
      "2022-01-29 09:33:11.899386: I tensorflow/stream_executor/cuda/cuda_gpu_executor.cc:937] successful NUMA node read from SysFS had negative value (-1), but there must be at least one NUMA node, so returning NUMA node zero\n",
      "2022-01-29 09:33:11.900034: I tensorflow/stream_executor/cuda/cuda_gpu_executor.cc:937] successful NUMA node read from SysFS had negative value (-1), but there must be at least one NUMA node, so returning NUMA node zero\n",
      "2022-01-29 09:33:13.737746: I tensorflow/stream_executor/cuda/cuda_gpu_executor.cc:937] successful NUMA node read from SysFS had negative value (-1), but there must be at least one NUMA node, so returning NUMA node zero\n",
      "2022-01-29 09:33:13.738531: I tensorflow/stream_executor/cuda/cuda_gpu_executor.cc:937] successful NUMA node read from SysFS had negative value (-1), but there must be at least one NUMA node, so returning NUMA node zero\n",
      "2022-01-29 09:33:13.739223: I tensorflow/stream_executor/cuda/cuda_gpu_executor.cc:937] successful NUMA node read from SysFS had negative value (-1), but there must be at least one NUMA node, so returning NUMA node zero\n",
      "2022-01-29 09:33:13.739823: I tensorflow/core/common_runtime/gpu/gpu_device.cc:1510] Created device /job:localhost/replica:0/task:0/device:GPU:0 with 15403 MB memory:  -> device: 0, name: Tesla P100-PCIE-16GB, pci bus id: 0000:00:04.0, compute capability: 6.0\n"
     ]
    },
    {
     "name": "stdout",
     "output_type": "stream",
     "text": [
      "Downloading data from https://github.com/rcmalli/keras-vggface/releases/download/v2.0/rcmalli_vggface_tf_notop_vgg16.h5\n",
      "58916864/58909280 [==============================] - 2s 0us/step\n",
      "58925056/58909280 [==============================] - 2s 0us/step\n"
     ]
    }
   ],
   "source": [
    "vgg_model = VGGFace(include_top=False, input_shape = (224,224,3))\n",
    "\n",
    "last_layer = vgg_model.get_layer('pool5').output\n",
    "flat_layer = Flatten(name='flatten')(last_layer)\n",
    "fc1 = Dense(2048, activation='relu', name='fc1')(flat_layer)\n",
    "dense2 = Dense(1, activation='sigmoid', name='dense2')(fc1)\n",
    "\n",
    "custom_vgg_model = Model(vgg_model.input, dense2)"
   ]
  },
  {
   "cell_type": "code",
   "execution_count": 10,
   "metadata": {
    "execution": {
     "iopub.execute_input": "2022-01-29T09:33:16.807063Z",
     "iopub.status.busy": "2022-01-29T09:33:16.806830Z",
     "iopub.status.idle": "2022-01-29T09:33:16.821535Z",
     "shell.execute_reply": "2022-01-29T09:33:16.820762Z",
     "shell.execute_reply.started": "2022-01-29T09:33:16.807031Z"
    }
   },
   "outputs": [
    {
     "name": "stdout",
     "output_type": "stream",
     "text": [
      "Model: \"model\"\n",
      "_________________________________________________________________\n",
      "Layer (type)                 Output Shape              Param #   \n",
      "=================================================================\n",
      "input_1 (InputLayer)         [(None, 224, 224, 3)]     0         \n",
      "_________________________________________________________________\n",
      "conv1_1 (Conv2D)             (None, 224, 224, 64)      1792      \n",
      "_________________________________________________________________\n",
      "conv1_2 (Conv2D)             (None, 224, 224, 64)      36928     \n",
      "_________________________________________________________________\n",
      "pool1 (MaxPooling2D)         (None, 112, 112, 64)      0         \n",
      "_________________________________________________________________\n",
      "conv2_1 (Conv2D)             (None, 112, 112, 128)     73856     \n",
      "_________________________________________________________________\n",
      "conv2_2 (Conv2D)             (None, 112, 112, 128)     147584    \n",
      "_________________________________________________________________\n",
      "pool2 (MaxPooling2D)         (None, 56, 56, 128)       0         \n",
      "_________________________________________________________________\n",
      "conv3_1 (Conv2D)             (None, 56, 56, 256)       295168    \n",
      "_________________________________________________________________\n",
      "conv3_2 (Conv2D)             (None, 56, 56, 256)       590080    \n",
      "_________________________________________________________________\n",
      "conv3_3 (Conv2D)             (None, 56, 56, 256)       590080    \n",
      "_________________________________________________________________\n",
      "pool3 (MaxPooling2D)         (None, 28, 28, 256)       0         \n",
      "_________________________________________________________________\n",
      "conv4_1 (Conv2D)             (None, 28, 28, 512)       1180160   \n",
      "_________________________________________________________________\n",
      "conv4_2 (Conv2D)             (None, 28, 28, 512)       2359808   \n",
      "_________________________________________________________________\n",
      "conv4_3 (Conv2D)             (None, 28, 28, 512)       2359808   \n",
      "_________________________________________________________________\n",
      "pool4 (MaxPooling2D)         (None, 14, 14, 512)       0         \n",
      "_________________________________________________________________\n",
      "conv5_1 (Conv2D)             (None, 14, 14, 512)       2359808   \n",
      "_________________________________________________________________\n",
      "conv5_2 (Conv2D)             (None, 14, 14, 512)       2359808   \n",
      "_________________________________________________________________\n",
      "conv5_3 (Conv2D)             (None, 14, 14, 512)       2359808   \n",
      "_________________________________________________________________\n",
      "pool5 (MaxPooling2D)         (None, 7, 7, 512)         0         \n",
      "_________________________________________________________________\n",
      "flatten (Flatten)            (None, 25088)             0         \n",
      "_________________________________________________________________\n",
      "fc1 (Dense)                  (None, 2048)              51382272  \n",
      "_________________________________________________________________\n",
      "dense2 (Dense)               (None, 1)                 2049      \n",
      "=================================================================\n",
      "Total params: 66,099,009\n",
      "Trainable params: 66,099,009\n",
      "Non-trainable params: 0\n",
      "_________________________________________________________________\n"
     ]
    }
   ],
   "source": [
    "custom_vgg_model.summary()"
   ]
  },
  {
   "cell_type": "code",
   "execution_count": 11,
   "metadata": {
    "execution": {
     "iopub.execute_input": "2022-01-29T09:33:16.825334Z",
     "iopub.status.busy": "2022-01-29T09:33:16.825154Z",
     "iopub.status.idle": "2022-01-29T09:33:16.840291Z",
     "shell.execute_reply": "2022-01-29T09:33:16.839400Z",
     "shell.execute_reply.started": "2022-01-29T09:33:16.825312Z"
    }
   },
   "outputs": [
    {
     "name": "stderr",
     "output_type": "stream",
     "text": [
      "/opt/conda/lib/python3.7/site-packages/keras/optimizer_v2/optimizer_v2.py:356: UserWarning: The `lr` argument is deprecated, use `learning_rate` instead.\n",
      "  \"The `lr` argument is deprecated, use `learning_rate` instead.\")\n"
     ]
    }
   ],
   "source": [
    "from tensorflow.keras.optimizers import Adam\n",
    "opt = Adam(lr=0.0001)\n",
    "custom_vgg_model.compile(loss='binary_crossentropy',optimizer= opt, metrics=['accuracy'])"
   ]
  },
  {
   "cell_type": "code",
   "execution_count": 12,
   "metadata": {
    "execution": {
     "iopub.execute_input": "2022-01-29T09:33:16.842218Z",
     "iopub.status.busy": "2022-01-29T09:33:16.841495Z",
     "iopub.status.idle": "2022-01-29T09:33:16.847224Z",
     "shell.execute_reply": "2022-01-29T09:33:16.846411Z",
     "shell.execute_reply.started": "2022-01-29T09:33:16.842184Z"
    }
   },
   "outputs": [],
   "source": [
    "from keras.callbacks import ModelCheckpoint\n",
    "filepath = \"saved-final-model.h5\"\n",
    "checkpoint = ModelCheckpoint(filepath, monitor='val_accuracy', verbose=1, save_best_only=True, mode='max')\n",
    "callbacks_list = [checkpoint]"
   ]
  },
  {
   "cell_type": "code",
   "execution_count": 13,
   "metadata": {
    "execution": {
     "iopub.execute_input": "2022-01-29T09:33:16.849527Z",
     "iopub.status.busy": "2022-01-29T09:33:16.848234Z",
     "iopub.status.idle": "2022-01-29T12:52:27.122377Z",
     "shell.execute_reply": "2022-01-29T12:52:27.119637Z",
     "shell.execute_reply.started": "2022-01-29T09:33:16.849477Z"
    }
   },
   "outputs": [
    {
     "name": "stderr",
     "output_type": "stream",
     "text": [
      "/opt/conda/lib/python3.7/site-packages/keras/engine/training.py:1972: UserWarning: `Model.fit_generator` is deprecated and will be removed in a future version. Please use `Model.fit`, which supports generators.\n",
      "  warnings.warn('`Model.fit_generator` is deprecated and '\n",
      "2022-01-29 09:33:18.116990: I tensorflow/compiler/mlir/mlir_graph_optimization_pass.cc:185] None of the MLIR Optimization Passes are enabled (registered 2)\n"
     ]
    },
    {
     "name": "stdout",
     "output_type": "stream",
     "text": [
      "Epoch 1/10\n"
     ]
    },
    {
     "name": "stderr",
     "output_type": "stream",
     "text": [
      "2022-01-29 09:33:21.266047: I tensorflow/stream_executor/cuda/cuda_dnn.cc:369] Loaded cuDNN version 8005\n"
     ]
    },
    {
     "name": "stdout",
     "output_type": "stream",
     "text": [
      "1000/1000 [==============================] - 1527s 2s/step - loss: 0.3100 - accuracy: 0.8619 - val_loss: 0.2098 - val_accuracy: 0.9118\n",
      "\n",
      "Epoch 00001: val_accuracy improved from -inf to 0.91180, saving model to saved-final-model.h5\n",
      "Epoch 2/10\n",
      "1000/1000 [==============================] - 1264s 1s/step - loss: 0.1683 - accuracy: 0.9322 - val_loss: 0.1782 - val_accuracy: 0.9257\n",
      "\n",
      "Epoch 00002: val_accuracy improved from 0.91180 to 0.92570, saving model to saved-final-model.h5\n",
      "Epoch 3/10\n",
      "1000/1000 [==============================] - 1165s 1s/step - loss: 0.1311 - accuracy: 0.9480 - val_loss: 0.1315 - val_accuracy: 0.9460\n",
      "\n",
      "Epoch 00003: val_accuracy improved from 0.92570 to 0.94602, saving model to saved-final-model.h5\n",
      "Epoch 4/10\n",
      "1000/1000 [==============================] - 1125s 1s/step - loss: 0.1062 - accuracy: 0.9589 - val_loss: 0.1045 - val_accuracy: 0.9588\n",
      "\n",
      "Epoch 00004: val_accuracy improved from 0.94602 to 0.95883, saving model to saved-final-model.h5\n",
      "Epoch 5/10\n",
      "1000/1000 [==============================] - 1111s 1s/step - loss: 0.0930 - accuracy: 0.9630 - val_loss: 0.0957 - val_accuracy: 0.9621\n",
      "\n",
      "Epoch 00005: val_accuracy improved from 0.95883 to 0.96211, saving model to saved-final-model.h5\n",
      "Epoch 6/10\n",
      "1000/1000 [==============================] - 1140s 1s/step - loss: 0.0830 - accuracy: 0.9670 - val_loss: 0.1820 - val_accuracy: 0.9297\n",
      "\n",
      "Epoch 00006: val_accuracy did not improve from 0.96211\n",
      "Epoch 7/10\n",
      "1000/1000 [==============================] - 1120s 1s/step - loss: 0.0753 - accuracy: 0.9706 - val_loss: 0.0868 - val_accuracy: 0.9663\n",
      "\n",
      "Epoch 00007: val_accuracy improved from 0.96211 to 0.96633, saving model to saved-final-model.h5\n",
      "Epoch 8/10\n",
      "1000/1000 [==============================] - 1117s 1s/step - loss: 0.0698 - accuracy: 0.9736 - val_loss: 0.0804 - val_accuracy: 0.9710\n",
      "\n",
      "Epoch 00008: val_accuracy improved from 0.96633 to 0.97102, saving model to saved-final-model.h5\n",
      "Epoch 9/10\n",
      "1000/1000 [==============================] - 1113s 1s/step - loss: 0.0618 - accuracy: 0.9765 - val_loss: 0.1188 - val_accuracy: 0.9557\n",
      "\n",
      "Epoch 00009: val_accuracy did not improve from 0.97102\n",
      "Epoch 10/10\n",
      "1000/1000 [==============================] - 1124s 1s/step - loss: 0.0585 - accuracy: 0.9778 - val_loss: 0.0653 - val_accuracy: 0.9755\n",
      "\n",
      "Epoch 00010: val_accuracy improved from 0.97102 to 0.97555, saving model to saved-final-model.h5\n"
     ]
    }
   ],
   "source": [
    "train_steps = 100000//100\n",
    "valid_steps = 20000//100\n",
    "\n",
    "history = custom_vgg_model.fit_generator(\n",
    "    train_flow,\n",
    "    epochs =10,\n",
    "    callbacks= callbacks_list,\n",
    "    steps_per_epoch = train_steps,\n",
    "    validation_data = valid_flow,\n",
    "    validation_steps = valid_steps\n",
    ")"
   ]
  },
  {
   "cell_type": "code",
   "execution_count": 14,
   "metadata": {
    "execution": {
     "iopub.execute_input": "2022-01-29T12:52:27.130172Z",
     "iopub.status.busy": "2022-01-29T12:52:27.127978Z",
     "iopub.status.idle": "2022-01-29T12:52:27.519158Z",
     "shell.execute_reply": "2022-01-29T12:52:27.518417Z",
     "shell.execute_reply.started": "2022-01-29T12:52:27.130126Z"
    }
   },
   "outputs": [
    {
     "data": {
      "image/png": "[encoded data removed]",
      "text/plain": [
       "<Figure size 432x288 with 1 Axes>"
      ]
     },
     "metadata": {
      "needs_background": "light"
     },
     "output_type": "display_data"
    },
    {
     "data": {
      "image/png": "[encoded data removed]",
      "text/plain": [
       "<Figure size 432x288 with 1 Axes>"
      ]
     },
     "metadata": {
      "needs_background": "light"
     },
     "output_type": "display_data"
    }
   ],
   "source": [
    "plt.plot(history.history['loss'], label='train loss')\n",
    "plt.plot(history.history['val_loss'], label='val loss')\n",
    "plt.legend()\n",
    "plt.show()\n",
    "plt.savefig('LossVal_loss')\n",
    "\n",
    "# plot the accuracy\n",
    "plt.plot(history.history['accuracy'], label='train acc')\n",
    "plt.plot(history.history['val_accuracy'], label='val acc')\n",
    "plt.legend()\n",
    "plt.show()"
   ]
  },
  {
   "cell_type": "code",
   "execution_count": 15,
   "metadata": {
    "execution": {
     "iopub.execute_input": "2022-01-29T12:52:27.520821Z",
     "iopub.status.busy": "2022-01-29T12:52:27.520558Z",
     "iopub.status.idle": "2022-01-29T12:58:43.051395Z",
     "shell.execute_reply": "2022-01-29T12:58:43.050631Z",
     "shell.execute_reply.started": "2022-01-29T12:52:27.520787Z"
    }
   },
   "outputs": [],
   "source": [
    "y_pred = custom_vgg_model.predict(test_flow)\n",
    "y_test = test_flow.classes"
   ]
  },
  {
   "cell_type": "code",
   "execution_count": 16,
   "metadata": {
    "execution": {
     "iopub.execute_input": "2022-01-29T12:58:43.053181Z",
     "iopub.status.busy": "2022-01-29T12:58:43.052920Z",
     "iopub.status.idle": "2022-01-29T12:58:43.092598Z",
     "shell.execute_reply": "2022-01-29T12:58:43.091740Z",
     "shell.execute_reply.started": "2022-01-29T12:58:43.053147Z"
    }
   },
   "outputs": [
    {
     "name": "stdout",
     "output_type": "stream",
     "text": [
      "ROC AUC Score: 0.9971838599999999\n",
      "AP Score: 0.9970025363743111\n",
      "\n",
      "              precision    recall  f1-score   support\n",
      "\n",
      "           0       0.97      0.98      0.97     10000\n",
      "           1       0.98      0.97      0.97     10000\n",
      "\n",
      "    accuracy                           0.97     20000\n",
      "   macro avg       0.97      0.97      0.97     20000\n",
      "weighted avg       0.97      0.97      0.97     20000\n",
      "\n"
     ]
    }
   ],
   "source": [
    "from sklearn import metrics\n",
    "print(\"ROC AUC Score:\", metrics.roc_auc_score(y_test, y_pred))\n",
    "print(\"AP Score:\", metrics.average_precision_score(y_test, y_pred))\n",
    "print()\n",
    "print(metrics.classification_report(y_test, y_pred > 0.5))"
   ]
  },
  {
   "cell_type": "code",
   "execution_count": 17,
   "metadata": {
    "execution": {
     "iopub.execute_input": "2022-01-29T12:58:43.095744Z",
     "iopub.status.busy": "2022-01-29T12:58:43.095399Z",
     "iopub.status.idle": "2022-01-29T12:58:43.102482Z",
     "shell.execute_reply": "2022-01-29T12:58:43.101706Z",
     "shell.execute_reply.started": "2022-01-29T12:58:43.095706Z"
    }
   },
   "outputs": [
    {
     "data": {
      "text/plain": [
       "array([0, 0, 0, ..., 1, 1, 1], dtype=int32)"
      ]
     },
     "execution_count": 17,
     "metadata": {},
     "output_type": "execute_result"
    }
   ],
   "source": [
    "y_test1 = np.array(y_test)\n",
    "y_test1"
   ]
  },
  {
   "cell_type": "code",
   "execution_count": 18,
   "metadata": {
    "execution": {
     "iopub.execute_input": "2022-01-29T12:58:43.104772Z",
     "iopub.status.busy": "2022-01-29T12:58:43.104122Z",
     "iopub.status.idle": "2022-01-29T12:58:43.112623Z",
     "shell.execute_reply": "2022-01-29T12:58:43.111921Z",
     "shell.execute_reply.started": "2022-01-29T12:58:43.104693Z"
    }
   },
   "outputs": [
    {
     "data": {
      "text/plain": [
       "array([[0],\n",
       "       [0],\n",
       "       [0],\n",
       "       ...,\n",
       "       [1],\n",
       "       [1],\n",
       "       [1]])"
      ]
     },
     "execution_count": 18,
     "metadata": {},
     "output_type": "execute_result"
    }
   ],
   "source": [
    "y_pred1 = y_pred.copy()\n",
    "np.where(y_pred1 > 0.5, 1, 0)"
   ]
  },
  {
   "cell_type": "code",
   "execution_count": 19,
   "metadata": {
    "execution": {
     "iopub.execute_input": "2022-01-29T12:58:43.115708Z",
     "iopub.status.busy": "2022-01-29T12:58:43.113672Z",
     "iopub.status.idle": "2022-01-29T12:58:43.122923Z",
     "shell.execute_reply": "2022-01-29T12:58:43.122209Z",
     "shell.execute_reply.started": "2022-01-29T12:58:43.115670Z"
    }
   },
   "outputs": [
    {
     "data": {
      "text/plain": [
       "array([0, 0, 0, ..., 1, 1, 1])"
      ]
     },
     "execution_count": 19,
     "metadata": {},
     "output_type": "execute_result"
    }
   ],
   "source": [
    "y_pred2 = y_pred1.flatten()\n",
    "y_pred2 = np.where(y_pred2 > 0.5, 1, 0)\n",
    "y_pred2"
   ]
  },
  {
   "cell_type": "code",
   "execution_count": 20,
   "metadata": {
    "execution": {
     "iopub.execute_input": "2022-01-29T12:58:43.124999Z",
     "iopub.status.busy": "2022-01-29T12:58:43.124625Z",
     "iopub.status.idle": "2022-01-29T12:58:43.197489Z",
     "shell.execute_reply": "2022-01-29T12:58:43.196725Z",
     "shell.execute_reply.started": "2022-01-29T12:58:43.124966Z"
    }
   },
   "outputs": [
    {
     "name": "stdout",
     "output_type": "stream",
     "text": [
      "[[9827  173]\n",
      " [ 339 9661]]\n",
      "acc: 0.9744\n",
      "sensitivity: 0.9827\n",
      "specificity: 0.9661\n"
     ]
    }
   ],
   "source": [
    "from sklearn.metrics import confusion_matrix\n",
    "cm = confusion_matrix(y_test,y_pred2)\n",
    "total = sum(sum(cm))\n",
    "acc = (cm[0, 0] + cm[1, 1]) / total\n",
    "sensitivity = cm[0, 0] / (cm[0, 0] + cm[0, 1])\n",
    "specificity = cm[1, 1] / (cm[1, 0] + cm[1, 1])\n",
    "print(cm)\n",
    "print(\"acc: {:.4f}\".format(acc))\n",
    "print(\"sensitivity: {:.4f}\".format(sensitivity))\n",
    "print(\"specificity: {:.4f}\".format(specificity))"
   ]
  },
  {
   "cell_type": "code",
   "execution_count": 21,
   "metadata": {
    "execution": {
     "iopub.execute_input": "2022-01-29T12:58:43.199089Z",
     "iopub.status.busy": "2022-01-29T12:58:43.198852Z",
     "iopub.status.idle": "2022-01-29T12:58:43.512088Z",
     "shell.execute_reply": "2022-01-29T12:58:43.511387Z",
     "shell.execute_reply.started": "2022-01-29T12:58:43.199057Z"
    }
   },
   "outputs": [
    {
     "data": {
      "text/plain": [
       "<AxesSubplot:>"
      ]
     },
     "execution_count": 21,
     "metadata": {},
     "output_type": "execute_result"
    },
    {
     "data": {
      "image/png": "[encoded data removed]",
      "text/plain": [
       "<Figure size 432x288 with 2 Axes>"
      ]
     },
     "metadata": {
      "needs_background": "light"
     },
     "output_type": "display_data"
    }
   ],
   "source": [
    "import seaborn as sns\n",
    "sns.heatmap(cm,annot=True, fmt='g')"
   ]
  },
  {
   "cell_type": "code",
   "execution_count": 22,
   "metadata": {
    "execution": {
     "iopub.execute_input": "2022-01-29T12:58:43.514045Z",
     "iopub.status.busy": "2022-01-29T12:58:43.513584Z",
     "iopub.status.idle": "2022-01-29T12:58:43.519632Z",
     "shell.execute_reply": "2022-01-29T12:58:43.518851Z",
     "shell.execute_reply.started": "2022-01-29T12:58:43.514007Z"
    }
   },
   "outputs": [
    {
     "data": {
      "text/plain": [
       "{'fake': 0, 'real': 1}"
      ]
     },
     "execution_count": 22,
     "metadata": {},
     "output_type": "execute_result"
    }
   ],
   "source": [
    "train_flow.class_indices"
   ]
  },
  {
   "cell_type": "code",
   "execution_count": null,
   "metadata": {},
   "outputs": [],
   "source": []
  }
 ],
 "metadata": {
  "kernelspec": {
   "display_name": "Python 3",
   "language": "python",
   "name": "python3"
  },
  "language_info": {
   "codemirror_mode": {
    "name": "ipython",
    "version": 3
   },
   "file_extension": ".py",
   "mimetype": "text/x-python",
   "name": "python",
   "nbconvert_exporter": "python",
   "pygments_lexer": "ipython3",
   "version": "3.6.13"
  }
 },
 "nbformat": 4,
 "nbformat_minor": 4
}
