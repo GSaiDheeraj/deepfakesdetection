{
 "cells": [
  {
   "cell_type": "code",
   "execution_count": 4,
   "metadata": {
    "execution": {
     "iopub.execute_input": "2022-01-28T07:39:57.746403Z",
     "iopub.status.busy": "2022-01-28T07:39:57.746089Z",
     "iopub.status.idle": "2022-01-28T07:40:03.150188Z",
     "shell.execute_reply": "2022-01-28T07:40:03.149134Z",
     "shell.execute_reply.started": "2022-01-28T07:39:57.746371Z"
    }
   },
   "outputs": [],
   "source": [
    "import pandas as pd\n",
    "import numpy as np\n",
    "import glob\n",
    "import matplotlib.pyplot as plt\n",
    "import argparse\n",
    "import os\n",
    "from tensorflow.keras.preprocessing.image import ImageDataGenerator\n",
    "from tensorflow.keras.applications import VGG16\n",
    "from tensorflow.keras.layers import AveragePooling2D\n",
    "from tensorflow.keras.layers import Dropout\n",
    "from tensorflow.keras.layers import Flatten\n",
    "from tensorflow.keras.layers import Dense\n",
    "from tensorflow.keras.layers import Input\n",
    "from tensorflow.keras.models import Model\n",
    "from tensorflow.keras.optimizers import Adam\n",
    "from tensorflow.keras.utils import to_categorical\n",
    "from sklearn.preprocessing import LabelBinarizer\n",
    "from sklearn.model_selection import train_test_split"
   ]
  },
  {
   "cell_type": "code",
   "execution_count": 5,
   "metadata": {
    "execution": {
     "iopub.execute_input": "2022-01-28T07:40:11.874703Z",
     "iopub.status.busy": "2022-01-28T07:40:11.874413Z",
     "iopub.status.idle": "2022-01-28T07:40:11.886742Z",
     "shell.execute_reply": "2022-01-28T07:40:11.885729Z",
     "shell.execute_reply.started": "2022-01-28T07:40:11.874671Z"
    }
   },
   "outputs": [],
   "source": [
    "def get_random_eraser(p=0.5, s_l=0.02, s_h=0.4, r_1=0.3, r_2=1/0.3, v_l=0, v_h=255, pixel_level=False):\n",
    "    def eraser(input_img):\n",
    "        if input_img.ndim == 3:\n",
    "            img_h, img_w, img_c = input_img.shape\n",
    "        elif input_img.ndim == 2:\n",
    "            img_h, img_w = input_img.shape\n",
    "\n",
    "        p_1 = np.random.rand()\n",
    "\n",
    "        if p_1 > p:\n",
    "            return input_img\n",
    "\n",
    "        while True:\n",
    "            s = np.random.uniform(s_l, s_h) * img_h * img_w\n",
    "            r = np.random.uniform(r_1, r_2)\n",
    "            w = int(np.sqrt(s / r))\n",
    "            h = int(np.sqrt(s * r))\n",
    "            left = np.random.randint(0, img_w)\n",
    "            top = np.random.randint(0, img_h)\n",
    "\n",
    "            if left + w <= img_w and top + h <= img_h:\n",
    "                break\n",
    "\n",
    "        if pixel_level:\n",
    "            if input_img.ndim == 3:\n",
    "                c = np.random.uniform(v_l, v_h, (h, w, img_c))\n",
    "            if input_img.ndim == 2:\n",
    "                c = np.random.uniform(v_l, v_h, (h, w))\n",
    "        else:\n",
    "            c = np.random.uniform(v_l, v_h)\n",
    "\n",
    "        input_img[top:top + h, left:left + w] = c\n",
    "\n",
    "        return input_img\n",
    "\n",
    "    return eraser"
   ]
  },
  {
   "cell_type": "code",
   "execution_count": 6,
   "metadata": {
    "execution": {
     "iopub.execute_input": "2022-01-28T07:40:12.310732Z",
     "iopub.status.busy": "2022-01-28T07:40:12.310133Z",
     "iopub.status.idle": "2022-01-28T07:40:12.315790Z",
     "shell.execute_reply": "2022-01-28T07:40:12.314505Z",
     "shell.execute_reply.started": "2022-01-28T07:40:12.310695Z"
    }
   },
   "outputs": [],
   "source": [
    "base_path = \"../input/140k-real-and-fake-faces/real_vs_fake/real-vs-fake/\""
   ]
  },
  {
   "cell_type": "code",
   "execution_count": 7,
   "metadata": {
    "execution": {
     "iopub.execute_input": "2022-01-28T07:40:12.704589Z",
     "iopub.status.busy": "2022-01-28T07:40:12.704306Z",
     "iopub.status.idle": "2022-01-28T07:41:41.263509Z",
     "shell.execute_reply": "2022-01-28T07:41:41.261500Z",
     "shell.execute_reply.started": "2022-01-28T07:40:12.704557Z"
    }
   },
   "outputs": [
    {
     "name": "stdout",
     "output_type": "stream",
     "text": [
      "Found 100000 images belonging to 2 classes.\n",
      "Found 20000 images belonging to 2 classes.\n",
      "Found 20000 images belonging to 2 classes.\n"
     ]
    }
   ],
   "source": [
    "batch_size=64\n",
    "image_gen =  ImageDataGenerator(\n",
    "        rescale = 1./255.,\n",
    "        featurewise_center=False,  # set input mean to 0 over the dataset\n",
    "        samplewise_center=False,  # set each sample mean to 0\n",
    "        featurewise_std_normalization=False,  # divide inputs by std of the dataset\n",
    "        samplewise_std_normalization=False,  # divide each input by its std\n",
    "        zca_whitening=False,  # apply ZCA whitening\n",
    "        rotation_range=0,  # randomly rotate images in the range (degrees, 0 to 180)\n",
    "        width_shift_range=0.1,  # randomly shift images horizontally (fraction of total width)\n",
    "        height_shift_range=0.1,  # randomly shift images vertically (fraction of total height)\n",
    "        horizontal_flip=True,  # randomly flip images\n",
    "        vertical_flip=False,  # randomly flip images\n",
    "        preprocessing_function=get_random_eraser(v_l=0, v_h=1, pixel_level=False))\n",
    "\n",
    "\n",
    "train_flow= image_gen.flow_from_directory(\n",
    "    base_path + 'train/',\n",
    "    target_size = (224, 224),\n",
    "    batch_size = batch_size,\n",
    "    color_mode='grayscale',\n",
    "    class_mode ='binary'\n",
    ")\n",
    "valid_flow = image_gen.flow_from_directory(\n",
    "    base_path + 'valid/',\n",
    "    target_size = (224, 224),\n",
    "    batch_size = batch_size,\n",
    "    color_mode='grayscale',\n",
    "    class_mode = 'binary'\n",
    ")\n",
    "test_flow = image_gen.flow_from_directory(\n",
    "    base_path + 'test/',\n",
    "    target_size = (224, 224),\n",
    "    batch_size = 1,\n",
    "    shuffle = False,\n",
    "    color_mode='grayscale',\n",
    "    class_mode ='binary'\n",
    ")"
   ]
  },
  {
   "cell_type": "code",
   "execution_count": 8,
   "metadata": {
    "execution": {
     "iopub.execute_input": "2022-01-28T07:41:41.266102Z",
     "iopub.status.busy": "2022-01-28T07:41:41.265660Z",
     "iopub.status.idle": "2022-01-28T07:41:41.274019Z",
     "shell.execute_reply": "2022-01-28T07:41:41.272948Z",
     "shell.execute_reply.started": "2022-01-28T07:41:41.266052Z"
    }
   },
   "outputs": [],
   "source": [
    "from tensorflow.keras import layers\n",
    "from tensorflow.keras.applications import DenseNet121\n",
    "from tensorflow.keras.callbacks import Callback, ModelCheckpoint\n",
    "from tensorflow.keras.preprocessing.image import ImageDataGenerator\n",
    "from tensorflow.keras.models import Sequential, Model, load_model\n",
    "from tensorflow.keras.optimizers import Adam"
   ]
  },
  {
   "cell_type": "code",
   "execution_count": 9,
   "metadata": {
    "execution": {
     "iopub.execute_input": "2022-01-28T07:41:41.276686Z",
     "iopub.status.busy": "2022-01-28T07:41:41.275962Z",
     "iopub.status.idle": "2022-01-28T07:41:41.285675Z",
     "shell.execute_reply": "2022-01-28T07:41:41.284583Z",
     "shell.execute_reply.started": "2022-01-28T07:41:41.276640Z"
    }
   },
   "outputs": [],
   "source": [
    "def build_model(pretrained):\n",
    "    model = Sequential([\n",
    "        pretrained,\n",
    "        layers.GlobalAveragePooling2D(),\n",
    "        layers.Dense(1, activation='sigmoid')\n",
    "    ])\n",
    "    \n",
    "    model.compile(\n",
    "        loss='binary_crossentropy',\n",
    "        optimizer=Adam(),\n",
    "        metrics=['accuracy']\n",
    "    )\n",
    "    \n",
    "    return mode"
   ]
  },
  {
   "cell_type": "code",
   "execution_count": 10,
   "metadata": {
    "execution": {
     "iopub.execute_input": "2022-01-28T07:41:41.289011Z",
     "iopub.status.busy": "2022-01-28T07:41:41.288564Z",
     "iopub.status.idle": "2022-01-28T07:41:48.244291Z",
     "shell.execute_reply": "2022-01-28T07:41:48.243321Z",
     "shell.execute_reply.started": "2022-01-28T07:41:41.288957Z"
    }
   },
   "outputs": [
    {
     "name": "stderr",
     "output_type": "stream",
     "text": [
      "2022-01-28 07:41:41.419803: I tensorflow/stream_executor/cuda/cuda_gpu_executor.cc:937] successful NUMA node read from SysFS had negative value (-1), but there must be at least one NUMA node, so returning NUMA node zero\n",
      "2022-01-28 07:41:41.540497: I tensorflow/stream_executor/cuda/cuda_gpu_executor.cc:937] successful NUMA node read from SysFS had negative value (-1), but there must be at least one NUMA node, so returning NUMA node zero\n",
      "2022-01-28 07:41:41.541709: I tensorflow/stream_executor/cuda/cuda_gpu_executor.cc:937] successful NUMA node read from SysFS had negative value (-1), but there must be at least one NUMA node, so returning NUMA node zero\n",
      "2022-01-28 07:41:41.543450: I tensorflow/core/platform/cpu_feature_guard.cc:142] This TensorFlow binary is optimized with oneAPI Deep Neural Network Library (oneDNN) to use the following CPU instructions in performance-critical operations:  AVX2 FMA\n",
      "To enable them in other operations, rebuild TensorFlow with the appropriate compiler flags.\n",
      "2022-01-28 07:41:41.544844: I tensorflow/stream_executor/cuda/cuda_gpu_executor.cc:937] successful NUMA node read from SysFS had negative value (-1), but there must be at least one NUMA node, so returning NUMA node zero\n",
      "2022-01-28 07:41:41.546087: I tensorflow/stream_executor/cuda/cuda_gpu_executor.cc:937] successful NUMA node read from SysFS had negative value (-1), but there must be at least one NUMA node, so returning NUMA node zero\n",
      "2022-01-28 07:41:41.547161: I tensorflow/stream_executor/cuda/cuda_gpu_executor.cc:937] successful NUMA node read from SysFS had negative value (-1), but there must be at least one NUMA node, so returning NUMA node zero\n",
      "2022-01-28 07:41:43.906536: I tensorflow/stream_executor/cuda/cuda_gpu_executor.cc:937] successful NUMA node read from SysFS had negative value (-1), but there must be at least one NUMA node, so returning NUMA node zero\n",
      "2022-01-28 07:41:43.907641: I tensorflow/stream_executor/cuda/cuda_gpu_executor.cc:937] successful NUMA node read from SysFS had negative value (-1), but there must be at least one NUMA node, so returning NUMA node zero\n",
      "2022-01-28 07:41:43.908701: I tensorflow/stream_executor/cuda/cuda_gpu_executor.cc:937] successful NUMA node read from SysFS had negative value (-1), but there must be at least one NUMA node, so returning NUMA node zero\n",
      "2022-01-28 07:41:43.909653: I tensorflow/core/common_runtime/gpu/gpu_device.cc:1510] Created device /job:localhost/replica:0/task:0/device:GPU:0 with 15403 MB memory:  -> device: 0, name: Tesla P100-PCIE-16GB, pci bus id: 0000:00:04.0, compute capability: 6.0\n"
     ]
    }
   ],
   "source": [
    "densenet = DenseNet121( weights=None, include_top=False, input_shape=(224,224,1) )\n",
    "model = Sequential([ \n",
    "        densenet,\n",
    "        layers.GlobalAveragePooling2D(),\n",
    "        layers.Dense(1, activation='sigmoid')\n",
    "    ])"
   ]
  },
  {
   "cell_type": "code",
   "execution_count": 11,
   "metadata": {
    "execution": {
     "iopub.execute_input": "2022-01-28T07:41:48.246092Z",
     "iopub.status.busy": "2022-01-28T07:41:48.245746Z",
     "iopub.status.idle": "2022-01-28T07:41:48.288673Z",
     "shell.execute_reply": "2022-01-28T07:41:48.287520Z",
     "shell.execute_reply.started": "2022-01-28T07:41:48.246037Z"
    }
   },
   "outputs": [
    {
     "name": "stdout",
     "output_type": "stream",
     "text": [
      "Model: \"sequential\"\n",
      "_________________________________________________________________\n",
      "Layer (type)                 Output Shape              Param #   \n",
      "=================================================================\n",
      "densenet121 (Functional)     (None, 7, 7, 1024)        7031232   \n",
      "_________________________________________________________________\n",
      "global_average_pooling2d (Gl (None, 1024)              0         \n",
      "_________________________________________________________________\n",
      "dense (Dense)                (None, 1)                 1025      \n",
      "=================================================================\n",
      "Total params: 7,032,257\n",
      "Trainable params: 6,948,609\n",
      "Non-trainable params: 83,648\n",
      "_________________________________________________________________\n"
     ]
    }
   ],
   "source": [
    "model.summary()"
   ]
  },
  {
   "cell_type": "code",
   "execution_count": 13,
   "metadata": {
    "execution": {
     "iopub.execute_input": "2022-01-28T07:42:36.686864Z",
     "iopub.status.busy": "2022-01-28T07:42:36.686551Z",
     "iopub.status.idle": "2022-01-28T07:42:36.711577Z",
     "shell.execute_reply": "2022-01-28T07:42:36.710417Z",
     "shell.execute_reply.started": "2022-01-28T07:42:36.686831Z"
    }
   },
   "outputs": [
    {
     "name": "stderr",
     "output_type": "stream",
     "text": [
      "/opt/conda/lib/python3.7/site-packages/keras/optimizer_v2/optimizer_v2.py:356: UserWarning: The `lr` argument is deprecated, use `learning_rate` instead.\n",
      "  \"The `lr` argument is deprecated, use `learning_rate` instead.\")\n"
     ]
    }
   ],
   "source": [
    "from tensorflow.keras.optimizers import Adam\n",
    "opt = Adam(lr=0.0001)\n",
    "model.compile(loss='binary_crossentropy',optimizer= opt, metrics=['accuracy'])"
   ]
  },
  {
   "cell_type": "code",
   "execution_count": 14,
   "metadata": {
    "execution": {
     "iopub.execute_input": "2022-01-28T07:42:39.917786Z",
     "iopub.status.busy": "2022-01-28T07:42:39.917504Z",
     "iopub.status.idle": "2022-01-28T07:42:39.923908Z",
     "shell.execute_reply": "2022-01-28T07:42:39.922656Z",
     "shell.execute_reply.started": "2022-01-28T07:42:39.917754Z"
    }
   },
   "outputs": [],
   "source": [
    "from keras.callbacks import ModelCheckpoint\n",
    "filepath = \"saved-final-model.h5\"\n",
    "checkpoint = ModelCheckpoint(filepath, monitor='val_accuracy', verbose=1, save_best_only=True, mode='max')\n",
    "callbacks_list = [checkpoint]"
   ]
  },
  {
   "cell_type": "code",
   "execution_count": 16,
   "metadata": {
    "execution": {
     "iopub.execute_input": "2022-01-28T08:00:00.524204Z",
     "iopub.status.busy": "2022-01-28T08:00:00.523263Z",
     "iopub.status.idle": "2022-01-28T10:38:07.165287Z",
     "shell.execute_reply": "2022-01-28T10:38:07.155557Z",
     "shell.execute_reply.started": "2022-01-28T08:00:00.524107Z"
    }
   },
   "outputs": [
    {
     "name": "stdout",
     "output_type": "stream",
     "text": [
      "Epoch 1/15\n",
      "1000/1000 [==============================] - 740s 740ms/step - loss: 0.4831 - accuracy: 0.7667 - val_loss: 0.6331 - val_accuracy: 0.6701\n",
      "\n",
      "Epoch 00001: val_accuracy improved from 0.66094 to 0.67008, saving model to saved-final-model.h5\n",
      "Epoch 2/15\n",
      "1000/1000 [==============================] - 653s 653ms/step - loss: 0.4041 - accuracy: 0.8145 - val_loss: 0.4939 - val_accuracy: 0.7598\n",
      "\n",
      "Epoch 00002: val_accuracy improved from 0.67008 to 0.75977, saving model to saved-final-model.h5\n",
      "Epoch 3/15\n",
      "1000/1000 [==============================] - 628s 628ms/step - loss: 0.3511 - accuracy: 0.8427 - val_loss: 0.5047 - val_accuracy: 0.7791\n",
      "\n",
      "Epoch 00003: val_accuracy improved from 0.75977 to 0.77914, saving model to saved-final-model.h5\n",
      "Epoch 4/15\n",
      "1000/1000 [==============================] - 615s 614ms/step - loss: 0.3109 - accuracy: 0.8643 - val_loss: 0.9923 - val_accuracy: 0.6103\n",
      "\n",
      "Epoch 00004: val_accuracy did not improve from 0.77914\n",
      "Epoch 5/15\n",
      "1000/1000 [==============================] - 611s 611ms/step - loss: 0.2776 - accuracy: 0.8810 - val_loss: 1.1458 - val_accuracy: 0.6585\n",
      "\n",
      "Epoch 00005: val_accuracy did not improve from 0.77914\n",
      "Epoch 6/15\n",
      "1000/1000 [==============================] - 610s 610ms/step - loss: 0.2523 - accuracy: 0.8926 - val_loss: 0.4173 - val_accuracy: 0.8137\n",
      "\n",
      "Epoch 00006: val_accuracy improved from 0.77914 to 0.81367, saving model to saved-final-model.h5\n",
      "Epoch 7/15\n",
      "1000/1000 [==============================] - 614s 614ms/step - loss: 0.2300 - accuracy: 0.9047 - val_loss: 0.6717 - val_accuracy: 0.7423\n",
      "\n",
      "Epoch 00007: val_accuracy did not improve from 0.81367\n",
      "Epoch 8/15\n",
      "1000/1000 [==============================] - 614s 613ms/step - loss: 0.2103 - accuracy: 0.9130 - val_loss: 0.6009 - val_accuracy: 0.7700\n",
      "\n",
      "Epoch 00008: val_accuracy did not improve from 0.81367\n",
      "Epoch 9/15\n",
      "1000/1000 [==============================] - 613s 613ms/step - loss: 0.1970 - accuracy: 0.9189 - val_loss: 0.7379 - val_accuracy: 0.7391\n",
      "\n",
      "Epoch 00009: val_accuracy did not improve from 0.81367\n",
      "Epoch 10/15\n",
      "1000/1000 [==============================] - 611s 610ms/step - loss: 0.1862 - accuracy: 0.9238 - val_loss: 0.2188 - val_accuracy: 0.9077\n",
      "\n",
      "Epoch 00010: val_accuracy improved from 0.81367 to 0.90773, saving model to saved-final-model.h5\n",
      "Epoch 11/15\n",
      "1000/1000 [==============================] - 609s 609ms/step - loss: 0.1714 - accuracy: 0.9298 - val_loss: 0.4099 - val_accuracy: 0.8434\n",
      "\n",
      "Epoch 00011: val_accuracy did not improve from 0.90773\n",
      "Epoch 12/15\n",
      "1000/1000 [==============================] - 615s 615ms/step - loss: 0.1655 - accuracy: 0.9336 - val_loss: 0.2456 - val_accuracy: 0.9030\n",
      "\n",
      "Epoch 00012: val_accuracy did not improve from 0.90773\n",
      "Epoch 13/15\n",
      "1000/1000 [==============================] - 614s 613ms/step - loss: 0.1529 - accuracy: 0.9369 - val_loss: 0.2344 - val_accuracy: 0.8996\n",
      "\n",
      "Epoch 00013: val_accuracy did not improve from 0.90773\n",
      "Epoch 14/15\n",
      "1000/1000 [==============================] - 613s 612ms/step - loss: 0.1500 - accuracy: 0.9395 - val_loss: 0.2218 - val_accuracy: 0.9102\n",
      "\n",
      "Epoch 00014: val_accuracy improved from 0.90773 to 0.91016, saving model to saved-final-model.h5\n",
      "Epoch 15/15\n",
      "1000/1000 [==============================] - 615s 615ms/step - loss: 0.1392 - accuracy: 0.9438 - val_loss: 0.3528 - val_accuracy: 0.8629\n",
      "\n",
      "Epoch 00015: val_accuracy did not improve from 0.91016\n"
     ]
    }
   ],
   "source": [
    "train_steps = 100000//100\n",
    "valid_steps = 20000//100\n",
    "\n",
    "history = model.fit_generator(\n",
    "    train_flow,\n",
    "    epochs =15,\n",
    "    callbacks= callbacks_list,\n",
    "    steps_per_epoch = train_steps,\n",
    "    validation_data = valid_flow,\n",
    "    validation_steps = valid_steps\n",
    ")"
   ]
  },
  {
   "cell_type": "code",
   "execution_count": 17,
   "metadata": {
    "execution": {
     "iopub.execute_input": "2022-01-28T10:40:41.638638Z",
     "iopub.status.busy": "2022-01-28T10:40:41.638314Z",
     "iopub.status.idle": "2022-01-28T10:40:42.138055Z",
     "shell.execute_reply": "2022-01-28T10:40:42.137100Z",
     "shell.execute_reply.started": "2022-01-28T10:40:41.638606Z"
    }
   },
   "outputs": [
    {
     "data": {
      "image/png": "[encoded data removed]",
      "text/plain": [
       "<Figure size 432x288 with 1 Axes>"
      ]
     },
     "metadata": {
      "needs_background": "light"
     },
     "output_type": "display_data"
    },
    {
     "data": {
      "image/png": "[encoded data removed]",
      "text/plain": [
       "<Figure size 432x288 with 1 Axes>"
      ]
     },
     "metadata": {
      "needs_background": "light"
     },
     "output_type": "display_data"
    }
   ],
   "source": [
    "plt.plot(history.history['loss'], label='train loss')\n",
    "plt.plot(history.history['val_loss'], label='val loss')\n",
    "plt.legend()\n",
    "plt.show()\n",
    "plt.savefig('LossVal_loss')\n",
    "\n",
    "# plot the accuracy\n",
    "plt.plot(history.history['accuracy'], label='train acc')\n",
    "plt.plot(history.history['val_accuracy'], label='val acc')\n",
    "plt.legend()\n",
    "plt.show()"
   ]
  },
  {
   "cell_type": "code",
   "execution_count": 18,
   "metadata": {
    "execution": {
     "iopub.execute_input": "2022-01-28T10:40:52.396182Z",
     "iopub.status.busy": "2022-01-28T10:40:52.395849Z",
     "iopub.status.idle": "2022-01-28T10:51:05.650875Z",
     "shell.execute_reply": "2022-01-28T10:51:05.649880Z",
     "shell.execute_reply.started": "2022-01-28T10:40:52.396149Z"
    }
   },
   "outputs": [],
   "source": [
    "y_pred = model.predict(test_flow)\n",
    "y_test = test_flow.classes"
   ]
  },
  {
   "cell_type": "code",
   "execution_count": 19,
   "metadata": {
    "execution": {
     "iopub.execute_input": "2022-01-28T10:51:05.653405Z",
     "iopub.status.busy": "2022-01-28T10:51:05.653058Z",
     "iopub.status.idle": "2022-01-28T10:51:05.658184Z",
     "shell.execute_reply": "2022-01-28T10:51:05.657145Z",
     "shell.execute_reply.started": "2022-01-28T10:51:05.653360Z"
    }
   },
   "outputs": [],
   "source": [
    "from sklearn import metrics"
   ]
  },
  {
   "cell_type": "code",
   "execution_count": 20,
   "metadata": {
    "execution": {
     "iopub.execute_input": "2022-01-28T10:51:05.660487Z",
     "iopub.status.busy": "2022-01-28T10:51:05.659870Z",
     "iopub.status.idle": "2022-01-28T10:51:05.711656Z",
     "shell.execute_reply": "2022-01-28T10:51:05.710582Z",
     "shell.execute_reply.started": "2022-01-28T10:51:05.660441Z"
    }
   },
   "outputs": [
    {
     "name": "stdout",
     "output_type": "stream",
     "text": [
      "ROC AUC Score: 0.9692447399999999\n",
      "AP Score: 0.9688932232678242\n",
      "\n",
      "              precision    recall  f1-score   support\n",
      "\n",
      "           0       0.97      0.76      0.85     10000\n",
      "           1       0.80      0.98      0.88     10000\n",
      "\n",
      "    accuracy                           0.87     20000\n",
      "   macro avg       0.88      0.87      0.86     20000\n",
      "weighted avg       0.88      0.87      0.86     20000\n",
      "\n"
     ]
    }
   ],
   "source": [
    "print(\"ROC AUC Score:\", metrics.roc_auc_score(y_test, y_pred))\n",
    "print(\"AP Score:\", metrics.average_precision_score(y_test, y_pred))\n",
    "print()\n",
    "print(metrics.classification_report(y_test, y_pred > 0.5))"
   ]
  },
  {
   "cell_type": "code",
   "execution_count": 21,
   "metadata": {
    "execution": {
     "iopub.execute_input": "2022-01-28T10:51:05.715292Z",
     "iopub.status.busy": "2022-01-28T10:51:05.714777Z",
     "iopub.status.idle": "2022-01-28T10:51:05.723138Z",
     "shell.execute_reply": "2022-01-28T10:51:05.721838Z",
     "shell.execute_reply.started": "2022-01-28T10:51:05.715232Z"
    }
   },
   "outputs": [
    {
     "data": {
      "text/plain": [
       "array([0, 0, 0, ..., 1, 1, 1], dtype=int32)"
      ]
     },
     "execution_count": 21,
     "metadata": {},
     "output_type": "execute_result"
    }
   ],
   "source": [
    "y_test1 = np.array(y_test)\n",
    "y_test1"
   ]
  },
  {
   "cell_type": "code",
   "execution_count": 22,
   "metadata": {
    "execution": {
     "iopub.execute_input": "2022-01-28T10:51:05.725762Z",
     "iopub.status.busy": "2022-01-28T10:51:05.725109Z",
     "iopub.status.idle": "2022-01-28T10:51:05.737158Z",
     "shell.execute_reply": "2022-01-28T10:51:05.735951Z",
     "shell.execute_reply.started": "2022-01-28T10:51:05.725711Z"
    }
   },
   "outputs": [
    {
     "data": {
      "text/plain": [
       "array([[1],\n",
       "       [0],\n",
       "       [1],\n",
       "       ...,\n",
       "       [0],\n",
       "       [1],\n",
       "       [1]])"
      ]
     },
     "execution_count": 22,
     "metadata": {},
     "output_type": "execute_result"
    }
   ],
   "source": [
    "y_pred1 = y_pred.copy()\n",
    "np.where(y_pred1 > 0.5, 1, 0)"
   ]
  },
  {
   "cell_type": "code",
   "execution_count": 23,
   "metadata": {
    "execution": {
     "iopub.execute_input": "2022-01-28T10:51:05.739732Z",
     "iopub.status.busy": "2022-01-28T10:51:05.739131Z",
     "iopub.status.idle": "2022-01-28T10:51:05.749328Z",
     "shell.execute_reply": "2022-01-28T10:51:05.748176Z",
     "shell.execute_reply.started": "2022-01-28T10:51:05.739685Z"
    }
   },
   "outputs": [
    {
     "data": {
      "text/plain": [
       "array([1, 0, 1, ..., 0, 1, 1])"
      ]
     },
     "execution_count": 23,
     "metadata": {},
     "output_type": "execute_result"
    }
   ],
   "source": [
    "y_pred2 = y_pred1.flatten()\n",
    "y_pred2 = np.where(y_pred2 > 0.5, 1, 0)\n",
    "y_pred2"
   ]
  },
  {
   "cell_type": "code",
   "execution_count": 24,
   "metadata": {
    "execution": {
     "iopub.execute_input": "2022-01-28T10:51:05.754067Z",
     "iopub.status.busy": "2022-01-28T10:51:05.751620Z",
     "iopub.status.idle": "2022-01-28T10:51:05.842646Z",
     "shell.execute_reply": "2022-01-28T10:51:05.841588Z",
     "shell.execute_reply.started": "2022-01-28T10:51:05.754019Z"
    }
   },
   "outputs": [
    {
     "name": "stdout",
     "output_type": "stream",
     "text": [
      "[[7557 2443]\n",
      " [ 238 9762]]\n",
      "acc: 0.8659\n",
      "sensitivity: 0.7557\n",
      "specificity: 0.9762\n"
     ]
    }
   ],
   "source": [
    "from sklearn.metrics import confusion_matrix\n",
    "cm = confusion_matrix(y_test,y_pred2)\n",
    "total = sum(sum(cm))\n",
    "acc = (cm[0, 0] + cm[1, 1]) / total\n",
    "sensitivity = cm[0, 0] / (cm[0, 0] + cm[0, 1])\n",
    "specificity = cm[1, 1] / (cm[1, 0] + cm[1, 1])\n",
    "print(cm)\n",
    "print(\"acc: {:.4f}\".format(acc))\n",
    "print(\"sensitivity: {:.4f}\".format(sensitivity))\n",
    "print(\"specificity: {:.4f}\".format(specificity))"
   ]
  },
  {
   "cell_type": "code",
   "execution_count": 25,
   "metadata": {
    "execution": {
     "iopub.execute_input": "2022-01-28T10:51:05.844867Z",
     "iopub.status.busy": "2022-01-28T10:51:05.844512Z",
     "iopub.status.idle": "2022-01-28T10:51:06.237916Z",
     "shell.execute_reply": "2022-01-28T10:51:06.236944Z",
     "shell.execute_reply.started": "2022-01-28T10:51:05.844820Z"
    }
   },
   "outputs": [
    {
     "data": {
      "text/plain": [
       "<AxesSubplot:>"
      ]
     },
     "execution_count": 25,
     "metadata": {},
     "output_type": "execute_result"
    },
    {
     "data": {
      "image/png": "[encoded data removed]",
      "text/plain": [
       "<Figure size 432x288 with 2 Axes>"
      ]
     },
     "metadata": {
      "needs_background": "light"
     },
     "output_type": "display_data"
    }
   ],
   "source": [
    "import seaborn as sns\n",
    "sns.heatmap(cm,annot=True, fmt='g')"
   ]
  },
  {
   "cell_type": "code",
   "execution_count": 1,
   "metadata": {
    "execution": {
     "iopub.execute_input": "2022-01-28T12:05:11.292616Z",
     "iopub.status.busy": "2022-01-28T12:05:11.292341Z",
     "iopub.status.idle": "2022-01-28T12:05:11.373523Z",
     "shell.execute_reply": "2022-01-28T12:05:11.372603Z",
     "shell.execute_reply.started": "2022-01-28T12:05:11.292538Z"
    }
   },
   "outputs": [
    {
     "ename": "NameError",
     "evalue": "name 'train_flow' is not defined",
     "output_type": "error",
     "traceback": [
      "\u001b[0;31m---------------------------------------------------------------------------\u001b[0m",
      "\u001b[0;31mNameError\u001b[0m                                 Traceback (most recent call last)",
      "\u001b[0;32m/tmp/ipykernel_34/3808551444.py\u001b[0m in \u001b[0;36m<module>\u001b[0;34m\u001b[0m\n\u001b[0;32m----> 1\u001b[0;31m \u001b[0mtrain_flow\u001b[0m\u001b[0;34m.\u001b[0m\u001b[0mclass_indices\u001b[0m\u001b[0;34m\u001b[0m\u001b[0;34m\u001b[0m\u001b[0m\n\u001b[0m",
      "\u001b[0;31mNameError\u001b[0m: name 'train_flow' is not defined"
     ]
    }
   ],
   "source": [
    "train_flow.class_indices"
   ]
  },
  {
   "cell_type": "code",
   "execution_count": null,
   "metadata": {},
   "outputs": [],
   "source": []
  }
 ],
 "metadata": {
  "kernelspec": {
   "display_name": "Python 3",
   "language": "python",
   "name": "python3"
  },
  "language_info": {
   "codemirror_mode": {
    "name": "ipython",
    "version": 3
   },
   "file_extension": ".py",
   "mimetype": "text/x-python",
   "name": "python",
   "nbconvert_exporter": "python",
   "pygments_lexer": "ipython3",
   "version": "3.6.13"
  }
 },
 "nbformat": 4,
 "nbformat_minor": 4
}
